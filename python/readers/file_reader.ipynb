{
 "cells": [
  {
   "cell_type": "markdown",
   "metadata": {},
   "source": [
    "# File Reader\n",
    "\n",
    "Created by Michael George (AKA Logiqx)\n",
    "\n",
    "Website: https://logiqx.github.io/gps-wizard/"
   ]
  },
  {
   "cell_type": "code",
   "execution_count": 1,
   "metadata": {},
   "outputs": [],
   "source": [
    "import unittest"
   ]
  },
  {
   "cell_type": "markdown",
   "metadata": {},
   "source": [
    "## Main Class"
   ]
  },
  {
   "cell_type": "code",
   "execution_count": 2,
   "metadata": {},
   "outputs": [],
   "source": [
    "class FileReader():\n",
    "    '''File Reader - Generic Class'''\n",
    "\n",
    "    def __init__(self, filename):\n",
    "        '''Basic init just records the filename'''\n",
    "\n",
    "        self.filename = filename\n",
    "\n",
    "        self.header = {}\n",
    "        self.data = {}\n",
    "\n",
    "        self.numRecords = 0"
   ]
  },
  {
   "cell_type": "markdown",
   "metadata": {},
   "source": [
    "## Unit Tests"
   ]
  },
  {
   "cell_type": "code",
   "execution_count": 3,
   "metadata": {},
   "outputs": [],
   "source": [
    "class TestInit(unittest.TestCase):\n",
    "    '''Class to test init'''\n",
    "\n",
    "    def testFilename(self):\n",
    "        '''Test the filename is as expected'''\n",
    "\n",
    "        self.assertEqual(fileReader.filename, 'test.gpx')\n",
    "\n",
    "\n",
    "    def testHeader(self):\n",
    "        '''Test the header is as expected'''\n",
    "\n",
    "        self.assertEqual(fileReader.header, {})\n",
    "\n",
    "\n",
    "    def testData(self):\n",
    "        '''Test the data is as expected'''\n",
    "\n",
    "        self.assertEqual(fileReader.data, {})\n",
    "\n",
    "\n",
    "    def testNumRecords(self):\n",
    "        '''Test the number of records is zero'''\n",
    "\n",
    "        self.assertEqual(fileReader.numRecords, 0)"
   ]
  },
  {
   "cell_type": "code",
   "execution_count": 4,
   "metadata": {},
   "outputs": [
    {
     "name": "stderr",
     "output_type": "stream",
     "text": [
      "....\n",
      "----------------------------------------------------------------------\n",
      "Ran 4 tests in 0.002s\n",
      "\n",
      "OK\n"
     ]
    }
   ],
   "source": [
    "if __name__ == '__main__':\n",
    "    # Determine whether session is interactive or batch to facilitate unittest.main(..., exit=testExit)\n",
    "    import __main__ as main\n",
    "    testExit = hasattr(main, '__file__')\n",
    "\n",
    "    fileReader = FileReader('test.gpx')\n",
    "\n",
    "    unittest.main(argv=['first-arg-is-ignored'], exit=testExit)"
   ]
  },
  {
   "cell_type": "code",
   "execution_count": null,
   "metadata": {},
   "outputs": [],
   "source": []
  }
 ],
 "metadata": {
  "kernelspec": {
   "display_name": "Python 3 (ipykernel)",
   "language": "python",
   "name": "python3"
  },
  "language_info": {
   "codemirror_mode": {
    "name": "ipython",
    "version": 3
   },
   "file_extension": ".py",
   "mimetype": "text/x-python",
   "name": "python",
   "nbconvert_exporter": "python",
   "pygments_lexer": "ipython3",
   "version": "3.9.7"
  }
 },
 "nbformat": 4,
 "nbformat_minor": 2
}
