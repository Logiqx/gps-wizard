{
 "cells": [
  {
   "cell_type": "markdown",
   "metadata": {},
   "source": [
    "# Generic Reader\n",
    "\n",
    "Created by Michael George (AKA Logiqx)\n",
    "\n",
    "Website: https://logiqx.github.io/gps-wizard/"
   ]
  },
  {
   "cell_type": "code",
   "execution_count": 1,
   "metadata": {},
   "outputs": [],
   "source": [
    "import sys\n",
    "import os\n",
    "\n",
    "import unittest\n",
    "\n",
    "from fit_reader import FitReader\n",
    "from gpx_reader import GpxReader\n",
    "from nmea_reader import NmeaReader\n",
    "from oao_reader import OaoReader\n",
    "from sbn_reader import SbnReader\n",
    "from sbp_reader import SbpReader\n",
    "from ubx_reader import UbxReader"
   ]
  },
  {
   "cell_type": "markdown",
   "metadata": {},
   "source": [
    "## Main Method"
   ]
  },
  {
   "cell_type": "code",
   "execution_count": 2,
   "metadata": {},
   "outputs": [],
   "source": [
    "def getReader(filename):\n",
    "    '''Determine file type and return appropriate file reader'''\n",
    "\n",
    "    ext = os.path.splitext(filename)[1].lower()\n",
    "\n",
    "    if ext == '.fit':\n",
    "        reader = FitReader(filename)\n",
    "    elif ext == '.gpx':\n",
    "        reader = GpxReader(filename)\n",
    "    elif ext in ('.nmea', '.txt'):\n",
    "        reader = NmeaReader(filename)\n",
    "    elif ext == '.oao':\n",
    "        reader = OaoReader(filename)\n",
    "    elif ext == '.sbn':\n",
    "        reader = SbnReader(filename)\n",
    "    elif ext == '.sbp':\n",
    "        reader = SbpReader(filename)\n",
    "    elif ext == '.ubx':\n",
    "        reader = UbxReader(filename)\n",
    "    else:\n",
    "        raise RuntimeError('Extension {} is not supported'.format(ext))\n",
    "\n",
    "    return reader"
   ]
  },
  {
   "cell_type": "markdown",
   "metadata": {},
   "source": [
    "## Unit Tests"
   ]
  },
  {
   "cell_type": "code",
   "execution_count": 3,
   "metadata": {},
   "outputs": [],
   "source": [
    "class TestReaders(unittest.TestCase):\n",
    "    '''Class to test all of the file readers'''\n",
    "\n",
    "    def testFitApexPro(self):\n",
    "        '''Test loading of an FIT file from COROS Apex Pro'''\n",
    "\n",
    "        filename = os.path.join(projdir, 'sessions', '20220411', 'APEX_Pro_Speedsurfing20220411111317.fit')\n",
    "        genericReader = getReader(filename)\n",
    "        genericReader.load()\n",
    "\n",
    "\n",
    "    def testGpxApexPro(self):\n",
    "        '''Test loading of an GPX file from COROS Apex Pro'''\n",
    "\n",
    "        filename = os.path.join(projdir, 'sessions', '20220411', 'APEX_Pro_Speedsurfing20220411111317.gpx')\n",
    "        genericReader = getReader(filename)\n",
    "        genericReader.load()\n",
    "\n",
    "\n",
    "    def testNmeaGt31(self):\n",
    "        '''Test loading of an NMEA file from a GT-31'''\n",
    "\n",
    "        filename = os.path.join(projdir, 'sessions', '20220411', 'GT31_1Hz_GEORG30MICHA_932000175_20220411_111600.nmea')\n",
    "        genericReader = getReader(filename)\n",
    "        genericReader.load()\n",
    "\n",
    "\n",
    "    def testOaoMini(self):\n",
    "        '''Test loading of an OAO file from a Motion Mini'''\n",
    "\n",
    "        filename = os.path.join(projdir, 'sessions', '20220411', 'Motion_Mini_10Hz_0470_2022-04-11-1117.oao')\n",
    "        genericReader = getReader(filename)\n",
    "        genericReader.load()\n",
    "\n",
    "\n",
    "    def testOaoEsp(self):\n",
    "        '''Test loading of an OAO file from a ESP-GPS'''\n",
    "\n",
    "        filename = os.path.join(projdir, 'sessions', '20211230-esp', 'Head_L_7C9EBDFAF5C8_007.oao')\n",
    "        genericReader = getReader(filename)\n",
    "        genericReader.load()\n",
    "\n",
    "\n",
    "    def testSbnGt11(self):\n",
    "        '''Test loading of an SBN file from a GT-11'''\n",
    "\n",
    "        filename = os.path.join(projdir, 'sessions', '20071227', 'MIKE_G_1003053_20071227_133836.SBN')\n",
    "        genericReader = getReader(filename)\n",
    "        genericReader.load()\n",
    "\n",
    "\n",
    "    def testSbnGt31(self):\n",
    "        '''Test loading of an SBN file from a GT-31'''\n",
    "\n",
    "        filename = os.path.join(projdir, 'sessions', '20220411', 'GT31_1Hz_GEORG30MICHA_932000175_20220411_111600.SBN')\n",
    "        genericReader = getReader(filename)\n",
    "        genericReader.load()\n",
    "\n",
    "\n",
    "    def testSbpGt11(self):\n",
    "        '''Test loading of an SBP file from a GT-11'''\n",
    "\n",
    "        filename = os.path.join(projdir, 'sessions', '20071227', 'MIKE_G_1003053_20071227_165512_DLG.SBP')\n",
    "        genericReader = getReader(filename)\n",
    "        genericReader.load()\n",
    "\n",
    "\n",
    "    def testSbpGt31(self):\n",
    "        '''Test loading of an SBP file from a GT-31'''\n",
    "\n",
    "        filename = os.path.join(projdir, 'sessions', '20220411', 'GT31_1Hz_GEORG30MICHA_932000175_20220512_094254_DLG.SBP')\n",
    "        genericReader = getReader(filename)\n",
    "        genericReader.load()\n",
    "\n",
    "\n",
    "    def testUbxEsp(self):\n",
    "        '''Test loading of a UBX file from an ESP-GPS'''\n",
    "\n",
    "        filename = os.path.join(projdir, 'sessions', '20211230-esp', 'Head_L_7C9EBDFAF5C8_007.ubx')\n",
    "        genericReader = getReader(filename)\n",
    "        genericReader.load()"
   ]
  },
  {
   "cell_type": "code",
   "execution_count": 4,
   "metadata": {},
   "outputs": [
    {
     "name": "stderr",
     "output_type": "stream",
     "text": [
      "..........\n",
      "----------------------------------------------------------------------\n",
      "Ran 10 tests in 2.514s\n",
      "\n",
      "OK\n"
     ]
    }
   ],
   "source": [
    "if __name__ == '__main__':\n",
    "    # Determine whether session is interactive or batch to facilitate unittest.main(..., exit=testExit)\n",
    "    import __main__ as main\n",
    "    testExit = hasattr(main, '__file__')\n",
    "\n",
    "    projdir = os.path.realpath(os.path.join(sys.path[0], \"..\", \"..\"))\n",
    "\n",
    "    unittest.main(argv=['first-arg-is-ignored'], exit=testExit)"
   ]
  },
  {
   "cell_type": "code",
   "execution_count": null,
   "metadata": {},
   "outputs": [],
   "source": []
  }
 ],
 "metadata": {
  "kernelspec": {
   "display_name": "Python 3 (ipykernel)",
   "language": "python",
   "name": "python3"
  },
  "language_info": {
   "codemirror_mode": {
    "name": "ipython",
    "version": 3
   },
   "file_extension": ".py",
   "mimetype": "text/x-python",
   "name": "python",
   "nbconvert_exporter": "python",
   "pygments_lexer": "ipython3",
   "version": "3.9.7"
  }
 },
 "nbformat": 4,
 "nbformat_minor": 2
}
