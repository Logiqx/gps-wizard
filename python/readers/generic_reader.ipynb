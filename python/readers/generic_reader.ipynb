{
 "cells": [
  {
   "cell_type": "markdown",
   "metadata": {},
   "source": [
    "# Generic Reader\n",
    "\n",
    "Created by Michael George (AKA Logiqx)\n",
    "\n",
    "Website: https://logiqx.github.io/gps-wizard/"
   ]
  },
  {
   "cell_type": "code",
   "execution_count": 1,
   "metadata": {},
   "outputs": [],
   "source": [
    "import sys\n",
    "import os\n",
    "\n",
    "import unittest\n",
    "\n",
    "from sbn_reader import SbnReader\n",
    "from sbp_reader import SbpReader"
   ]
  },
  {
   "cell_type": "markdown",
   "metadata": {},
   "source": [
    "## Main Method"
   ]
  },
  {
   "cell_type": "code",
   "execution_count": 2,
   "metadata": {},
   "outputs": [],
   "source": [
    "def getReader(filename):\n",
    "    '''Determine file type and return appropriate file reader'''\n",
    "\n",
    "    ext = os.path.splitext(filename)[1].lower()\n",
    "\n",
    "    if ext == '.sbn':\n",
    "        reader = SbnReader(filename)\n",
    "    elif ext == '.sbp':\n",
    "        reader = SbpReader(filename)\n",
    "    else:\n",
    "        raise RuntimeError('Extension {} is not supported'.format(ext))\n",
    "\n",
    "    return reader"
   ]
  },
  {
   "cell_type": "markdown",
   "metadata": {},
   "source": [
    "## Unit Tests"
   ]
  },
  {
   "cell_type": "code",
   "execution_count": 3,
   "metadata": {},
   "outputs": [],
   "source": [
    "class TestReaders(unittest.TestCase):\n",
    "    '''Class to test all of the file readers'''\n",
    "\n",
    "    def testSbn20071227(self):\n",
    "        '''Test loading of an SBN file from a GT-11'''\n",
    "\n",
    "        filename = os.path.join(projdir, 'sessions', '20071227', 'MIKE_G_1003053_20071227_133836.SBN')\n",
    "        genericReader = getReader(filename)\n",
    "        genericReader.load()\n",
    "\n",
    "\n",
    "    def testSbn20220411(self):\n",
    "        '''Test loading of an SBN file from a GT-31'''\n",
    "\n",
    "        filename = os.path.join(projdir, 'sessions', '20220411', 'GT31_1Hz_GEORG30MICHA_932000175_20220411_111600.SBN')\n",
    "        genericReader = getReader(filename)\n",
    "        genericReader.load()\n",
    "\n",
    "\n",
    "    def testSbp20071227(self):\n",
    "        '''Test loading of an SBP file from a GT-11'''\n",
    "\n",
    "        filename = os.path.join(projdir, 'sessions', '20071227', 'MIKE_G_1003053_20071227_165512_DLG.SBP')\n",
    "        genericReader = getReader(filename)\n",
    "        genericReader.load()\n",
    "\n",
    "\n",
    "    def testSbp20220411(self):\n",
    "        '''Test loading of an SBP file from a GT-31'''\n",
    "\n",
    "        filename = os.path.join(projdir, 'sessions', '20220411', 'GT31_1Hz_GEORG30MICHA_932000175_20220512_094254_DLG.SBP')\n",
    "        genericReader = getReader(filename)\n",
    "        genericReader.load()"
   ]
  },
  {
   "cell_type": "code",
   "execution_count": 4,
   "metadata": {},
   "outputs": [
    {
     "name": "stderr",
     "output_type": "stream",
     "text": [
      "....\n",
      "----------------------------------------------------------------------\n",
      "Ran 4 tests in 0.045s\n",
      "\n",
      "OK\n"
     ]
    }
   ],
   "source": [
    "if __name__ == '__main__':\n",
    "    # Determine whether session is interactive or batch to facilitate unittest.main(..., exit=testExit)\n",
    "    import __main__ as main\n",
    "    testExit = hasattr(main, '__file__')\n",
    "\n",
    "    projdir = os.path.realpath(os.path.join(sys.path[0], \"..\", \"..\"))\n",
    "\n",
    "    unittest.main(argv=['first-arg-is-ignored'], exit=testExit)"
   ]
  },
  {
   "cell_type": "code",
   "execution_count": null,
   "metadata": {},
   "outputs": [],
   "source": []
  }
 ],
 "metadata": {
  "kernelspec": {
   "display_name": "Python 3 (ipykernel)",
   "language": "python",
   "name": "python3"
  },
  "language_info": {
   "codemirror_mode": {
    "name": "ipython",
    "version": 3
   },
   "file_extension": ".py",
   "mimetype": "text/x-python",
   "name": "python",
   "nbconvert_exporter": "python",
   "pygments_lexer": "ipython3",
   "version": "3.9.7"
  }
 },
 "nbformat": 4,
 "nbformat_minor": 2
}
