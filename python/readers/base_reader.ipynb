{
 "cells": [
  {
   "cell_type": "markdown",
   "metadata": {},
   "source": [
    "# Base Reader\n",
    "\n",
    "Copyright 2022 Michael George (AKA Logiqx).\n",
    "\n",
    "This file is part of [GPS Wizard](https://logiqx.github.io/gps-wizard/) and is distributed under the terms of the GNU General Public License.\n",
    "\n",
    "GPS Wizard is free software: you can redistribute it and/or modify it under the terms of the GNU General Public License as published by the Free Software Foundation, either version 3 of the License, or (at your option) any later version.\n",
    "\n",
    "GPS Wizard is distributed in the hope that it will be useful, but WITHOUT ANY WARRANTY; without even the implied warranty of MERCHANTABILITY or FITNESS FOR A PARTICULAR PURPOSE. See the GNU General Public License for more details.\n",
    "\n",
    "You should have received a copy of the GNU General Public License along with Foobar. If not, see <https://www.gnu.org/licenses/>."
   ]
  },
  {
   "cell_type": "code",
   "execution_count": 1,
   "metadata": {},
   "outputs": [],
   "source": [
    "import unittest"
   ]
  },
  {
   "cell_type": "markdown",
   "metadata": {},
   "source": [
    "## Main Class"
   ]
  },
  {
   "cell_type": "code",
   "execution_count": 2,
   "metadata": {},
   "outputs": [],
   "source": [
    "class BaseReader():\n",
    "    '''File Reader - Generic Class'''\n",
    "\n",
    "    def __init__(self, filename):\n",
    "        '''Basic init just records the filename'''\n",
    "\n",
    "        self.filename = filename\n",
    "        self.name = None\n",
    "\n",
    "        self.header = {}\n",
    "        self.data = {}\n",
    "        \n",
    "        # Populating buffer and bufferView is the responsibility of derived classes\n",
    "        self.buffer = None\n",
    "        self.bufferView = None\n",
    "        self.bufferPtr = 0\n",
    "\n",
    "        self.numRecords = 0\n",
    "\n",
    "\n",
    "    def readUnsigned16BE(self):\n",
    "        '''Read unsigned 16-bit integer from the buffer - big endian'''\n",
    "        \n",
    "        value = self.bufferView[self.bufferPtr] << 8 | self.bufferView[self.bufferPtr + 1]\n",
    "        self.bufferPtr += 2\n",
    "        \n",
    "        return value\n",
    "        \n",
    "\n",
    "    def readUnsigned16LE(self):\n",
    "        '''Read unsigned 16-bit integer from the buffer - little endian'''\n",
    "        \n",
    "        value = self.bufferView[self.bufferPtr + 1] << 8 | self.bufferView[self.bufferPtr]\n",
    "        self.bufferPtr += 2\n",
    "        \n",
    "        return value\n",
    "        \n",
    "\n",
    "    def readBytes(self, numBytes):\n",
    "        '''Read fixed number of bytes from the buffer'''\n",
    "        \n",
    "        value = self.bufferView[self.bufferPtr : self.bufferPtr + numBytes]\n",
    "        self.bufferPtr += numBytes\n",
    "        \n",
    "        return value"
   ]
  },
  {
   "cell_type": "markdown",
   "metadata": {},
   "source": [
    "## Unit Tests"
   ]
  },
  {
   "cell_type": "code",
   "execution_count": 3,
   "metadata": {},
   "outputs": [],
   "source": [
    "class TestInit(unittest.TestCase):\n",
    "    '''Class to test init'''\n",
    "\n",
    "    def testFilename(self):\n",
    "        '''Test the filename is as expected'''\n",
    "\n",
    "        self.assertEqual(baseReader.filename, 'test.gpx')\n",
    "\n",
    "\n",
    "    def testHeader(self):\n",
    "        '''Test the header is as expected'''\n",
    "\n",
    "        self.assertEqual(baseReader.header, {})\n",
    "\n",
    "\n",
    "    def testData(self):\n",
    "        '''Test the data is as expected'''\n",
    "\n",
    "        self.assertEqual(baseReader.data, {})\n",
    "\n",
    "\n",
    "    def testNumRecords(self):\n",
    "        '''Test the number of records is zero'''\n",
    "\n",
    "        self.assertEqual(baseReader.numRecords, 0)"
   ]
  },
  {
   "cell_type": "code",
   "execution_count": 4,
   "metadata": {},
   "outputs": [
    {
     "name": "stderr",
     "output_type": "stream",
     "text": [
      "....\n",
      "----------------------------------------------------------------------\n",
      "Ran 4 tests in 0.002s\n",
      "\n",
      "OK\n"
     ]
    }
   ],
   "source": [
    "if __name__ == '__main__':\n",
    "    # Determine whether session is interactive or batch to facilitate unittest.main(..., exit=testExit)\n",
    "    import __main__ as main\n",
    "    testExit = hasattr(main, '__file__')\n",
    "\n",
    "    baseReader = BaseReader('test.gpx')\n",
    "\n",
    "    unittest.main(argv=['first-arg-is-ignored'], exit=testExit)"
   ]
  },
  {
   "cell_type": "code",
   "execution_count": null,
   "metadata": {},
   "outputs": [],
   "source": []
  }
 ],
 "metadata": {
  "kernelspec": {
   "display_name": "Python 3 (ipykernel)",
   "language": "python",
   "name": "python3"
  },
  "language_info": {
   "codemirror_mode": {
    "name": "ipython",
    "version": 3
   },
   "file_extension": ".py",
   "mimetype": "text/x-python",
   "name": "python",
   "nbconvert_exporter": "python",
   "pygments_lexer": "ipython3",
   "version": "3.9.7"
  }
 },
 "nbformat": 4,
 "nbformat_minor": 2
}
