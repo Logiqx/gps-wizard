{
 "cells": [
  {
   "cell_type": "markdown",
   "metadata": {},
   "source": [
    "# GPX Writer - GPS Exchange Format\n",
    "\n",
    "Copyright 2022 Michael George (AKA Logiqx).\n",
    "\n",
    "This file is part of [GPS Wizard](https://github.com/Logiqx/gps-wizard) and is distributed under the terms of the GNU General Public License.\n",
    "\n",
    "GPS Wizard is free software: you can redistribute it and/or modify it under the terms of the GNU General Public License as published by the Free Software Foundation, either version 3 of the License, or (at your option) any later version.\n",
    "\n",
    "GPS Wizard is distributed in the hope that it will be useful, but WITHOUT ANY WARRANTY; without even the implied warranty of MERCHANTABILITY or FITNESS FOR A PARTICULAR PURPOSE. See the GNU General Public License for more details.\n",
    "\n",
    "You should have received a copy of the GNU General Public License along with GPS Wizard. If not, see <https://www.gnu.org/licenses/>."
   ]
  },
  {
   "cell_type": "code",
   "execution_count": 1,
   "metadata": {},
   "outputs": [],
   "source": [
    "import os\n",
    "import sys\n",
    "import time\n",
    "\n",
    "from lxml import etree\n",
    "from datetime import datetime\n",
    "\n",
    "import unittest\n",
    "\n",
    "from base_writer import BaseWriter"
   ]
  },
  {
   "cell_type": "markdown",
   "metadata": {},
   "source": [
    "## Main Class"
   ]
  },
  {
   "cell_type": "code",
   "execution_count": 2,
   "metadata": {},
   "outputs": [],
   "source": [
    "class GpxWriter(BaseWriter):\n",
    "    '''GPX file - GPS Exchange Format'''\n",
    "\n",
    "    def __init__(self, filename, tracks):\n",
    "        '''Basic init just records the filename'''\n",
    "\n",
    "        super().__init__(filename, tracks)\n",
    "\n",
    "\n",
    "    def prepare(self, tracks):\n",
    "        '''Prepare GPX prior to being saved'''\n",
    "\n",
    "        xsi = 'http://www.w3.org/2001/XMLSchema-instance'\n",
    "        gpx = etree.Element(\n",
    "            'gpx', \n",
    "             {etree.QName(xsi, 'schemaLocation'): 'http://www.topografix.com/GPX/1/0 http://www.topografix.com/GPX/1/0/gpx.xsd'},\n",
    "             creator='GPS Wizard', \n",
    "             version='1.0', \n",
    "             nsmap={None: 'http://www.topografix.com/GPX/1/0', 'xsi': xsi})\n",
    "\n",
    "        for track in tracks:\n",
    "            formats = self.getFormats(track)\n",
    "\n",
    "            trk = etree.SubElement(gpx, 'trk')\n",
    "\n",
    "            if track.name:\n",
    "                name = etree.SubElement(trk, 'name')\n",
    "                name.text = track.name\n",
    "\n",
    "            trkseg = etree.SubElement(trk, 'trkseg')\n",
    "\n",
    "            for i in range(track.numPoints):\n",
    "                trkpt = etree.SubElement(trkseg, 'trkpt')\n",
    "\n",
    "                for attrib in ['lat', 'lon']:\n",
    "                    trkpt.attrib[attrib] = formats[attrib].format(track.data[attrib][i])\n",
    "\n",
    "                for element, abbr in [('ele', 'ele'),\n",
    "                                      ('time', 'ts'),\n",
    "                                      ('course', 'cog'),\n",
    "                                      ('speed', 'sog'),\n",
    "                                      ('sat', 'sat'),\n",
    "                                      ('hdop', 'hdop')]:\n",
    "                    if abbr in track.data:\n",
    "                        subElement = etree.SubElement(trkpt, element)\n",
    "                        if element == 'time':\n",
    "                            subElement.text = datetime.fromtimestamp(track.data[abbr][i]).isoformat() + 'Z'\n",
    "                        elif abbr in formats:\n",
    "                            subElement.text = formats[abbr].format(track.data[abbr][i])\n",
    "                        else:\n",
    "                            subElement.text = track.data[abbr][i]\n",
    "\n",
    "            self.buffer = etree.tostring(gpx, pretty_print=True, xml_declaration=False, encoding='UTF-8',\n",
    "                                         doctype='<?xml version=\"1.0\" encoding=\"UTF-8\"?>')\n",
    "\n",
    "\n",
    "    def save(self):\n",
    "        '''Save GPX to disk'''\n",
    "        \n",
    "        with open(self.filename, 'wb') as f:\n",
    "            f.write(self.buffer)"
   ]
  },
  {
   "cell_type": "markdown",
   "metadata": {},
   "source": [
    "## Unit Tests"
   ]
  },
  {
   "cell_type": "code",
   "execution_count": 3,
   "metadata": {},
   "outputs": [],
   "source": [
    "class TestGpxWriter(unittest.TestCase):\n",
    "    '''Class to test the GPX writer'''\n",
    "\n",
    "    def testGpxWriter(self):\n",
    "        '''Test the GPX writer'''\n",
    "\n",
    "        filename = os.path.join(projdir, 'sessions', 'unittest.gpx')\n",
    "\n",
    "        gpxWriter = GpxWriter(filename, sbnReader.tracks)\n",
    "\n",
    "        gpxWriter.save()\n",
    "        \n",
    "        os.unlink(filename)"
   ]
  },
  {
   "cell_type": "code",
   "execution_count": 4,
   "metadata": {},
   "outputs": [
    {
     "name": "stdout",
     "output_type": "stream",
     "text": [
      "\n",
      "Test file loaded in 0.01 seconds\n"
     ]
    }
   ],
   "source": [
    "if __name__ == '__main__':\n",
    "    for path in ['python', '.', '..']:\n",
    "        readersPath = os.path.join(path, 'core')\n",
    "        if readersPath not in sys.path:\n",
    "            sys.path.extend([readersPath])\n",
    "\n",
    "    from file_reader import getFileReader\n",
    "\n",
    "    projdir = os.path.realpath(os.path.join(sys.path[0], \"..\", \"..\"))\n",
    "\n",
    "    sbnFilename = os.path.join(projdir, 'sessions', '20071227', 'MIKE_G_1003053_20071227_165512_DLG.SBP')\n",
    "    sbnReader = getFileReader(sbnFilename)\n",
    "\n",
    "    pc1 = time.perf_counter()\n",
    "    sbnReader.load()\n",
    "    pc2 = time.perf_counter()\n",
    "\n",
    "    print(\"\\nTest file loaded in %0.2f seconds\" % (pc2 - pc1))"
   ]
  },
  {
   "cell_type": "code",
   "execution_count": 5,
   "metadata": {},
   "outputs": [
    {
     "name": "stderr",
     "output_type": "stream",
     "text": [
      ".\n",
      "----------------------------------------------------------------------\n",
      "Ran 1 test in 0.061s\n",
      "\n",
      "OK\n"
     ]
    }
   ],
   "source": [
    "if __name__ == '__main__':\n",
    "    # Determine whether session is interactive or batch to facilitate unittest.main(..., exit=testExit)\n",
    "    import __main__ as main\n",
    "    testExit = hasattr(main, '__file__')\n",
    "\n",
    "    unittest.main(argv=['first-arg-is-ignored'], exit=testExit)"
   ]
  }
 ],
 "metadata": {
  "kernelspec": {
   "display_name": "Python 3 (ipykernel)",
   "language": "python",
   "name": "python3"
  },
  "language_info": {
   "codemirror_mode": {
    "name": "ipython",
    "version": 3
   },
   "file_extension": ".py",
   "mimetype": "text/x-python",
   "name": "python",
   "nbconvert_exporter": "python",
   "pygments_lexer": "ipython3",
   "version": "3.9.7"
  }
 },
 "nbformat": 4,
 "nbformat_minor": 2
}
