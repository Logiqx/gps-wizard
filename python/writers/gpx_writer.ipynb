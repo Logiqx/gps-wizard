{
 "cells": [
  {
   "cell_type": "markdown",
   "metadata": {},
   "source": [
    "# GPX Writer - GPS Exchange Format\n",
    "\n",
    "Created by Michael George (AKA Logiqx)\n",
    "\n",
    "Website: https://logiqx.github.io/gps-wizard/"
   ]
  },
  {
   "cell_type": "code",
   "execution_count": 1,
   "metadata": {},
   "outputs": [],
   "source": [
    "import os\n",
    "import sys\n",
    "import time\n",
    "\n",
    "import sys\n",
    "import os\n",
    "\n",
    "import unittest\n",
    "\n",
    "for path in ['python', '.', '..']:\n",
    "    readersPath = os.path.join(path, 'core')\n",
    "    if readersPath not in sys.path:\n",
    "        sys.path.extend([readersPath])\n",
    "\n",
    "from lxml import etree\n",
    "from datetime import datetime\n",
    "\n",
    "import numpy as np\n",
    "\n",
    "import unittest\n",
    "\n",
    "from track import Track"
   ]
  },
  {
   "cell_type": "markdown",
   "metadata": {},
   "source": [
    "## Main Class"
   ]
  },
  {
   "cell_type": "code",
   "execution_count": 2,
   "metadata": {},
   "outputs": [],
   "source": [
    "class GpxWriter():\n",
    "    '''GPX file - GPS Exchange Format'''\n",
    "\n",
    "    def __init__(self, filename=None):\n",
    "        '''Basic init just records the filename'''\n",
    "\n",
    "        self.filename = filename\n",
    "        self.buffer = None\n",
    "\n",
    "\n",
    "    def prepare(self, track):\n",
    "        '''Prepare GPX prior to being saved'''\n",
    "\n",
    "        xsi = 'http://www.w3.org/2001/XMLSchema-instance'\n",
    "\n",
    "        gpx = etree.Element(\n",
    "            'gpx', \n",
    "             {etree.QName(xsi, 'schemaLocation'): 'http://www.topografix.com/GPX/1/0 http://www.topografix.com/GPX/1/0/gpx.xsd'},\n",
    "             creator='GPS Wizard', \n",
    "             version='1.0', \n",
    "             nsmap={None: 'http://www.topografix.com/GPX/1/0', 'xsi': xsi})\n",
    "\n",
    "        trk = etree.SubElement(gpx, 'trk')\n",
    "        trkseg = etree.SubElement(trk, 'trkseg')\n",
    "\n",
    "        formats = self.getFormats(track)\n",
    "\n",
    "        for i in range(track.numRecords):\n",
    "            trkpt = etree.SubElement(trkseg, 'trkpt')\n",
    "\n",
    "            for attrib in ['lat', 'lon']:\n",
    "                trkpt.attrib[attrib] = formats[attrib].format(track.data[attrib][i])\n",
    "\n",
    "            for element, abbr in [('ele', 'ele'),\n",
    "                                  ('time', 'ts'),\n",
    "                                  ('course', 'cog'),\n",
    "                                  ('speed', 'sog'),\n",
    "                                  ('sat', 'sat'),\n",
    "                                  ('hdop', 'hdop')]:\n",
    "                if abbr in track.data:\n",
    "                    subElement = etree.SubElement(trkpt, element)\n",
    "                    if element == 'time':\n",
    "                        subElement.text = datetime.fromtimestamp(track.data[abbr][i]).isoformat() + 'Z'\n",
    "                    elif abbr in formats:\n",
    "                        subElement.text = formats[abbr].format(track.data[abbr][i])\n",
    "                    else:\n",
    "                        subElement.text = track.data[abbr][i]\n",
    "\n",
    "        etree.indent(gpx, space=' ' * 4)\n",
    "        self.buffer = etree.tostring(gpx, pretty_print=True)\n",
    "\n",
    "\n",
    "    def getFormats(self, track):\n",
    "        '''Determine field formats'''\n",
    "\n",
    "        formats = {}\n",
    "\n",
    "        for field, info in track.fields.items():\n",
    "            formats[field] = '{{:.{}f}}'.format(info['decimals'])\n",
    "\n",
    "        return formats\n",
    "\n",
    "\n",
    "    def save(self, filename=None):\n",
    "        '''Save GPX to disk'''\n",
    "        \n",
    "        if filename:\n",
    "            self.filename = filename\n",
    "            \n",
    "        with open(self.filename, 'wb') as f:\n",
    "            f.write(self.buffer)"
   ]
  },
  {
   "cell_type": "markdown",
   "metadata": {},
   "source": [
    "## Unit Tests"
   ]
  },
  {
   "cell_type": "code",
   "execution_count": 3,
   "metadata": {},
   "outputs": [
    {
     "name": "stdout",
     "output_type": "stream",
     "text": [
      "\n",
      "Test files loaded and prepared in 0.06 seconds\n"
     ]
    }
   ],
   "source": [
    "if __name__ == '__main__':\n",
    "    projdir = os.path.realpath(os.path.join(sys.path[0], \"..\", \"..\"))\n",
    "\n",
    "    sbnFilename = os.path.join(projdir, 'sessions', '20071227', 'MIKE_G_1003053_20071227_165512_DLG.SBP')\n",
    "    sbnTrack = Track(sbnFilename)\n",
    "\n",
    "    gpxFilename = os.path.join(projdir, 'sessions', 'gpx_writer.gpx')\n",
    "    gpxWriter = GpxWriter(gpxFilename)\n",
    "\n",
    "    pc1 = time.perf_counter()\n",
    "    sbnTrack.load()\n",
    "    gpxWriter.prepare(sbnTrack)\n",
    "    pc2 = time.perf_counter()\n",
    "\n",
    "    print(\"\\nTest files loaded and prepared in %0.2f seconds\" % (pc2 - pc1))"
   ]
  },
  {
   "cell_type": "code",
   "execution_count": 4,
   "metadata": {},
   "outputs": [
    {
     "name": "stderr",
     "output_type": "stream",
     "text": [
      "\n",
      "----------------------------------------------------------------------\n",
      "Ran 0 tests in 0.000s\n",
      "\n",
      "OK\n"
     ]
    }
   ],
   "source": [
    "if __name__ == '__main__':\n",
    "    # Determine whether session is interactive or batch to facilitate unittest.main(..., exit=testExit)\n",
    "    import __main__ as main\n",
    "    testExit = hasattr(main, '__file__')\n",
    "\n",
    "    unittest.main(argv=['first-arg-is-ignored'], exit=testExit)"
   ]
  }
 ],
 "metadata": {
  "kernelspec": {
   "display_name": "Python 3 (ipykernel)",
   "language": "python",
   "name": "python3"
  },
  "language_info": {
   "codemirror_mode": {
    "name": "ipython",
    "version": 3
   },
   "file_extension": ".py",
   "mimetype": "text/x-python",
   "name": "python",
   "nbconvert_exporter": "python",
   "pygments_lexer": "ipython3",
   "version": "3.9.7"
  }
 },
 "nbformat": 4,
 "nbformat_minor": 2
}
