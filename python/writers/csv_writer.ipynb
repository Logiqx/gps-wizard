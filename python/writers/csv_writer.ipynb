{
 "cells": [
  {
   "cell_type": "markdown",
   "metadata": {},
   "source": [
    "# CSV Writer - Comma-separated values\n",
    "\n",
    "Created by Michael George (AKA Logiqx)\n",
    "\n",
    "Website: https://logiqx.github.io/gps-wizard/"
   ]
  },
  {
   "cell_type": "code",
   "execution_count": 1,
   "metadata": {},
   "outputs": [],
   "source": [
    "import os\n",
    "import sys\n",
    "import time\n",
    "\n",
    "for path in ['python', '.', '..']:\n",
    "    readersPath = os.path.join(path, 'core')\n",
    "    if readersPath not in sys.path:\n",
    "        sys.path.extend([readersPath])\n",
    "\n",
    "import csv\n",
    "from datetime import datetime\n",
    "\n",
    "import unittest\n",
    "\n",
    "if __name__ == '__main__':\n",
    "    from track import Track\n",
    "\n",
    "from base_writer import BaseWriter"
   ]
  },
  {
   "cell_type": "markdown",
   "metadata": {},
   "source": [
    "## Main Class"
   ]
  },
  {
   "cell_type": "code",
   "execution_count": 2,
   "metadata": {},
   "outputs": [],
   "source": [
    "class CsvWriter(BaseWriter):\n",
    "    '''CSV file - Comma-separated values'''\n",
    "\n",
    "    def __init__(self, filename=None, track=None):\n",
    "        '''Basic init just records the filename'''\n",
    "\n",
    "        super().__init__(filename, track)\n",
    "\n",
    "\n",
    "    def prepare(self, track):\n",
    "        '''Prepare CSV prior to being saved'''\n",
    "\n",
    "        self.buffer = []\n",
    "\n",
    "        # Basic header\n",
    "        header = []\n",
    "        for field in track.data:\n",
    "            if field == 'ts':\n",
    "                header.append('date')\n",
    "                header.append('time')\n",
    "            else:\n",
    "                header.append(field)\n",
    "\n",
    "        self.buffer.append(header)\n",
    "\n",
    "        # Determine field formats\n",
    "        formats = self.getFormats(track)\n",
    "\n",
    "        # Convert records to CSV\n",
    "        for i in range(track.numRecords):\n",
    "            record = []\n",
    "\n",
    "            for field in track.data:\n",
    "                if field == 'ts':\n",
    "                    dt = datetime.fromtimestamp(track.data[field][i])\n",
    "                    record.append(dt.strftime('%Y-%m-%d'))\n",
    "                    value = dt.strftime('%H:%M:%S.%f')[:-3]\n",
    "                elif field in formats:\n",
    "                    value = formats[field].format(track.data[field][i])\n",
    "                else:\n",
    "                    value = track.data[field][i]\n",
    "\n",
    "                record.append(value)\n",
    "\n",
    "            self.buffer.append(record)\n",
    "\n",
    "\n",
    "    def save(self, filename=None):\n",
    "        '''Save GPX to disk'''\n",
    "        \n",
    "        if filename:\n",
    "            self.filename = filename\n",
    "            \n",
    "        with open(self.filename, 'w', newline='') as f:\n",
    "            writer = csv.writer(f)\n",
    "            writer.writerows(self.buffer)"
   ]
  },
  {
   "cell_type": "markdown",
   "metadata": {},
   "source": [
    "## Unit Tests"
   ]
  },
  {
   "cell_type": "code",
   "execution_count": 3,
   "metadata": {},
   "outputs": [
    {
     "name": "stdout",
     "output_type": "stream",
     "text": [
      "\n",
      "Test files loaded and prepared in 0.04 seconds\n"
     ]
    }
   ],
   "source": [
    "if __name__ == '__main__':\n",
    "    projdir = os.path.realpath(os.path.join(sys.path[0], \"..\", \"..\"))\n",
    "\n",
    "    sbnFilename = os.path.join(projdir, 'sessions', '20071227', 'MIKE_G_1003053_20071227_165512_DLG.SBP')\n",
    "    sbnTrack = Track(sbnFilename)\n",
    "\n",
    "    csvFilename = os.path.join(projdir, 'sessions', 'csv_writer.csv')\n",
    "    csvWriter = CsvWriter(csvFilename)\n",
    "\n",
    "    pc1 = time.perf_counter()\n",
    "    sbnTrack.load()\n",
    "    csvWriter.prepare(sbnTrack)\n",
    "    pc2 = time.perf_counter()\n",
    "\n",
    "    print(\"\\nTest files loaded and prepared in %0.2f seconds\" % (pc2 - pc1))"
   ]
  },
  {
   "cell_type": "code",
   "execution_count": 4,
   "metadata": {},
   "outputs": [
    {
     "name": "stderr",
     "output_type": "stream",
     "text": [
      "\n",
      "----------------------------------------------------------------------\n",
      "Ran 0 tests in 0.000s\n",
      "\n",
      "OK\n"
     ]
    }
   ],
   "source": [
    "if __name__ == '__main__':\n",
    "    # Determine whether session is interactive or batch to facilitate unittest.main(..., exit=testExit)\n",
    "    import __main__ as main\n",
    "    testExit = hasattr(main, '__file__')\n",
    "\n",
    "    unittest.main(argv=['first-arg-is-ignored'], exit=testExit)"
   ]
  }
 ],
 "metadata": {
  "kernelspec": {
   "display_name": "Python 3 (ipykernel)",
   "language": "python",
   "name": "python3"
  },
  "language_info": {
   "codemirror_mode": {
    "name": "ipython",
    "version": 3
   },
   "file_extension": ".py",
   "mimetype": "text/x-python",
   "name": "python",
   "nbconvert_exporter": "python",
   "pygments_lexer": "ipython3",
   "version": "3.9.7"
  }
 },
 "nbformat": 4,
 "nbformat_minor": 2
}
