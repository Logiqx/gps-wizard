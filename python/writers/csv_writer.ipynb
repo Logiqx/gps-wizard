{
 "cells": [
  {
   "cell_type": "markdown",
   "metadata": {},
   "source": [
    "# CSV Writer - Comma-separated values\n",
    "\n",
    "Copyright 2022 Michael George (AKA Logiqx).\n",
    "\n",
    "This file is part of [GPS Wizard](https://logiqx.github.io/gps-wizard/) and is distributed under the terms of the GNU General Public License.\n",
    "\n",
    "GPS Wizard is free software: you can redistribute it and/or modify it under the terms of the GNU General Public License as published by the Free Software Foundation, either version 3 of the License, or (at your option) any later version.\n",
    "\n",
    "GPS Wizard is distributed in the hope that it will be useful, but WITHOUT ANY WARRANTY; without even the implied warranty of MERCHANTABILITY or FITNESS FOR A PARTICULAR PURPOSE. See the GNU General Public License for more details.\n",
    "\n",
    "You should have received a copy of the GNU General Public License along with GPS Wizard. If not, see <https://www.gnu.org/licenses/>."
   ]
  },
  {
   "cell_type": "code",
   "execution_count": 1,
   "metadata": {},
   "outputs": [],
   "source": [
    "import os\n",
    "import sys\n",
    "import time\n",
    "\n",
    "import csv\n",
    "from datetime import datetime\n",
    "\n",
    "import unittest\n",
    "\n",
    "from base_writer import BaseWriter"
   ]
  },
  {
   "cell_type": "markdown",
   "metadata": {},
   "source": [
    "## Main Class"
   ]
  },
  {
   "cell_type": "code",
   "execution_count": 2,
   "metadata": {},
   "outputs": [],
   "source": [
    "class CsvWriter(BaseWriter):\n",
    "    '''CSV file - Comma-separated values'''\n",
    "\n",
    "    def __init__(self, filename, tracks):\n",
    "        '''Basic init just records the filename'''\n",
    "\n",
    "        super().__init__(filename, tracks)\n",
    "\n",
    "\n",
    "    def prepare(self, tracks):\n",
    "        '''Prepare CSV prior to being saved'''\n",
    "\n",
    "        for track in tracks:\n",
    "            buffer = []\n",
    "\n",
    "            # Basic header\n",
    "            header = []\n",
    "            for field in track.data:\n",
    "                if field == 'ts':\n",
    "                    header.append('date')\n",
    "                    header.append('time')\n",
    "                else:\n",
    "                    header.append(field)\n",
    "\n",
    "            buffer.append(header)\n",
    "\n",
    "            # Determine field formats\n",
    "            formats = self.getFormats(track)\n",
    "\n",
    "            # Convert records to CSV\n",
    "            for i in range(track.numPoints):\n",
    "                record = []\n",
    "\n",
    "                for field in track.data:\n",
    "                    if field == 'ts':\n",
    "                        dt = datetime.fromtimestamp(track.data[field][i])\n",
    "                        record.append(dt.strftime('%Y-%m-%d'))\n",
    "                        value = dt.strftime('%H:%M:%S.%f')[:-3]\n",
    "                    elif field in formats:\n",
    "                        value = formats[field].format(track.data[field][i])\n",
    "                    else:\n",
    "                        value = track.data[field][i]\n",
    "\n",
    "                    record.append(value)\n",
    "\n",
    "                buffer.append(record)\n",
    "\n",
    "            self.buffers.append(buffer)\n",
    "\n",
    "\n",
    "    def save(self):\n",
    "        '''Save CSV file(s) to disk'''\n",
    "\n",
    "        for i, buffer in enumerate(self.buffers):\n",
    "            if len(self.buffers) > 1:\n",
    "                parts = os.path.splitext(self.filename)\n",
    "                filename = '{}-{}{}'.format(parts[0], i + 1, parts[1])\n",
    "            else:\n",
    "                filename = self.filename\n",
    "\n",
    "            with open(filename, 'w', newline='') as f:\n",
    "                writer = csv.writer(f)\n",
    "                writer.writerows(self.buffers[i])"
   ]
  },
  {
   "cell_type": "markdown",
   "metadata": {},
   "source": [
    "## Unit Tests"
   ]
  },
  {
   "cell_type": "code",
   "execution_count": 3,
   "metadata": {},
   "outputs": [],
   "source": [
    "class TestCsvWriter(unittest.TestCase):\n",
    "    '''Class to test the CSV writer'''\n",
    "\n",
    "    def testCsvWriter(self):\n",
    "        '''Test the CSV writer'''\n",
    "\n",
    "        filename = os.path.join(projdir, 'sessions', 'unittest.csv')\n",
    "\n",
    "        csvWriter = CsvWriter(filename, sbnReader.tracks)\n",
    "\n",
    "        csvWriter.save()\n",
    "        \n",
    "        os.unlink(filename)"
   ]
  },
  {
   "cell_type": "code",
   "execution_count": 4,
   "metadata": {},
   "outputs": [
    {
     "name": "stdout",
     "output_type": "stream",
     "text": [
      "\n",
      "Test file loaded in 0.02 seconds\n"
     ]
    }
   ],
   "source": [
    "if __name__ == '__main__':\n",
    "    for path in ['python', '.', '..']:\n",
    "        readersPath = os.path.join(path, 'core')\n",
    "        if readersPath not in sys.path:\n",
    "            sys.path.extend([readersPath])\n",
    "\n",
    "    from file_reader import getFileReader\n",
    "\n",
    "    projdir = os.path.realpath(os.path.join(sys.path[0], \"..\", \"..\"))\n",
    "\n",
    "    sbnFilename = os.path.join(projdir, 'sessions', '20071227', 'MIKE_G_1003053_20071227_165512_DLG.SBP')\n",
    "    sbnReader = getFileReader(sbnFilename)\n",
    "\n",
    "    pc1 = time.perf_counter()\n",
    "    sbnReader.load()\n",
    "    pc2 = time.perf_counter()\n",
    "\n",
    "    print(\"\\nTest file loaded in %0.2f seconds\" % (pc2 - pc1))"
   ]
  },
  {
   "cell_type": "code",
   "execution_count": 5,
   "metadata": {},
   "outputs": [
    {
     "name": "stderr",
     "output_type": "stream",
     "text": [
      ".\n",
      "----------------------------------------------------------------------\n",
      "Ran 1 test in 0.044s\n",
      "\n",
      "OK\n"
     ]
    }
   ],
   "source": [
    "if __name__ == '__main__':\n",
    "    # Determine whether session is interactive or batch to facilitate unittest.main(..., exit=testExit)\n",
    "    import __main__ as main\n",
    "    testExit = hasattr(main, '__file__')\n",
    "\n",
    "    unittest.main(argv=['first-arg-is-ignored'], exit=testExit)"
   ]
  }
 ],
 "metadata": {
  "kernelspec": {
   "display_name": "Python 3 (ipykernel)",
   "language": "python",
   "name": "python3"
  },
  "language_info": {
   "codemirror_mode": {
    "name": "ipython",
    "version": 3
   },
   "file_extension": ".py",
   "mimetype": "text/x-python",
   "name": "python",
   "nbconvert_exporter": "python",
   "pygments_lexer": "ipython3",
   "version": "3.9.7"
  }
 },
 "nbformat": 4,
 "nbformat_minor": 2
}
