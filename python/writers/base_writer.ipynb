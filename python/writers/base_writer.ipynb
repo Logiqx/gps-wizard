{
 "cells": [
  {
   "cell_type": "markdown",
   "metadata": {},
   "source": [
    "# Base Writer\n",
    "\n",
    "Copyright 2022 Michael George (AKA Logiqx).\n",
    "\n",
    "This file is part of [GPS Wizard](https://logiqx.github.io/gps-wizard/) and is distributed under the terms of the GNU General Public License.\n",
    "\n",
    "GPS Wizard is free software: you can redistribute it and/or modify it under the terms of the GNU General Public License as published by the Free Software Foundation, either version 3 of the License, or (at your option) any later version.\n",
    "\n",
    "GPS Wizard is distributed in the hope that it will be useful, but WITHOUT ANY WARRANTY; without even the implied warranty of MERCHANTABILITY or FITNESS FOR A PARTICULAR PURPOSE. See the GNU General Public License for more details.\n",
    "\n",
    "You should have received a copy of the GNU General Public License along with GPS Wizard. If not, see <https://www.gnu.org/licenses/>."
   ]
  },
  {
   "cell_type": "code",
   "execution_count": 1,
   "metadata": {},
   "outputs": [],
   "source": [
    "import os\n",
    "import sys\n",
    "import time\n",
    "\n",
    "import unittest"
   ]
  },
  {
   "cell_type": "markdown",
   "metadata": {},
   "source": [
    "## Main Class"
   ]
  },
  {
   "cell_type": "code",
   "execution_count": 2,
   "metadata": {},
   "outputs": [],
   "source": [
    "class BaseWriter():\n",
    "    '''File Wrier - Generic Class'''\n",
    "\n",
    "    def __init__(self, filename, tracks):\n",
    "        '''Basic init may just record the filename or potential do some data prep of the tracks'''\n",
    "\n",
    "        self.filename = filename\n",
    "        \n",
    "        self.buffers = []\n",
    "        \n",
    "        self.prepare(tracks)\n",
    "\n",
    "\n",
    "    def prepare(self, tracks):\n",
    "        '''Dummy method to facilitate unit testing'''\n",
    "\n",
    "        for track in tracks:\n",
    "            self.getFormats(track)\n",
    "\n",
    "\n",
    "    def getFormats(self, track):\n",
    "        '''Determine field formats'''\n",
    "\n",
    "        formats = {}\n",
    "\n",
    "        for field, info in track.fields.items():\n",
    "            formats[field] = '{{:.{}f}}'.format(info['decimals'])\n",
    "\n",
    "        return formats"
   ]
  },
  {
   "cell_type": "markdown",
   "metadata": {},
   "source": [
    "## Unit Tests"
   ]
  },
  {
   "cell_type": "code",
   "execution_count": 3,
   "metadata": {},
   "outputs": [],
   "source": [
    "class TestBaseWriter(unittest.TestCase):\n",
    "    '''Class to test the base writer'''\n",
    "\n",
    "    def testBaseWriter(self):\n",
    "        '''Test the base writer'''\n",
    "\n",
    "        filename = os.path.join(projdir, 'sessions', 'unittest.tmp')\n",
    "\n",
    "        baseWriter = BaseWriter(filename, sbnReader.tracks)"
   ]
  },
  {
   "cell_type": "code",
   "execution_count": 4,
   "metadata": {},
   "outputs": [
    {
     "name": "stdout",
     "output_type": "stream",
     "text": [
      "\n",
      "Test file loaded in 0.01 seconds\n"
     ]
    }
   ],
   "source": [
    "if __name__ == '__main__':\n",
    "    for path in ['python', '.', '..']:\n",
    "        readersPath = os.path.join(path, 'core')\n",
    "        if readersPath not in sys.path:\n",
    "            sys.path.extend([readersPath])\n",
    "\n",
    "    from file_reader import getFileReader\n",
    "\n",
    "    projdir = os.path.realpath(os.path.join(sys.path[0], \"..\", \"..\"))\n",
    "\n",
    "    sbnFilename = os.path.join(projdir, 'sessions', '20071227', 'MIKE_G_1003053_20071227_165512_DLG.SBP')\n",
    "    sbnReader = getFileReader(sbnFilename)\n",
    "\n",
    "    pc1 = time.perf_counter()\n",
    "    sbnReader.load()\n",
    "    pc2 = time.perf_counter()\n",
    "\n",
    "    print(\"\\nTest file loaded in %0.2f seconds\" % (pc2 - pc1))"
   ]
  },
  {
   "cell_type": "code",
   "execution_count": 5,
   "metadata": {},
   "outputs": [
    {
     "name": "stderr",
     "output_type": "stream",
     "text": [
      ".\n",
      "----------------------------------------------------------------------\n",
      "Ran 1 test in 0.001s\n",
      "\n",
      "OK\n"
     ]
    }
   ],
   "source": [
    "if __name__ == '__main__':\n",
    "    # Determine whether session is interactive or batch to facilitate unittest.main(..., exit=testExit)\n",
    "    import __main__ as main\n",
    "    testExit = hasattr(main, '__file__')\n",
    "\n",
    "    unittest.main(argv=['first-arg-is-ignored'], exit=testExit)"
   ]
  }
 ],
 "metadata": {
  "kernelspec": {
   "display_name": "Python 3 (ipykernel)",
   "language": "python",
   "name": "python3"
  },
  "language_info": {
   "codemirror_mode": {
    "name": "ipython",
    "version": 3
   },
   "file_extension": ".py",
   "mimetype": "text/x-python",
   "name": "python",
   "nbconvert_exporter": "python",
   "pygments_lexer": "ipython3",
   "version": "3.9.7"
  }
 },
 "nbformat": 4,
 "nbformat_minor": 2
}
