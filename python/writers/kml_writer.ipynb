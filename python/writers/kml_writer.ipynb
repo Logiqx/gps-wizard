{
 "cells": [
  {
   "cell_type": "markdown",
   "metadata": {},
   "source": [
    "# KML Writer - Keyhole Markup Language\n",
    "\n",
    "Copyright 2022 Michael George (AKA Logiqx).\n",
    "\n",
    "This file is part of [GPS Wizard](https://logiqx.github.io/gps-wizard/) and is distributed under the terms of the GNU General Public License.\n",
    "\n",
    "GPS Wizard is free software: you can redistribute it and/or modify it under the terms of the GNU General Public License as published by the Free Software Foundation, either version 3 of the License, or (at your option) any later version.\n",
    "\n",
    "GPS Wizard is distributed in the hope that it will be useful, but WITHOUT ANY WARRANTY; without even the implied warranty of MERCHANTABILITY or FITNESS FOR A PARTICULAR PURPOSE. See the GNU General Public License for more details.\n",
    "\n",
    "You should have received a copy of the GNU General Public License along with GPS Wizard. If not, see <https://www.gnu.org/licenses/>."
   ]
  },
  {
   "cell_type": "code",
   "execution_count": 1,
   "metadata": {},
   "outputs": [],
   "source": [
    "import os\n",
    "import sys\n",
    "import time\n",
    "\n",
    "from lxml import etree\n",
    "from datetime import datetime\n",
    "\n",
    "import unittest\n",
    "\n",
    "from base_writer import BaseWriter"
   ]
  },
  {
   "cell_type": "markdown",
   "metadata": {},
   "source": [
    "## Main Class"
   ]
  },
  {
   "cell_type": "code",
   "execution_count": 2,
   "metadata": {},
   "outputs": [],
   "source": [
    "class KmlWriter(BaseWriter):\n",
    "    '''KML file - Keyhole Markup Language'''\n",
    "\n",
    "    def __init__(self, filename=None, tracks=None):\n",
    "        '''Basic init just records the filename'''\n",
    "\n",
    "        super().__init__(filename, tracks=tracks)\n",
    "\n",
    "\n",
    "    def prepare(self, tracks, name='GPS Wizard'):\n",
    "        '''Prepare KML prior to being saved'''\n",
    "\n",
    "        # XML document\n",
    "        xsi = 'http://www.w3.org/2001/XMLSchema-instance'\n",
    "        kml = etree.Element(\n",
    "            'kml', \n",
    "             {etree.QName(xsi, 'schemaLocation'): 'http://www.opengis.net/kml/2.2 http://schemas.opengis.net/kml/2.2.0/ogckml22.xsd'},\n",
    "             nsmap={None: 'http://www.opengis.net/kml/2.2', 'xsi': xsi})\n",
    "\n",
    "        # Document\n",
    "        document = etree.SubElement(kml, 'Document')\n",
    "        documentName = etree.SubElement(document, 'name')\n",
    "        documentName.text = name\n",
    "        documentOpen = etree.SubElement(document, 'open')\n",
    "        documentOpen.text = '1'\n",
    "\n",
    "        # Style\n",
    "        style = etree.SubElement(document, 'Style')\n",
    "        style.attrib['id'] = 'wizard'\n",
    "\n",
    "        # LineStyle\n",
    "        linestyle = etree.SubElement(style, 'LineStyle')\n",
    "        linestyleColor = etree.SubElement(linestyle, 'color')\n",
    "        linestyleColor.text = 'a00000ff'\n",
    "        linestyleWidth = etree.SubElement(linestyle, 'width')\n",
    "        linestyleWidth.text = '2'       \n",
    "\n",
    "        # Each track will be a new placemark\n",
    "        for track in tracks:\n",
    "            # Formatting of latitude and longitude\n",
    "            formats = self.getFormats(track)\n",
    "            coordinateFormat = '{},{}'.format(formats['lat'], formats['lon'])\n",
    "\n",
    "            # Placemark\n",
    "            placemark = etree.SubElement(document, 'Placemark')\n",
    "            placemarkName = etree.SubElement(placemark, 'name')\n",
    "            if track.name:\n",
    "                placemarkName.text = track.name\n",
    "            else:\n",
    "                placemarkName.text = 'TBC'\n",
    "            placemarkStyleUrl = etree.SubElement(placemark, 'styleUrl')\n",
    "            placemarkStyleUrl.text = '#wizard'\n",
    "\n",
    "            # LineString\n",
    "            lineString = etree.SubElement(placemark, 'LineString')\n",
    "            lineStringExtrude = etree.SubElement(lineString, 'extrude')\n",
    "            lineStringExtrude.text = '1'       \n",
    "            lineStringTessellate = etree.SubElement(lineString, 'tessellate')\n",
    "            lineStringTessellate.text = '1'\n",
    "\n",
    "            # Coordinates\n",
    "            coordinatesList = []\n",
    "            for i in range(track.numPoints):\n",
    "                coordinate = coordinateFormat.format(track.data['lon'][i], track.data['lat'][i])\n",
    "                coordinatesList.append(coordinate)\n",
    "\n",
    "            coordinates = etree.SubElement(lineString, 'coordinates')\n",
    "            coordinates.text=' '.join(coordinatesList)\n",
    "\n",
    "        self.buffer = etree.tostring(kml, pretty_print=True, xml_declaration=False, encoding='UTF-8',\n",
    "                                     doctype='<?xml version=\"1.0\" encoding=\"UTF-8\"?>')\n",
    "\n",
    "\n",
    "    def save(self):\n",
    "        '''Save KML to disk'''\n",
    "        \n",
    "        with open(self.filename, 'wb') as f:\n",
    "            f.write(self.buffer)"
   ]
  },
  {
   "cell_type": "markdown",
   "metadata": {},
   "source": [
    "## Unit Tests"
   ]
  },
  {
   "cell_type": "code",
   "execution_count": 3,
   "metadata": {},
   "outputs": [],
   "source": [
    "class TestKmlWriter(unittest.TestCase):\n",
    "    '''Class to test the KML writer'''\n",
    "\n",
    "    def testKmlWriter(self):\n",
    "        '''Test the KML writer'''\n",
    "\n",
    "        filename = os.path.join(projdir, 'sessions', 'unittest.kml')\n",
    "\n",
    "        kmlWriter = KmlWriter(filename, gpxReader.tracks)\n",
    "\n",
    "        kmlWriter.save()\n",
    "        \n",
    "        os.unlink(filename)"
   ]
  },
  {
   "cell_type": "code",
   "execution_count": 4,
   "metadata": {},
   "outputs": [
    {
     "name": "stdout",
     "output_type": "stream",
     "text": [
      "\n",
      "Test file loaded in 0.01 seconds\n"
     ]
    }
   ],
   "source": [
    "if __name__ == '__main__':\n",
    "    for path in ['python', '.', '..']:\n",
    "        readersPath = os.path.join(path, 'core')\n",
    "        if readersPath not in sys.path:\n",
    "            sys.path.extend([readersPath])\n",
    "\n",
    "    from file_reader import getFileReader\n",
    "\n",
    "    projdir = os.path.realpath(os.path.join(sys.path[0], \"..\", \"..\"))\n",
    "\n",
    "    gpxFilename = os.path.join(projdir, 'sessions', 'misc', 'Seatownandgoldencap.gpx')\n",
    "    gpxReader = getFileReader(gpxFilename)\n",
    "\n",
    "    pc1 = time.perf_counter()\n",
    "    gpxReader.load()\n",
    "    pc2 = time.perf_counter()\n",
    "\n",
    "    print(\"\\nTest file loaded in %0.2f seconds\" % (pc2 - pc1))"
   ]
  },
  {
   "cell_type": "code",
   "execution_count": 5,
   "metadata": {},
   "outputs": [
    {
     "name": "stderr",
     "output_type": "stream",
     "text": [
      ".\n",
      "----------------------------------------------------------------------\n",
      "Ran 1 test in 0.004s\n",
      "\n",
      "OK\n"
     ]
    }
   ],
   "source": [
    "if __name__ == '__main__':\n",
    "    # Determine whether session is interactive or batch to facilitate unittest.main(..., exit=testExit)\n",
    "    import __main__ as main\n",
    "    testExit = hasattr(main, '__file__')\n",
    "\n",
    "    unittest.main(argv=['first-arg-is-ignored'], exit=testExit)"
   ]
  }
 ],
 "metadata": {
  "kernelspec": {
   "display_name": "Python 3 (ipykernel)",
   "language": "python",
   "name": "python3"
  },
  "language_info": {
   "codemirror_mode": {
    "name": "ipython",
    "version": 3
   },
   "file_extension": ".py",
   "mimetype": "text/x-python",
   "name": "python",
   "nbconvert_exporter": "python",
   "pygments_lexer": "ipython3",
   "version": "3.9.7"
  }
 },
 "nbformat": 4,
 "nbformat_minor": 2
}
