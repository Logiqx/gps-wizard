{
 "cells": [
  {
   "cell_type": "markdown",
   "metadata": {},
   "source": [
    "# Track\n",
    "\n",
    "Copyright 2022 Michael George (AKA Logiqx).\n",
    "\n",
    "This file is part of [GPS Wizard](https://github.com/Logiqx/gps-wizard) and is distributed under the terms of the GNU General Public License.\n",
    "\n",
    "GPS Wizard is free software: you can redistribute it and/or modify it under the terms of the GNU General Public License as published by the Free Software Foundation, either version 3 of the License, or (at your option) any later version.\n",
    "\n",
    "GPS Wizard is distributed in the hope that it will be useful, but WITHOUT ANY WARRANTY; without even the implied warranty of MERCHANTABILITY or FITNESS FOR A PARTICULAR PURPOSE. See the GNU General Public License for more details.\n",
    "\n",
    "You should have received a copy of the GNU General Public License along with GPS Wizard. If not, see <https://www.gnu.org/licenses/>."
   ]
  },
  {
   "cell_type": "code",
   "execution_count": 1,
   "metadata": {},
   "outputs": [],
   "source": [
    "import sys\n",
    "import os\n",
    "\n",
    "import numpy as np\n",
    "\n",
    "import unittest"
   ]
  },
  {
   "cell_type": "markdown",
   "metadata": {},
   "source": [
    "## Main Class"
   ]
  },
  {
   "cell_type": "code",
   "execution_count": 2,
   "metadata": {},
   "outputs": [],
   "source": [
    "class Track():\n",
    "    '''Basic GPS track class'''\n",
    "\n",
    "    def __init__(self):\n",
    "        '''Basic init'''\n",
    "\n",
    "        self.name = None\n",
    "        \n",
    "        self.data = {}\n",
    "        self.fields = {}\n",
    "\n",
    "        self.numPoints = 0\n",
    "\n",
    "\n",
    "    def summarise(self):\n",
    "        '''Summarise the tracks after loading'''\n",
    "        \n",
    "        # Count the number of records\n",
    "        self.numPoints = 0\n",
    "\n",
    "        for fieldName, array in self.data.items():\n",
    "            if self.numPoints and array.size != self.numPoints:\n",
    "                raise RuntimeError('Inconsistent array length - field {}'.format(fieldName))\n",
    "            else:\n",
    "                self.fields[fieldName] = self.getFieldInfo(array)\n",
    "                self.numPoints = array.size\n",
    "\n",
    "\n",
    "    def getFieldInfo(self, array):\n",
    "        '''Determine the number of decimal places being used by the field'''\n",
    "\n",
    "        return {'type': array.dtype.name, 'decimals': self.getDecimals(array)}\n",
    "\n",
    "\n",
    "    def getDecimals(self, array, maxDecDigits=None):\n",
    "        '''Determine the number of decimal places being used in the array'''\n",
    "\n",
    "        # maxDecDigits is currently unused but is available for the future\n",
    "        if maxDecDigits is None:\n",
    "            maxAbs = np.max(np.abs(array))\n",
    "            if maxAbs > 0:\n",
    "                maxIntDigits = int(np.floor(np.log10(maxAbs)) + 1)\n",
    "            else:\n",
    "                maxIntDigits = 0\n",
    "\n",
    "            if array.dtype.name == 'float64':\n",
    "                maxDecDigits = 15 - maxIntDigits\n",
    "            elif array.dtype.name == 'float32':\n",
    "                maxDecDigits = 6 - maxIntDigits\n",
    "            elif array.dtype.name == 'float16':\n",
    "                maxDecDigits = 3 - maxIntDigits\n",
    "            else:\n",
    "                return 0\n",
    "\n",
    "        # Scale the float so that it can be treated as an integer\n",
    "        scale = 10 ** maxDecDigits\n",
    "        scaled = np.round(array * scale)\n",
    "\n",
    "        divisor = 10\n",
    "        decimals = maxDecDigits\n",
    "\n",
    "        while divisor <= scale and not np.any(scaled % divisor):\n",
    "            divisor *= 10\n",
    "            decimals -= 1\n",
    "\n",
    "        return decimals"
   ]
  },
  {
   "cell_type": "markdown",
   "metadata": {},
   "source": [
    "## Unit Tests"
   ]
  },
  {
   "cell_type": "code",
   "execution_count": 3,
   "metadata": {},
   "outputs": [],
   "source": [
    "class TestReaders(unittest.TestCase):\n",
    "    '''Class to test all of the file readers'''\n",
    "\n",
    "    def testFloat32Dec2(self):\n",
    "        '''Test float32 - 2 decimals'''\n",
    "\n",
    "        track = Track()\n",
    "        \n",
    "        array = np.array([0.12, 6543.21], dtype='float32')\n",
    "        \n",
    "        arrayInfo = track.getFieldInfo(array)\n",
    "        \n",
    "        self.assertEqual(arrayInfo['type'], 'float32')\n",
    "        self.assertEqual(arrayInfo['decimals'], 2)\n",
    "\n",
    "\n",
    "    def testFloat32Dec3(self):\n",
    "        '''Test float32 - 3 decimals'''\n",
    "\n",
    "        track = Track()\n",
    "        \n",
    "        array = np.array([.123, 654.321], dtype='float32')\n",
    "        \n",
    "        arrayInfo = track.getFieldInfo(array)\n",
    "        \n",
    "        self.assertEqual(arrayInfo['type'], 'float32')\n",
    "        self.assertEqual(arrayInfo['decimals'], 3)\n",
    "\n",
    "\n",
    "    def testFloat64Dec2(self):\n",
    "        '''Test float64 - 2 decimals'''\n",
    "\n",
    "        track = Track()\n",
    "        \n",
    "        array = np.array([0.12, 9876543.21], dtype='float64')\n",
    "        \n",
    "        arrayInfo = track.getFieldInfo(array)\n",
    "        \n",
    "        self.assertEqual(arrayInfo['type'], 'float64')\n",
    "        self.assertEqual(arrayInfo['decimals'], 2)\n",
    "\n",
    "\n",
    "    def testFloat64Dec3(self):\n",
    "        '''Test float64 - 3 decimals'''\n",
    "\n",
    "        track = Track()\n",
    "        \n",
    "        array = np.array([.123, 987654.321], dtype='float64')\n",
    "        \n",
    "        arrayInfo = track.getFieldInfo(array)\n",
    "        \n",
    "        self.assertEqual(arrayInfo['type'], 'float64')\n",
    "        self.assertEqual(arrayInfo['decimals'], 3)"
   ]
  },
  {
   "cell_type": "code",
   "execution_count": 4,
   "metadata": {},
   "outputs": [
    {
     "name": "stderr",
     "output_type": "stream",
     "text": [
      "....\n",
      "----------------------------------------------------------------------\n",
      "Ran 4 tests in 0.003s\n",
      "\n",
      "OK\n"
     ]
    }
   ],
   "source": [
    "if __name__ == '__main__':\n",
    "    # Determine whether session is interactive or batch to facilitate unittest.main(..., exit=testExit)\n",
    "    import __main__ as main\n",
    "    testExit = hasattr(main, '__file__')\n",
    "\n",
    "    projdir = os.path.realpath(os.path.join(sys.path[0], \"..\", \"..\"))\n",
    "\n",
    "    unittest.main(argv=['first-arg-is-ignored'], exit=testExit)"
   ]
  }
 ],
 "metadata": {
  "kernelspec": {
   "display_name": "Python 3 (ipykernel)",
   "language": "python",
   "name": "python3"
  },
  "language_info": {
   "codemirror_mode": {
    "name": "ipython",
    "version": 3
   },
   "file_extension": ".py",
   "mimetype": "text/x-python",
   "name": "python",
   "nbconvert_exporter": "python",
   "pygments_lexer": "ipython3",
   "version": "3.9.7"
  }
 },
 "nbformat": 4,
 "nbformat_minor": 2
}
