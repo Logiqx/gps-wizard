{
 "cells": [
  {
   "cell_type": "markdown",
   "metadata": {},
   "source": [
    "# File Writer\n",
    "\n",
    "Copyright 2022 Michael George (AKA Logiqx).\n",
    "\n",
    "This file is part of [GPS Wizard](https://logiqx.github.io/gps-wizard/) and is distributed under the terms of the GNU General Public License.\n",
    "\n",
    "GPS Wizard is free software: you can redistribute it and/or modify it under the terms of the GNU General Public License as published by the Free Software Foundation, either version 3 of the License, or (at your option) any later version.\n",
    "\n",
    "GPS Wizard is distributed in the hope that it will be useful, but WITHOUT ANY WARRANTY; without even the implied warranty of MERCHANTABILITY or FITNESS FOR A PARTICULAR PURPOSE. See the GNU General Public License for more details.\n",
    "\n",
    "You should have received a copy of the GNU General Public License along with Foobar. If not, see <https://www.gnu.org/licenses/>."
   ]
  },
  {
   "cell_type": "code",
   "execution_count": 1,
   "metadata": {},
   "outputs": [],
   "source": [
    "import sys\n",
    "import os\n",
    "\n",
    "import unittest\n",
    "\n",
    "for path in ['python', '.', '..']:\n",
    "    writersPath = os.path.join(path, 'writers')\n",
    "    if writersPath not in sys.path:\n",
    "        sys.path.extend([writersPath])\n",
    "\n",
    "from csv_writer import CsvWriter\n",
    "from gpx_writer import GpxWriter\n",
    "from kml_writer import KmlWriter"
   ]
  },
  {
   "cell_type": "markdown",
   "metadata": {},
   "source": [
    "## Main Method"
   ]
  },
  {
   "cell_type": "code",
   "execution_count": 2,
   "metadata": {},
   "outputs": [],
   "source": [
    "def getFileWriter(filename, track=None):\n",
    "    '''Determine file type and return appropriate file writer'''\n",
    "\n",
    "    ext = os.path.splitext(filename)[1].lower()\n",
    "\n",
    "    if ext == '.csv':\n",
    "        fileWriter = CsvWriter(filename, track=track)\n",
    "    elif ext == '.gpx':\n",
    "        fileWriter = GpxWriter(filename, track=track)\n",
    "    elif ext == '.kml':\n",
    "        fileWriter = KmlWriter(filename, track=track)\n",
    "    else:\n",
    "        raise RuntimeError('Extension {} is not supported'.format(ext))\n",
    "\n",
    "    return fileWriter"
   ]
  },
  {
   "cell_type": "markdown",
   "metadata": {},
   "source": [
    "## Unit Tests"
   ]
  },
  {
   "cell_type": "code",
   "execution_count": 3,
   "metadata": {},
   "outputs": [
    {
     "name": "stderr",
     "output_type": "stream",
     "text": [
      "\n",
      "----------------------------------------------------------------------\n",
      "Ran 0 tests in 0.000s\n",
      "\n",
      "OK\n"
     ]
    }
   ],
   "source": [
    "if __name__ == '__main__':\n",
    "    # Determine whether session is interactive or batch to facilitate unittest.main(..., exit=testExit)\n",
    "    import __main__ as main\n",
    "    testExit = hasattr(main, '__file__')\n",
    "\n",
    "    projdir = os.path.realpath(os.path.join(sys.path[0], \"..\", \"..\"))\n",
    "\n",
    "    unittest.main(argv=['first-arg-is-ignored'], exit=testExit)"
   ]
  },
  {
   "cell_type": "code",
   "execution_count": null,
   "metadata": {},
   "outputs": [],
   "source": []
  }
 ],
 "metadata": {
  "kernelspec": {
   "display_name": "Python 3 (ipykernel)",
   "language": "python",
   "name": "python3"
  },
  "language_info": {
   "codemirror_mode": {
    "name": "ipython",
    "version": 3
   },
   "file_extension": ".py",
   "mimetype": "text/x-python",
   "name": "python",
   "nbconvert_exporter": "python",
   "pygments_lexer": "ipython3",
   "version": "3.9.7"
  }
 },
 "nbformat": 4,
 "nbformat_minor": 2
}
