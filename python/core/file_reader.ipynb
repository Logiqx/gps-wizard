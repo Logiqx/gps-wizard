{
 "cells": [
  {
   "cell_type": "markdown",
   "metadata": {},
   "source": [
    "# File Reader\n",
    "\n",
    "Copyright 2022 Michael George (AKA Logiqx).\n",
    "\n",
    "This file is part of [GPS Wizard](https://logiqx.github.io/gps-wizard/) and is distributed under the terms of the GNU General Public License.\n",
    "\n",
    "GPS Wizard is free software: you can redistribute it and/or modify it under the terms of the GNU General Public License as published by the Free Software Foundation, either version 3 of the License, or (at your option) any later version.\n",
    "\n",
    "GPS Wizard is distributed in the hope that it will be useful, but WITHOUT ANY WARRANTY; without even the implied warranty of MERCHANTABILITY or FITNESS FOR A PARTICULAR PURPOSE. See the GNU General Public License for more details.\n",
    "\n",
    "You should have received a copy of the GNU General Public License along with GPS Wizard. If not, see <https://www.gnu.org/licenses/>."
   ]
  },
  {
   "cell_type": "code",
   "execution_count": 3,
   "metadata": {},
   "outputs": [],
   "source": [
    "import sys\n",
    "import os\n",
    "\n",
    "import unittest\n",
    "\n",
    "for path in ['python', '.', '..']:\n",
    "    readersPath = os.path.join(path, 'readers')\n",
    "    if readersPath not in sys.path:\n",
    "        sys.path.extend([readersPath])\n",
    "\n",
    "from fit_reader import FitReader\n",
    "from gpx_reader import GpxReader\n",
    "from nmea_reader import NmeaReader\n",
    "from oao_reader import OaoReader\n",
    "from sbn_reader import SbnReader\n",
    "from sbp_reader import SbpReader\n",
    "from ubx_reader import UbxReader"
   ]
  },
  {
   "cell_type": "markdown",
   "metadata": {},
   "source": [
    "## Main Method"
   ]
  },
  {
   "cell_type": "code",
   "execution_count": 4,
   "metadata": {},
   "outputs": [],
   "source": [
    "def getFileReader(filename):\n",
    "    '''Determine file type and return appropriate file reader'''\n",
    "\n",
    "    ext = os.path.splitext(filename)[1].lower()\n",
    "\n",
    "    if ext == '.fit':\n",
    "        fileReader = FitReader(filename)\n",
    "    elif ext == '.gpx':\n",
    "        fileReader = GpxReader(filename)\n",
    "    elif ext in ('.nmea', '.txt'):\n",
    "        fileReader = NmeaReader(filename)\n",
    "    elif ext == '.oao':\n",
    "        fileReader = OaoReader(filename)\n",
    "    elif ext == '.sbn':\n",
    "        fileReader = SbnReader(filename)\n",
    "    elif ext == '.sbp':\n",
    "        fileReader = SbpReader(filename)\n",
    "    elif ext == '.ubx':\n",
    "        fileReader = UbxReader(filename)\n",
    "    else:\n",
    "        raise RuntimeError('Extension {} is not supported'.format(ext))\n",
    "\n",
    "    return fileReader"
   ]
  },
  {
   "cell_type": "markdown",
   "metadata": {},
   "source": [
    "## Unit Tests"
   ]
  },
  {
   "cell_type": "code",
   "execution_count": 5,
   "metadata": {},
   "outputs": [],
   "source": [
    "class TestReaders(unittest.TestCase):\n",
    "    '''Class to test all of the file readers'''\n",
    "\n",
    "    def testFitApexPro(self):\n",
    "        '''Test loading of an FIT file from COROS Apex Pro'''\n",
    "\n",
    "        filename = os.path.join(projdir, 'sessions', '20220411', 'APEX_Pro_Speedsurfing20220411111317.fit')\n",
    "        fileReader = getFileReader(filename)\n",
    "        fileReader.load()\n",
    "\n",
    "\n",
    "    def testGpxApexPro(self):\n",
    "        '''Test loading of an GPX file from COROS Apex Pro'''\n",
    "\n",
    "        filename = os.path.join(projdir, 'sessions', '20220411', 'APEX_Pro_Speedsurfing20220411111317.gpx')\n",
    "        fileReader = getFileReader(filename)\n",
    "        fileReader.load()\n",
    "\n",
    "\n",
    "    def testNmeaGt31(self):\n",
    "        '''Test loading of an NMEA file from a GT-31'''\n",
    "\n",
    "        filename = os.path.join(projdir, 'sessions', '20220411', 'GT31_1Hz_GEORG30MICHA_932000175_20220411_111600.nmea')\n",
    "        fileReader = getFileReader(filename)\n",
    "        fileReader.load()\n",
    "\n",
    "\n",
    "    def testOaoMini(self):\n",
    "        '''Test loading of an OAO file from a Motion Mini'''\n",
    "\n",
    "        filename = os.path.join(projdir, 'sessions', '20220411', 'Motion_Mini_10Hz_0470_2022-04-11-1117.oao')\n",
    "        fileReader = getFileReader(filename)\n",
    "        fileReader.load()\n",
    "\n",
    "\n",
    "    def testOaoEsp(self):\n",
    "        '''Test loading of an OAO file from a ESP-GPS'''\n",
    "\n",
    "        filename = os.path.join(projdir, 'sessions', '20211230-esp', 'Head_L_7C9EBDFAF5C8_007.oao')\n",
    "        fileReader = getFileReader(filename)\n",
    "        fileReader.load()\n",
    "\n",
    "\n",
    "    def testSbnGt11(self):\n",
    "        '''Test loading of an SBN file from a GT-11'''\n",
    "\n",
    "        filename = os.path.join(projdir, 'sessions', '20071227', 'MIKE_G_1003053_20071227_133836.SBN')\n",
    "        fileReader = getFileReader(filename)\n",
    "        fileReader.load()\n",
    "\n",
    "\n",
    "    def testSbnGt31(self):\n",
    "        '''Test loading of an SBN file from a GT-31'''\n",
    "\n",
    "        filename = os.path.join(projdir, 'sessions', '20220411', 'GT31_1Hz_GEORG30MICHA_932000175_20220411_111600.SBN')\n",
    "        fileReader = getFileReader(filename)\n",
    "        fileReader.load()\n",
    "\n",
    "\n",
    "    def testSbpGt11(self):\n",
    "        '''Test loading of an SBP file from a GT-11'''\n",
    "\n",
    "        filename = os.path.join(projdir, 'sessions', '20071227', 'MIKE_G_1003053_20071227_165512_DLG.SBP')\n",
    "        fileReader = getFileReader(filename)\n",
    "        fileReader.load()\n",
    "\n",
    "\n",
    "    def testSbpGt31(self):\n",
    "        '''Test loading of an SBP file from a GT-31'''\n",
    "\n",
    "        filename = os.path.join(projdir, 'sessions', '20220411', 'GT31_1Hz_GEORG30MICHA_932000175_20220512_094254_DLG.SBP')\n",
    "        fileReader = getFileReader(filename)\n",
    "        fileReader.load()\n",
    "\n",
    "\n",
    "    def testUbxEsp(self):\n",
    "        '''Test loading of a UBX file from an ESP-GPS'''\n",
    "\n",
    "        filename = os.path.join(projdir, 'sessions', '20211230-esp', 'Head_L_7C9EBDFAF5C8_007.ubx')\n",
    "        fileReader = getFileReader(filename)\n",
    "        fileReader.load()"
   ]
  },
  {
   "cell_type": "code",
   "execution_count": 6,
   "metadata": {},
   "outputs": [
    {
     "name": "stderr",
     "output_type": "stream",
     "text": [
      "..........\n",
      "----------------------------------------------------------------------\n",
      "Ran 10 tests in 2.544s\n",
      "\n",
      "OK\n"
     ]
    }
   ],
   "source": [
    "if __name__ == '__main__':\n",
    "    # Determine whether session is interactive or batch to facilitate unittest.main(..., exit=testExit)\n",
    "    import __main__ as main\n",
    "    testExit = hasattr(main, '__file__')\n",
    "\n",
    "    projdir = os.path.realpath(os.path.join(sys.path[0], \"..\", \"..\"))\n",
    "\n",
    "    unittest.main(argv=['first-arg-is-ignored'], exit=testExit)"
   ]
  },
  {
   "cell_type": "code",
   "execution_count": null,
   "metadata": {},
   "outputs": [],
   "source": []
  }
 ],
 "metadata": {
  "kernelspec": {
   "display_name": "Python 3 (ipykernel)",
   "language": "python",
   "name": "python3"
  },
  "language_info": {
   "codemirror_mode": {
    "name": "ipython",
    "version": 3
   },
   "file_extension": ".py",
   "mimetype": "text/x-python",
   "name": "python",
   "nbconvert_exporter": "python",
   "pygments_lexer": "ipython3",
   "version": "3.9.7"
  }
 },
 "nbformat": 4,
 "nbformat_minor": 2
}
