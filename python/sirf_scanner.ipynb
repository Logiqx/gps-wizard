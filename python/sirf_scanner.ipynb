{
 "cells": [
  {
   "cell_type": "markdown",
   "id": "dc907b89",
   "metadata": {},
   "source": [
    "# SiRF Scanner\n",
    "\n",
    "## Written by Michael George\n",
    "\n",
    "Iterate through folders, looking for file reader issues caused by wrong extension, missing headers, bad checksums, etc."
   ]
  },
  {
   "cell_type": "code",
   "execution_count": 1,
   "id": "4dfe4b28",
   "metadata": {},
   "outputs": [],
   "source": [
    "import os\n",
    "import sys\n",
    "import traceback\n",
    "\n",
    "readersPath = os.path.join('.', 'readers')\n",
    "if readersPath not in sys.path:\n",
    "    sys.path.extend([readersPath])\n",
    "\n",
    "from generic_reader import getReader"
   ]
  },
  {
   "cell_type": "markdown",
   "id": "043c2a97",
   "metadata": {},
   "source": [
    "## Main Function"
   ]
  },
  {
   "cell_type": "code",
   "execution_count": 2,
   "id": "e1e5a5cf",
   "metadata": {},
   "outputs": [],
   "source": [
    "def scanFiles():\n",
    "    '''Iterate through session archive testing each GPS file'''\n",
    "\n",
    "    rootDir = os.path.join(projdir, 'sessions', 'broken')\n",
    "\n",
    "    exceptions = {}\n",
    "    passes = []\n",
    "\n",
    "    for root, subDirs, files in os.walk(rootDir):\n",
    "        for file in files:\n",
    "            ext = os.path.splitext(file)[1].lower()\n",
    "            \n",
    "            if ext and ext in ('.sbn', '.sbp'):\n",
    "                filePath = os.path.join(root, file)\n",
    "                reader = getReader(filePath)\n",
    "                try:\n",
    "                    reader.load()\n",
    "                    passes.append(file)\n",
    "                    print('.', end='')\n",
    "\n",
    "                except Exception:\n",
    "                    exceptions[file] = traceback.format_exc()\n",
    "                    print('E', end='')\n",
    "\n",
    "    print(os.linesep * 2 + 'Errors:')\n",
    "    if len(exceptions) > 0:\n",
    "        for file in exceptions:\n",
    "            print(os.linesep + file)\n",
    "            print(exceptions[file].split(os.linesep)[-2:-1])\n",
    "    else:\n",
    "        print(os.linesep + 'None!')\n",
    "\n",
    "    print(os.linesep * 2 + 'Passes:' + os.linesep)\n",
    "    if len(passes) > 0:\n",
    "        for file in passes:\n",
    "            print(file)\n",
    "    else:\n",
    "        print('None!')"
   ]
  },
  {
   "cell_type": "code",
   "execution_count": 3,
   "id": "37e301aa",
   "metadata": {},
   "outputs": [
    {
     "name": "stdout",
     "output_type": "stream",
     "text": [
      "EEEEEEEEE\n",
      "\n",
      "Errors:\n",
      "\n",
      "TONY_1002841_20090718_120329_DLG.SBP\n",
      "['ValueError: hour must be in 0..23']\n",
      "\n",
      "SIMON R_932000407_20120517_194953_DLG.SBP\n",
      "['ValueError: Mismatch of seconds and timestamps']\n",
      "\n",
      "ANNETTE_1001984_20100513_192054_DLG.SBP\n",
      "['ValueError: hour must be in 0..23']\n",
      "\n",
      "PHIL_1001781_20100603_203612_DLG.SBP\n",
      "['ValueError: hour must be in 0..23']\n",
      "\n",
      "ANDRE_1003053_20100502_221354_DLG.SBP\n",
      "['ValueError: hour must be in 0..23']\n",
      "\n",
      "PHIL_1001781_20100610_202530_DLG.SBP\n",
      "['ValueError: hour must be in 0..23']\n",
      "\n",
      "TONY_1002841_20100610_201619_DLG.SBP\n",
      "['ValueError: hour must be in 0..23']\n",
      "\n",
      "CHRIS_BATES.sbp\n",
      "[\"ValueError: invalid literal for int() with base 10: 'unknown'\"]\n",
      "\n",
      "ANDRE_1003053_20100506_185459_DLG.SBP\n",
      "['ValueError: hour must be in 0..23']\n",
      "\n",
      "\n",
      "Passes:\n",
      "\n",
      "None!\n"
     ]
    }
   ],
   "source": [
    "if __name__ == '__main__':\n",
    "    projdir = os.path.realpath(os.path.join(sys.path[0], \"..\"))\n",
    "\n",
    "    scanFiles()"
   ]
  },
  {
   "cell_type": "code",
   "execution_count": null,
   "id": "6a41b351",
   "metadata": {},
   "outputs": [],
   "source": []
  }
 ],
 "metadata": {
  "kernelspec": {
   "display_name": "Python 3 (ipykernel)",
   "language": "python",
   "name": "python3"
  },
  "language_info": {
   "codemirror_mode": {
    "name": "ipython",
    "version": 3
   },
   "file_extension": ".py",
   "mimetype": "text/x-python",
   "name": "python",
   "nbconvert_exporter": "python",
   "pygments_lexer": "ipython3",
   "version": "3.9.7"
  }
 },
 "nbformat": 4,
 "nbformat_minor": 5
}
