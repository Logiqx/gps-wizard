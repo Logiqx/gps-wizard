{
 "cells": [
  {
   "cell_type": "markdown",
   "metadata": {},
   "source": [
    "# Common Core\n",
    "\n",
    "Created by Michael George (AKA Logiqx)\n",
    "\n",
    "Website: https://logiqx.github.io/gps-wizard/"
   ]
  },
  {
   "cell_type": "code",
   "execution_count": 1,
   "metadata": {},
   "outputs": [],
   "source": [
    "import os\n",
    "import sys\n",
    "\n",
    "from datetime import date, datetime, timedelta\n",
    "\n",
    "import unittest\n",
    "\n",
    "import csv\n",
    "import numpy as np\n",
    "\n",
    "projdir = os.path.realpath(os.path.join(sys.path[0], \"..\"))"
   ]
  },
  {
   "cell_type": "markdown",
   "metadata": {},
   "source": [
    "## Common Definitions\n",
    "\n",
    "e.g. Nation and region names"
   ]
  },
  {
   "cell_type": "code",
   "execution_count": 2,
   "metadata": {},
   "outputs": [],
   "source": [
    "verbose = False"
   ]
  },
  {
   "cell_type": "markdown",
   "metadata": {},
   "source": [
    "## Printable Class\n",
    "\n",
    "Simple class that allows other classes to be printed."
   ]
  },
  {
   "cell_type": "code",
   "execution_count": 3,
   "metadata": {},
   "outputs": [],
   "source": [
    "class Printable:\n",
    "    def __repr__(self):\n",
    "        return str(self.__class__) + \": \" + str(self.__dict__)\n",
    "\n",
    "    def __str__(self):\n",
    "        return str(self.__class__) + \": \" + str(self.__dict__)"
   ]
  },
  {
   "cell_type": "markdown",
   "metadata": {},
   "source": [
    "## Load CSV into NumPy Array\n",
    "\n",
    "SImple function to load data from CSV into an ndarray"
   ]
  },
  {
   "cell_type": "code",
   "execution_count": 4,
   "metadata": {},
   "outputs": [],
   "source": [
    "def loadCsvIntoArray(fileName, verbose=verbose):\n",
    "    '''Load CSV file into numpy array'''\n",
    "\n",
    "    if verbose:\n",
    "        partName = os.path.basename(fileName)\n",
    "\n",
    "        print(f\"Loading {partName}...\")\n",
    "\n",
    "    try:\n",
    "        with open(fileName, 'r') as f:\n",
    "            reader = csv.reader(f, delimiter = ',')\n",
    "\n",
    "            dtype = []\n",
    "            converters = {}\n",
    "            colNames = next(reader)\n",
    "\n",
    "            for i in range(len(colNames)):\n",
    "                colName = colNames[i]\n",
    "                if colName in [\"distance\", \"speed\", \"hdop\", \"cog\"]:\n",
    "                    dtype.append((colName, \"f4\"))\n",
    "                elif colName in [\"position_lat\", \"position_long\"]:\n",
    "                    dtype.append((colName, \"i4\"))\n",
    "                else:\n",
    "                    dtype.append((colName, \"u4\"))\n",
    "\n",
    "            data = np.genfromtxt(f, dtype=dtype, delimiter=\",\")\n",
    "\n",
    "    except:\n",
    "        print(f\"Failed to load {fileName}\")\n",
    "        raise\n",
    "        \n",
    "    return data"
   ]
  },
  {
   "cell_type": "markdown",
   "metadata": {},
   "source": [
    "## NumPy Helper Functions\n",
    "\n",
    "Useful functionality such as moving average or rolling sum"
   ]
  },
  {
   "cell_type": "code",
   "execution_count": 5,
   "metadata": {},
   "outputs": [],
   "source": [
    "def movingAverage(data, window=7):\n",
    "    \"\"\"Calculate moving average using linear convolution\"\"\"\n",
    "\n",
    "    # Only use convolution if the input is at least as long as the window size\n",
    "    if len(data) >= window:\n",
    "        # The mode \"valid\" results in the less values than required, hence the np.zeros()\n",
    "        result = np.concatenate((np.zeros(window // 2),\n",
    "                                 np.convolve(data, np.ones(window) / window, mode=\"valid\"),\n",
    "                                 np.zeros(window // 2)))\n",
    "\n",
    "    else:\n",
    "        # Result is a simple ndarray of zeros\n",
    "        result = np.zeros(len(data))\n",
    "\n",
    "    return result"
   ]
  },
  {
   "cell_type": "code",
   "execution_count": 6,
   "metadata": {},
   "outputs": [],
   "source": [
    "class TestMovingAverage(unittest.TestCase):\n",
    "    '''Class to test rollingSum function'''   \n",
    "\n",
    "    def testShortList(self):\n",
    "        '''Test processing of a list shorter than the window size'''\n",
    "\n",
    "        actual = movingAverage(np.arange(6), 7)\n",
    "        expected = np.array(np.zeros(6))\n",
    "\n",
    "        self.assertEqual((actual == expected).all(), True)\n",
    "\n",
    "\n",
    "    def testLongerList(self):\n",
    "        '''Test processing of a list longer than the window size'''\n",
    "\n",
    "        actual = movingAverage(np.arange(14), 7)\n",
    "        expected = np.array([0, 0, 0, 3, 4, 5, 6, 7, 8, 9, 10, 0, 0, 0])\n",
    "\n",
    "        # Comparison of floating point values must be approximate\n",
    "        self.assertEqual((abs(actual - expected) < 1e-10).all(), True)"
   ]
  },
  {
   "cell_type": "markdown",
   "metadata": {},
   "source": [
    "## Run Unit Tests"
   ]
  },
  {
   "cell_type": "code",
   "execution_count": 7,
   "metadata": {},
   "outputs": [
    {
     "name": "stderr",
     "output_type": "stream",
     "text": [
      "..\n",
      "----------------------------------------------------------------------\n",
      "Ran 2 tests in 0.001s\n",
      "\n",
      "OK\n"
     ]
    }
   ],
   "source": [
    "if __name__ == '__main__':\n",
    "    import __main__ as main\n",
    "    exit = hasattr(main, '__file__')\n",
    "    unittest.main(argv=['first-arg-is-ignored'], exit=exit)"
   ]
  },
  {
   "cell_type": "code",
   "execution_count": null,
   "metadata": {},
   "outputs": [],
   "source": []
  }
 ],
 "metadata": {
  "kernelspec": {
   "display_name": "Python 3 (ipykernel)",
   "language": "python",
   "name": "python3"
  },
  "language_info": {
   "codemirror_mode": {
    "name": "ipython",
    "version": 3
   },
   "file_extension": ".py",
   "mimetype": "text/x-python",
   "name": "python",
   "nbconvert_exporter": "python",
   "pygments_lexer": "ipython3",
   "version": "3.9.7"
  }
 },
 "nbformat": 4,
 "nbformat_minor": 2
}
