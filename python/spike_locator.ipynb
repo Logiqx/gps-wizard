{
 "cells": [
  {
   "cell_type": "markdown",
   "id": "dc907b89",
   "metadata": {},
   "source": [
    "# Spike Locator\n",
    "\n",
    "## Written by Michael George\n",
    "\n",
    "Iterate through folders, looking for possible spikes in GPS files"
   ]
  },
  {
   "cell_type": "code",
   "execution_count": 1,
   "id": "4dfe4b28",
   "metadata": {},
   "outputs": [],
   "source": [
    "import os\n",
    "import sys\n",
    "\n",
    "import traceback\n",
    "\n",
    "readersPath = os.path.join('.', 'readers')\n",
    "if readersPath not in sys.path:\n",
    "    sys.path.extend([readersPath])\n",
    "\n",
    "from generic_reader import getReader"
   ]
  },
  {
   "cell_type": "markdown",
   "id": "043c2a97",
   "metadata": {},
   "source": [
    "## Main Function"
   ]
  },
  {
   "cell_type": "code",
   "execution_count": 2,
   "id": "e1e5a5cf",
   "metadata": {},
   "outputs": [],
   "source": [
    "def findSpikes():\n",
    "    '''Iterate through session archive testing each GPS file'''\n",
    "\n",
    "    rootDir = os.path.join(projdir, 'sessions')\n",
    "\n",
    "    errors = {}\n",
    "    spikes = []\n",
    "\n",
    "    for root, subDirs, files in os.walk(rootDir):\n",
    "        for file in files:\n",
    "            ext = os.path.splitext(file)[1].lower()\n",
    "            \n",
    "            if ext and ext in ('.gpx', '.oao', '.sbn', '.sbp', '.ubx'):\n",
    "                filePath = os.path.join(root, file)\n",
    "                reader = getReader(filePath)\n",
    "                try:\n",
    "                    # Some legacy ESP-GPS files contain bad checksums\n",
    "                    if ext == '.ubx':\n",
    "                        reader.load(ignoreChecksums=True)\n",
    "                    else:\n",
    "                        reader.load()\n",
    "                    \n",
    "                    # Ignore GT-11 files\n",
    "                    if not ('firmware' in reader.header and reader.header['firmware'].startswith('V1.62')):\n",
    "                        if 'sog' in reader.data:\n",
    "                            maxSpeed = reader.data['sog'].max()\n",
    "                            if maxSpeed > 25:\n",
    "                                print('S', end='')\n",
    "                                #print('\\n{} m/s in {}'.format(maxSpeed, filePath.replace(projdir + '/', '')))\n",
    "                                spikes.append(filePath.replace(projdir + '/', ''))\n",
    "                            else:\n",
    "                                print('.', end='')\n",
    "                    else:\n",
    "                        print('.', end='')\n",
    "                except:\n",
    "                    errors[filePath.replace(projdir + '/', '')] = traceback.format_exc()\n",
    "                    print('E', end='')\n",
    "\n",
    "    if len(errors) > 0:\n",
    "        print(os.linesep * 2 + 'Errors:')\n",
    "        for error in errors:\n",
    "            print(error)\n",
    "            print(errors[error])\n",
    "\n",
    "    if len(spikes) > 0:\n",
    "        print(os.linesep * 2 + 'Spikes:')\n",
    "        for spike in spikes:\n",
    "            print(spike)"
   ]
  },
  {
   "cell_type": "code",
   "execution_count": 3,
   "id": "37e301aa",
   "metadata": {},
   "outputs": [
    {
     "name": "stdout",
     "output_type": "stream",
     "text": [
      "..SS.....SS........................................................................................S..................................................S........................................................................................................................................................................................................................................................................................................................................................................................................................................................................................................................................................................................................................................................................................................................................................................................................................................................................................................................................................................................................................................................................................................................................................................................................................................................................................................................................................................................................................................................................................................................................................................................................................................................................................................................................................................................................\n",
      "\n",
      "Spikes:\n",
      "sessions/spikes/20120103-west-kirby/gt-31/STEVETHORP2_832002090_20120103_102927.SBN\n",
      "sessions/spikes/20120103-west-kirby/gt-31/STEVETHORP_832002093_20120103_160357_DLG.SBP\n",
      "sessions/spikes/20220314-wyke-regis/gt-31/K888_168603881_20220314_073849.sbp\n",
      "sessions/spikes/20121009-portland-harbour/gt-31/K888_123201112_20121009_085502.SBN\n",
      "sessions/archive/mike/Windfoiling/2020/Portland Harbour/2020-08-17/K888_168603881_20200817_202918.sbp\n",
      "sessions/archive/mike/Windsurfing/2015/Brogborough/2015-08-06/155800017_K888_20150806_193120.sbp\n",
      "\n",
      "All done!\n"
     ]
    }
   ],
   "source": [
    "if __name__ == '__main__':\n",
    "    projdir = os.path.realpath(os.path.join(sys.path[0], \"..\"))\n",
    "\n",
    "    findSpikes()\n",
    "    \n",
    "    print(os.linesep + 'All done!')"
   ]
  },
  {
   "cell_type": "code",
   "execution_count": null,
   "id": "6a41b351",
   "metadata": {},
   "outputs": [],
   "source": []
  }
 ],
 "metadata": {
  "kernelspec": {
   "display_name": "Python 3 (ipykernel)",
   "language": "python",
   "name": "python3"
  },
  "language_info": {
   "codemirror_mode": {
    "name": "ipython",
    "version": 3
   },
   "file_extension": ".py",
   "mimetype": "text/x-python",
   "name": "python",
   "nbconvert_exporter": "python",
   "pygments_lexer": "ipython3",
   "version": "3.9.7"
  }
 },
 "nbformat": 4,
 "nbformat_minor": 5
}
