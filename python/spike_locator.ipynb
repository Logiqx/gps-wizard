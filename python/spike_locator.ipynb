{
 "cells": [
  {
   "cell_type": "markdown",
   "id": "dc907b89",
   "metadata": {},
   "source": [
    "# Spike Locator\n",
    "\n",
    "## Written by Michael George\n",
    "\n",
    "Iterate through folders, looking for possible spikes in GPS files"
   ]
  },
  {
   "cell_type": "code",
   "execution_count": 1,
   "id": "4dfe4b28",
   "metadata": {},
   "outputs": [],
   "source": [
    "import os\n",
    "import sys\n",
    "\n",
    "readersPath = os.path.join('.', 'readers')\n",
    "if readersPath not in sys.path:\n",
    "    sys.path.extend([readersPath])\n",
    "\n",
    "from generic_reader import getReader"
   ]
  },
  {
   "cell_type": "markdown",
   "id": "043c2a97",
   "metadata": {},
   "source": [
    "## Main Function"
   ]
  },
  {
   "cell_type": "code",
   "execution_count": 2,
   "id": "e1e5a5cf",
   "metadata": {},
   "outputs": [],
   "source": [
    "def findSpikes():\n",
    "    '''Iterate through session archive testing each GPS file'''\n",
    "\n",
    "    rootDir = os.path.join(projdir, 'sessions', 'archive')\n",
    "\n",
    "    for root, subDirs, files in os.walk(rootDir):\n",
    "        for file in files:\n",
    "            ext = os.path.splitext(file)[1].lower()\n",
    "            \n",
    "            if ext in ('.sbn', '.sbp'):\n",
    "                filePath = os.path.join(root, file)\n",
    "                reader = getReader(filePath)\n",
    "                try:\n",
    "                    reader.load()\n",
    "                    \n",
    "                    # Ignore GT-11 files\n",
    "                    if not reader.header['firmware'].startswith('V1.62'):\n",
    "                        maxSpeed = reader.data['sog'].max()\n",
    "                        if maxSpeed > 25:\n",
    "                            print('{} m/s in {}'.format(maxSpeed, filePath.replace(projdir + '/', '')))\n",
    "\n",
    "                    #print('.', end='')\n",
    "                except:\n",
    "                    #print('E', end='')\n",
    "                    #print('Failed to load {}'.format(filePath))\n",
    "                    pass"
   ]
  },
  {
   "cell_type": "code",
   "execution_count": 3,
   "id": "37e301aa",
   "metadata": {},
   "outputs": [
    {
     "name": "stdout",
     "output_type": "stream",
     "text": [
      "All done!\n"
     ]
    }
   ],
   "source": [
    "if __name__ == '__main__':\n",
    "    projdir = os.path.realpath(os.path.join(sys.path[0], \"..\"))\n",
    "\n",
    "    findSpikes()\n",
    "    \n",
    "    print('All done!')"
   ]
  },
  {
   "cell_type": "code",
   "execution_count": null,
   "id": "6a41b351",
   "metadata": {},
   "outputs": [],
   "source": []
  }
 ],
 "metadata": {
  "kernelspec": {
   "display_name": "Python 3 (ipykernel)",
   "language": "python",
   "name": "python3"
  },
  "language_info": {
   "codemirror_mode": {
    "name": "ipython",
    "version": 3
   },
   "file_extension": ".py",
   "mimetype": "text/x-python",
   "name": "python",
   "nbconvert_exporter": "python",
   "pygments_lexer": "ipython3",
   "version": "3.9.7"
  }
 },
 "nbformat": 4,
 "nbformat_minor": 5
}
