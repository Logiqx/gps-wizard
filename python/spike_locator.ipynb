{
 "cells": [
  {
   "cell_type": "markdown",
   "id": "dc907b89",
   "metadata": {},
   "source": [
    "# Spike Locator\n",
    "\n",
    "## Written by Michael George\n",
    "\n",
    "Iterate through folders, looking for possible spikes in GPS files"
   ]
  },
  {
   "cell_type": "code",
   "execution_count": 77,
   "id": "4dfe4b28",
   "metadata": {},
   "outputs": [],
   "source": [
    "import os\n",
    "import sys\n",
    "\n",
    "readersPath = os.path.join('.', 'readers')\n",
    "if readersPath not in sys.path:\n",
    "    sys.path.extend([readersPath])\n",
    "\n",
    "from generic_reader import getReader"
   ]
  },
  {
   "cell_type": "markdown",
   "id": "043c2a97",
   "metadata": {},
   "source": [
    "## Main Function"
   ]
  },
  {
   "cell_type": "code",
   "execution_count": 78,
   "id": "e1e5a5cf",
   "metadata": {},
   "outputs": [],
   "source": [
    "def findSpikes():\n",
    "    '''Iterate through session archive testing each GPS file'''\n",
    "\n",
    "    rootDir = os.path.join(projdir, 'sessions', 'archive')\n",
    "\n",
    "    for root, subDirs, files in os.walk(rootDir):\n",
    "        for file in files:\n",
    "            ext = os.path.splitext(file)[1].lower()\n",
    "            \n",
    "            if ext in ('.sbn', '.sbp'):\n",
    "                filePath = os.path.join(root, file)\n",
    "                reader = getReader(filePath)\n",
    "                try:\n",
    "                    reader.load()\n",
    "                    if reader.header['firmware'].startswith('V1.62'):\n",
    "                        maxSpeed = reader.data['sog'].max()\n",
    "                        if maxSpeed > 25:\n",
    "                            print('{} m/s in {}'.format(maxSpeed, filePath.replace(projdir + '/', '')))\n",
    "                    #print('.', end='')\n",
    "                except:\n",
    "                    #print('E', end='')\n",
    "                    #print('Failed to load {}'.format(filePath))\n",
    "                    pass"
   ]
  },
  {
   "cell_type": "code",
   "execution_count": 79,
   "id": "37e301aa",
   "metadata": {},
   "outputs": [
    {
     "name": "stdout",
     "output_type": "stream",
     "text": [
      "281.6 m/s in sessions/archive/2009/Brogborough (UK)/2009-05-06, Brogborough (UK)/TONY_1002841_20090506_180341_BAD_TRACE.SBN\n",
      "28.4 m/s in sessions/archive/2008/Brogborough (UK)/2008-09-10, Brogborough (UK)/MIKE G_1003053_20080910_112323.SBN\n",
      "28.29 m/s in sessions/archive/2008/Brogborough (UK)/2008-01-19, Brogborough (UK) - Map/MIKE G_1003053_20080119_150527_DLG.SBP\n",
      "28.29 m/s in sessions/archive/2008/Brogborough (UK)/2008-01-19, Brogborough (UK) - Map/MIKE G_1003053_20080119_114644.SBN\n",
      "143.83 m/s in sessions/archive/2008/Dahab (Egypt)/2008-11-13, Dahab (Egypt)/PHIL_1001781_20081114_092106_DLG.SBP\n",
      "189.05 m/s in sessions/archive/2012/Brogborough (UK)/2012-07-22, Brogborough (UK)/JO EDWARDS_1003198_20120722_185616_DLG.SBP\n",
      "70.02 m/s in sessions/archive/2010/Brogborough (UK)/2010-06-03, Brogborough (UK) - Racing (Course)/ANDRE_1003053_20100603_172855.SBN\n",
      "70.02 m/s in sessions/archive/2010/Brogborough (UK)/2010-06-03, Brogborough (UK) - Racing (Course)/ANDRE_1003053_20100603_184153_DLG.SBP\n",
      "35.75 m/s in sessions/archive/2010/Brogborough (UK)/2010-06-24, Brogborough (UK) - Racing (Course)/TONY_1002841_20100624_182143.SBN\n",
      "26.25 m/s in sessions/archive/2010/Brogborough (UK)/2010-05-30, Brogborough (UK)/JO EDWARDS_1003198_20100530_120534.SBN\n",
      "26.32 m/s in sessions/archive/2007/Brogborough (UK)/2007-11-24, Brogborough (UK)/MIKE G_1003053 _20071126_185713_DLG.SBP\n",
      "26.32 m/s in sessions/archive/2007/Dahab (Egypt)/2007-11-08, Dahab (Egypt)/MIKE G_1003053 _20071126_185713_DLG.SBP\n",
      "All done!\n"
     ]
    }
   ],
   "source": [
    "if __name__ == '__main__':\n",
    "    projdir = os.path.realpath(os.path.join(sys.path[0], \"..\"))\n",
    "\n",
    "    findSpikes()\n",
    "    \n",
    "    print('All done!')"
   ]
  },
  {
   "cell_type": "code",
   "execution_count": null,
   "id": "6a41b351",
   "metadata": {},
   "outputs": [],
   "source": []
  }
 ],
 "metadata": {
  "kernelspec": {
   "display_name": "Python 3 (ipykernel)",
   "language": "python",
   "name": "python3"
  },
  "language_info": {
   "codemirror_mode": {
    "name": "ipython",
    "version": 3
   },
   "file_extension": ".py",
   "mimetype": "text/x-python",
   "name": "python",
   "nbconvert_exporter": "python",
   "pygments_lexer": "ipython3",
   "version": "3.9.7"
  }
 },
 "nbformat": 4,
 "nbformat_minor": 5
}
