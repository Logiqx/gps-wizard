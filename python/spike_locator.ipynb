{
 "cells": [
  {
   "cell_type": "markdown",
   "id": "dc907b89",
   "metadata": {},
   "source": [
    "# Spike Locator\n",
    "\n",
    "## Written by Michael George\n",
    "\n",
    "Iterate through folders, looking for possible spikes in GPS files"
   ]
  },
  {
   "cell_type": "code",
   "execution_count": 1,
   "id": "4dfe4b28",
   "metadata": {},
   "outputs": [],
   "source": [
    "import os\n",
    "import sys\n",
    "\n",
    "readersPath = os.path.join('.', 'readers')\n",
    "if readersPath not in sys.path:\n",
    "    sys.path.extend([readersPath])\n",
    "\n",
    "from generic_reader import getReader"
   ]
  },
  {
   "cell_type": "markdown",
   "id": "043c2a97",
   "metadata": {},
   "source": [
    "## Main Function"
   ]
  },
  {
   "cell_type": "code",
   "execution_count": 2,
   "id": "e1e5a5cf",
   "metadata": {},
   "outputs": [],
   "source": [
    "def findSpikes():\n",
    "    '''Iterate through session archive testing each GPS file'''\n",
    "\n",
    "    rootDir = os.path.join(projdir, 'sessions')\n",
    "\n",
    "    errors = []\n",
    "    spikes = []\n",
    "\n",
    "    for root, subDirs, files in os.walk(rootDir):\n",
    "        for file in files:\n",
    "            ext = os.path.splitext(file)[1].lower()\n",
    "            \n",
    "            if ext and ext in ('.gpx', '.oao', '.sbn', '.sbp'):\n",
    "                filePath = os.path.join(root, file)\n",
    "                reader = getReader(filePath)\n",
    "                try:\n",
    "                    reader.load()\n",
    "                    \n",
    "                    # Ignore GT-11 files\n",
    "                    if 'firmware' in reader.header and not reader.header['firmware'].startswith('V1.62'):\n",
    "                        if 'sog' in reader.data:\n",
    "                            maxSpeed = reader.data['sog'].max()\n",
    "                            if maxSpeed > 25:\n",
    "                                print('S', end='')\n",
    "                                #print('\\n{} m/s in {}'.format(maxSpeed, filePath.replace(projdir + '/', '')))\n",
    "                                spikes.append(filePath.replace(projdir + '/', ''))\n",
    "                            else:\n",
    "                                print('.', end='')\n",
    "                    else:\n",
    "                        print('.', end='')\n",
    "                except:\n",
    "                    print('E', end='')\n",
    "                    errors.append(filePath.replace(projdir + '/', ''))\n",
    "\n",
    "    if len(errors) > 0:\n",
    "        print('\\nErrors:')\n",
    "        for error in errors:\n",
    "            print(error)\n",
    "\n",
    "    if len(spikes) > 0:\n",
    "        print('\\nSpikes:')\n",
    "        for spike in spikes:\n",
    "            print(spike)"
   ]
  },
  {
   "cell_type": "code",
   "execution_count": 3,
   "id": "37e301aa",
   "metadata": {},
   "outputs": [
    {
     "name": "stdout",
     "output_type": "stream",
     "text": [
      "...SS.....SS....................................................................S..........................................E....E..E......................E.....E.........E..E........................EE....E....E..............................................E...E.......E......................................E......E.E.....................................................................................................E........................E.........................E...............................E...................................................................................................................................................................................................................................................................................................E.......................................E...................................................................E...........................E...................E..................................E....................................E..EE........................................................................................................................................................................................................................................................................................................................................................................................................................................E.E...E..................................................................................................................................................................................................................E..................................................................................................................................................................................EE.....................................E...........................................\n",
      "Errors:\n",
      "sessions/archive.mike/Windsurfing/2015/Brogborough/2015-07-25/155800017_K888_20150725_163142.sbp\n",
      "sessions/archive.mike/Windsurfing/2015/Brogborough/2015-08-20/155800017_K888_20150827_141917.sbp\n",
      "sessions/archive.mike/Windsurfing/2015/Brogborough/2015-08-06/155800017_K888_20150806_193120.sbp\n",
      "sessions/archive.mike/Windsurfing/2015/Southend/2015-11-18/155800017_K888_20151118_163127.sbp\n",
      "sessions/archive.mike/Windsurfing/2015/Southend/2015-11-07/155800017_K888_20151110.sbp\n",
      "sessions/archive.mike/Windsurfing/2015/West Kirby/2015-11-13/155800017_K888_20151113_154023.sbp\n",
      "sessions/archive.mike/Windsurfing/2015/West Kirby/2015-11-13/155800017_K888_20151113_120412.sbp\n",
      "sessions/archive.mike/Windsurfing/2015/Portland Harbour/2015-12-09/K888_155800017_20151209_184303.sbp\n",
      "sessions/archive.mike/Windsurfing/2015/Portland Harbour/2015-09-14/155800017_K888_20150828_163856.sbp\n",
      "sessions/archive.mike/Windsurfing/2015/Portland Harbour/2015-08-14/155800017_K888_20150827_141917.sbp\n",
      "sessions/archive.mike/Windsurfing/2015/Portland Harbour/2015-12-10/K888_155800017_20151210_163628.sbp\n",
      "sessions/archive.mike/Windsurfing/2009/Brogborough (UK)/2009-08-20, Brogborough (UK) - Race/ANDRE_1003053_20090820_182010.SBN\n",
      "sessions/archive.mike/Windsurfing/2009/Brogborough (UK)/2009-08-20, Brogborough (UK) - Race/ANDRE_1003053_20090820_192605_DLG.SBP\n",
      "sessions/archive.mike/Windsurfing/2009/Brogborough (UK)/2009-07-18, Tony Tiffen (Full Download)/TONY_1002841_20090718_120329_DLG.SBP\n",
      "sessions/archive.mike/Windsurfing/2009/Brogborough (UK)/2009-07-18, Brogborough (UK) - Contest/ANNETTE_1003198_20090718_113230.SBN\n",
      "sessions/archive.mike/Windsurfing/2009/Brogborough (UK)/2009-06-25, Brogborough (UK) - Race/DAVE_L_1003053_20090625_171320.SBN\n",
      "sessions/archive.mike/Windsurfing/2009/Brogborough (UK)/2009-06-25, Brogborough (UK) - Race/DAVE_L_1003053_20090625_191311_DLG.SBP\n",
      "sessions/archive.mike/Windsurfing/2009/Brogborough (UK)/2009-05-03, Brogborough (UK)/MIKE G_832004494_20090503_141133.SBN\n",
      "sessions/archive.mike/Windsurfing/2009/Brogborough (UK)/2009-08-28, Brogborough (UK)/JOHN_M_1003053_20090828_151451.SBN\n",
      "sessions/archive.mike/Windsurfing/2009/Brogborough (UK)/2009-09-10, Brogborough (UK) - Race/KEITH_1003053_20090910_181558.SBN\n",
      "sessions/archive.mike/Windsurfing/2009/West Kirby (UK)/2009-09-04, West Kirby (UK)/MIKE G_1003053_20090904_100830.SBN\n",
      "sessions/archive.mike/Windsurfing/2012/Brogborough (UK)/2012-05-10, Brogborough (UK) - Slalom/SIMON R_932000407_20120517_194953_DLG.SBP\n",
      "sessions/archive.mike/Windsurfing/2012/West Kirby (UK)/2012-09-14/CHRIS_BATES.sbp\n",
      "sessions/archive.mike/Windsurfing/2010/Brogborough (UK)/2010-05-02, Brogborough (UK)/ANDRE_1003053_20100502_221354_DLG.SBP\n",
      "sessions/archive.mike/Windsurfing/2010/Brogborough (UK)/2010-06-03, Brogborough (UK) - Racing (Course)/PHIL_1001781_20100603_203612_DLG.SBP\n",
      "sessions/archive.mike/Windsurfing/2010/Brogborough (UK)/2010-05-13, Brogborough (UK) - Racing (Course)/ANNETTE_1001984_20100513_192054_DLG.SBP\n",
      "sessions/archive.mike/Windsurfing/2010/Brogborough (UK)/2010-05-06, Brogborough (UK) - Racing (Course)/ANDRE_1003053_20100506_185459_DLG.SBP\n",
      "sessions/archive.mike/Windsurfing/2010/Brogborough (UK)/2010-06-10, Brogborough (UK) - Racing (Slalom)/PHIL_1001781_20100610_202530_DLG.SBP\n",
      "sessions/archive.mike/Windsurfing/2010/Brogborough (UK)/2010-06-10, Brogborough (UK) - Racing (Slalom)/TONY_1002841_20100610_201619_DLG.SBP\n",
      "sessions/archive.mike/Windsurfing/2010/Brogborough (UK)/2010-05-30, Brogborough (UK)/jo edwards_edited_1003198_20100530_120534.sbp\n",
      "sessions/archive.mike/Windsurfing/2007/Brogborough (UK)/2007-11-24, Brogborough (UK)/MIKE G_1003053 _20071126_185713_DLG_20071124.SBP\n",
      "sessions/archive.mike/Windsurfing/2007/Brogborough (UK)/2007-12-02, Brogborough (UK)/MIKE G_1003053 _20071202_161512_DLG_20071202.SBP\n",
      "sessions/archive.mike/Windsurfing/2007/Dahab (Egypt)/2007-11-08, Dahab (Egypt)/MIKE G_1003053 _20071126_185713_DLG_20071108.SBP\n",
      "sessions/archive.mike/Windsurfing/2013/Brogborough/2013-05-27/JO EDWARDS_1003198_20130527_131753.SBN\n",
      "sessions/archive/2010/Brogborough/jo edwards_edited_1003198_20100530_120534.sbp\n",
      "sessions/archive/2010/Brogborough/JO EDWARDS_1003198_20100501_152758.SBN\n",
      "sessions/archive/2011/Stithians/JO EDWARDS_1003198_20110502_121004.SBN\n",
      "\n",
      "Spikes:\n",
      "sessions/spikes/20120103-west-kirby/gt-31/STEVETHORP2_832002090_20120103_102927.SBN\n",
      "sessions/spikes/20120103-west-kirby/gt-31/STEVETHORP_832002093_20120103_160357_DLG.SBP\n",
      "sessions/spikes/20220314-wyke-regis/gt-31/K888_168603881_20220314_073849.sbp\n",
      "sessions/spikes/20121009-portland-harbour/gt-31/K888_123201112_20121009_085502.SBN\n",
      "sessions/archive.mike/Windfoiling/2020/Portland Harbour/2020-08-17/K888_168603881_20200817_202918.sbp\n",
      "All done!\n"
     ]
    }
   ],
   "source": [
    "if __name__ == '__main__':\n",
    "    projdir = os.path.realpath(os.path.join(sys.path[0], \"..\"))\n",
    "\n",
    "    findSpikes()\n",
    "    \n",
    "    print('All done!')"
   ]
  },
  {
   "cell_type": "code",
   "execution_count": null,
   "id": "6a41b351",
   "metadata": {},
   "outputs": [],
   "source": []
  }
 ],
 "metadata": {
  "kernelspec": {
   "display_name": "Python 3 (ipykernel)",
   "language": "python",
   "name": "python3"
  },
  "language_info": {
   "codemirror_mode": {
    "name": "ipython",
    "version": 3
   },
   "file_extension": ".py",
   "mimetype": "text/x-python",
   "name": "python",
   "nbconvert_exporter": "python",
   "pygments_lexer": "ipython3",
   "version": "3.9.7"
  }
 },
 "nbformat": 4,
 "nbformat_minor": 5
}
