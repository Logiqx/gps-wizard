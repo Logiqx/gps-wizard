{
 "cells": [
  {
   "cell_type": "markdown",
   "id": "dc907b89",
   "metadata": {},
   "source": [
    "# Haversine Formula vs Mercator Projection\n",
    "\n",
    "## Written by Michael George\n",
    "\n",
    "Simple comparison of two methods to calculate the distance between two points on a sphere:\n",
    "\n",
    "1. Haversine formula is required over longer distances (e.g. navigation over hundreds of kilometres).\n",
    "2. Mercator projection + Pythagorean theorem to produce quicker estimates over shorter distances (e.g. alpha proximity 50m)."
   ]
  },
  {
   "cell_type": "code",
   "execution_count": 1,
   "id": "4dfe4b28",
   "metadata": {},
   "outputs": [],
   "source": [
    "from math import pi, radians, cos, sin, asin, atan2, sqrt"
   ]
  },
  {
   "cell_type": "markdown",
   "id": "ab78fb02",
   "metadata": {},
   "source": [
    "## Constants\n",
    "\n",
    "Earth's [mean radius](https://en.wikipedia.org/wiki/Earth_radius#Published_values) was also taken from Wikipedia - IUGG and IERS both give a vlue of 6371008.7714 metres."
   ]
  },
  {
   "cell_type": "code",
   "execution_count": 2,
   "id": "70819c41",
   "metadata": {},
   "outputs": [],
   "source": [
    "earthRadius = 6371009\n",
    "earthCircum = 2 * pi * earthRadius\n",
    "distPerDegLat = earthCircum / 360"
   ]
  },
  {
   "cell_type": "markdown",
   "id": "2d2f2396",
   "metadata": {},
   "source": [
    "## Unit Conversions"
   ]
  },
  {
   "cell_type": "code",
   "execution_count": 3,
   "id": "179cc12e",
   "metadata": {},
   "outputs": [],
   "source": [
    "def semicirclesToDegrees(value):\n",
    "    '''Convert semicircles to degrees'''\n",
    "\n",
    "    return value * (180.0 / 2 ** 31)\n",
    "\n",
    "\n",
    "def semicirclesToRadians(value):\n",
    "    '''Convert semicircles to radians'''\n",
    "\n",
    "    return radians(value * (180.0 / 2 ** 31))\n",
    "\n",
    "\n",
    "def metresToKilometers(value):\n",
    "    '''Convert metres to kilometers'''\n",
    "\n",
    "    return value / 1000\n",
    "\n",
    "\n",
    "def metresToMiles(value):\n",
    "    '''Convert metres to kilometers'''\n",
    "\n",
    "    return value / 1609.344"
   ]
  },
  {
   "cell_type": "markdown",
   "id": "9039fe8d",
   "metadata": {},
   "source": [
    "## Hathersine Formula\n",
    "\n",
    "A popular approach when calculating the distance between two points is to use the Hathersine formula.\n",
    "\n",
    "This requires the use of several math functions (e.g. 2 * sin, 2 * cos, 1 * asin, 1 * sqrt) with little opportunity to optimise.\n",
    "\n",
    "Full details about the Haversine formula can be found on [Wikipedia](https://en.wikipedia.org/wiki/Haversine_formula)."
   ]
  },
  {
   "cell_type": "code",
   "execution_count": 4,
   "id": "ecd0e5fa",
   "metadata": {},
   "outputs": [],
   "source": [
    "def calculateDistanceRadians(latitude1r, longitude1r, latitude2r, longitude2r, radius=earthRadius):\n",
    "    '''Calculate the great-circle distance between two points on a sphere given their longitudes and latitudes'''\n",
    "    \n",
    "    cosineCalc = cos(latitude1r) * cos(latitude2r)\n",
    "    haversine = sin((latitude2r - latitude1r) / 2) ** 2 + cosineCalc * sin((longitude2r - longitude1r) / 2) ** 2\n",
    "    \n",
    "    # Alternative hathersine formula avoids cos() by replacing it with a more \"expensive\" calculation\n",
    "    #sineCalc = 1 - sin((latitude1 - latitude2) / 2) ** 2 - sin((latitude1 + latitude2) / 2) ** 2\n",
    "    #haversine = sin((latitude2 - latitude1) / 2) ** 2 + sineCalc * sin((longitude2 - longitude1) / 2) ** 2\n",
    "\n",
    "    distance = 2 * radius * asin(sqrt(haversine))\n",
    "    \n",
    "    # Alternative distance calculation produces the same result and was only tested out of curiosity\n",
    "    #distance = 2 * radius * atan2(sqrt(haversine), sqrt(1 - haversine))\n",
    "    \n",
    "    return distance\n",
    "\n",
    "\n",
    "def calculateDistanceDegrees(latitude1d, longitude1d, latitude2d, longitude2d, radius=earthRadius):\n",
    "    '''Calculate the great-circle distance between two points on a sphere given their longitudes and latitudes'''\n",
    "    \n",
    "    latitude1, longitude1, latitude2, longitude2 = map(radians, [latitude1d, longitude1d, latitude2d, longitude2d])\n",
    "    \n",
    "    return calculateDistanceRadians(latitude1, longitude1, latitude2, longitude2, radius=radius)\n",
    "\n",
    "\n",
    "def calculateDistanceSemicircles(latitude1c, longitude1c, latitude2c, longitude2c, radius=earthRadius):\n",
    "    '''Calculate the great-circle distance between two points on a sphere given their longitudes and latitudes'''\n",
    "    \n",
    "    latitude1, longitude1, latitude2, longitude2 = map(semicirclesToRadians, [latitude1c, longitude1c, latitude2c, longitude2c])\n",
    "\n",
    "    return calculateDistanceRadians(latitude1, longitude1, latitude2, longitude2, radius=radius)"
   ]
  },
  {
   "cell_type": "markdown",
   "id": "043c2a97",
   "metadata": {},
   "source": [
    "## Mercator Projection + Pythagorean Theorem\n",
    "\n",
    "A quicker way approximate the distance between two points is to map corrdinates to a 2D grid and use the Pythagorean theorum.\n",
    "\n",
    "This requires far less math functions (1 * cos, 1 * sqrt) with few multiplications and divisions.\n",
    "\n",
    "Details about Mercator projections can be found on [Wikipedia](https://en.wikipedia.org/wiki/Mercator_projection#Mathematics)."
   ]
  },
  {
   "cell_type": "code",
   "execution_count": 5,
   "id": "e1e5a5cf",
   "metadata": {},
   "outputs": [],
   "source": [
    "def estimateDistanceRadians(latitude1r, longitude1r, latitude2r, longitude2r, radius=earthRadius):\n",
    "    '''Estimate the distance between two points on a sphere using a simple Mercator projection'''\n",
    "\n",
    "    y1 = latitude1r * earthRadius\n",
    "    y2 = latitude2r * earthRadius\n",
    "    \n",
    "    # Using a single scaling factor produces the most consistent estimate\n",
    "    #distPerRadLon = cos(latitude1r) * earthRadius  \n",
    "    #x1 = longitude1r * distPerRadLon\n",
    "    #x2 = longitude2r * distPerRadLon\n",
    "    \n",
    "    # Can use this for performance (calculate once per point) but rounding errors can affect cm accuracy\n",
    "    x1 = longitude1r * cos(latitude1r) * earthRadius  \n",
    "    x2 = longitude2r * cos(latitude2r) * earthRadius  \n",
    "    \n",
    "    # Apply Pythagorean theorem to determine the length of the hypotenuse\n",
    "    distance = sqrt((x2 - x1) ** 2 + (y2 - y1) ** 2)\n",
    "\n",
    "    return distance\n",
    "\n",
    "\n",
    "def estimateDistanceDegrees(latitude1d, longitude1d, latitude2d, longitude2d, radius=earthRadius):\n",
    "    '''Estimate the distance between two points on a sphere using a simple Mercator projection'''\n",
    "    \n",
    "    y1 = latitude1d * distPerDegLat\n",
    "    y2 = latitude2d * distPerDegLat\n",
    "    \n",
    "    # Using a single scaling factor produces the most consistent estimate\n",
    "    #distPerDegLon = cos(radians(latitude2d)) * distPerDegLat   \n",
    "    #x1 = longitude1d * distPerDegLon\n",
    "    #x2 = longitude2d * distPerDegLon\n",
    "\n",
    "    # Can use this for performance (calculate once per point) but rounding errors can affect cm accuracy\n",
    "    x1 = longitude1d * cos(radians(latitude1d)) * distPerDegLat\n",
    "    x2 = longitude2d * cos(radians(latitude2d)) * distPerDegLat\n",
    "    \n",
    "    # Apply Pythagorean theorem to determine the length of the hypotenuse\n",
    "    distance = sqrt((x2 - x1) ** 2 + (y2 - y1) ** 2)\n",
    "\n",
    "    return distance\n",
    "\n",
    "\n",
    "def estimateDistanceSemicircles(latitude1c, longitude1c, latitude2c, longitude2c, radius=earthRadius):\n",
    "    '''Estimate the distance between two points on a sphere using a simple Mercator projection'''\n",
    "    \n",
    "    latitude1, longitude1, latitude2, longitude2 = map(semicirclesToRadians, [latitude1c, longitude1c, latitude2c, longitude2c])\n",
    "\n",
    "    return estimateDistanceRadians(latitude1, longitude1, latitude2, longitude2, radius=radius)"
   ]
  },
  {
   "cell_type": "markdown",
   "id": "b53940b3",
   "metadata": {},
   "source": [
    "## Sanity Checks"
   ]
  },
  {
   "cell_type": "code",
   "execution_count": 6,
   "id": "7752d47a",
   "metadata": {},
   "outputs": [],
   "source": [
    "# https://www.vcalc.com/wiki/vCalc/Haversine+-+Distance\n",
    "radius1 = 6371009\n",
    "\n",
    "# Expect 216.904 km - https://andrew.hedges.name/experiments/haversine/\n",
    "radius2 = 6373000"
   ]
  },
  {
   "cell_type": "code",
   "execution_count": 7,
   "id": "c8edd090",
   "metadata": {},
   "outputs": [
    {
     "name": "stdout",
     "output_type": "stream",
     "text": [
      "Calculated distance (Haversine formula, radius 6373000) is approximately 216.904 kilometres / 134.778 miles\n",
      "Calculated distance (Haversine formula, radius 6371009) is approximately 216.837 kilometres / 134.736 miles\n",
      "Calculated distance (Haversine formula, radius 6371009) is approximately 216.84 kilometres / 134.74 miles\n",
      "Estimated distance (Mercator projection) is approximately 218.80 kilometres / 135.95 miles\n"
     ]
    }
   ],
   "source": [
    "stevenageLat = 51.9038\n",
    "stevenageLon = -0.1966\n",
    "\n",
    "portlandLat = 50.5475\n",
    "portlandLon = -2.4343\n",
    "\n",
    "# Expect 216.904 km using radius2\n",
    "distance = calculateDistanceDegrees(stevenageLat, stevenageLon, portlandLat, portlandLon, radius=radius2)\n",
    "print('Calculated distance (Haversine formula, radius {}) is approximately {:.3f} kilometres / {:.3f} miles'.format(\n",
    "        radius2, metresToKilometers(distance), metresToMiles(distance)))\n",
    "\n",
    "# Expect 216.837 km using default radius\n",
    "distance = calculateDistanceDegrees(stevenageLat, stevenageLon, portlandLat, portlandLon, radius=earthRadius)\n",
    "print('Calculated distance (Haversine formula, radius {}) is approximately {:.3f} kilometres / {:.3f} miles'.format(\n",
    "        earthRadius, metresToKilometers(distance), metresToMiles(distance)))\n",
    "\n",
    "# Expect 216.84 km using radius1\n",
    "distance = calculateDistanceDegrees(stevenageLat, stevenageLon, portlandLat, portlandLon, radius=radius1)\n",
    "print('Calculated distance (Haversine formula, radius {}) is approximately {:.2f} kilometres / {:.2f} miles'.format(\n",
    "        radius1, metresToKilometers(distance), metresToMiles(distance)))\n",
    "\n",
    "distance = estimateDistanceDegrees(stevenageLat, stevenageLon, portlandLat, portlandLon)\n",
    "print('Estimated distance (Mercator projection) is approximately {:.2f} kilometres / {:.2f} miles'.format(\n",
    "        metresToKilometers(distance), metresToMiles(distance)))"
   ]
  },
  {
   "cell_type": "code",
   "execution_count": 8,
   "id": "349abafd",
   "metadata": {},
   "outputs": [
    {
     "name": "stdout",
     "output_type": "stream",
     "text": [
      "Calculated distance (Haversine formula, radius 6373000) is approximately 15.549 kilometres / 9.662 miles\n",
      "Calculated distance (Haversine formula, radius 6371009) is approximately 15.544 kilometres / 9.659 miles\n",
      "Calculated distance (Haversine formula, radius 6371009) is approximately 15.54 kilometres / 9.66 miles\n",
      "Estimated distance (Mercator projection) is approximately 15.53 kilometres / 9.65 miles\n"
     ]
    }
   ],
   "source": [
    "stevenageLat = 51.9038\n",
    "stevenageLon = -0.1966\n",
    "\n",
    "wareLat = 51.8104\n",
    "wareLon = -0.0282\n",
    "\n",
    "# Expect 15.549 km using radius2\n",
    "distance = calculateDistanceDegrees(stevenageLat, stevenageLon, wareLat, wareLon, radius=radius2)\n",
    "print('Calculated distance (Haversine formula, radius {}) is approximately {:.3f} kilometres / {:.3f} miles'.format(\n",
    "        radius2, metresToKilometers(distance), metresToMiles(distance)))\n",
    "\n",
    "# Expect 15.544 km using default radius\n",
    "distance = calculateDistanceDegrees(stevenageLat, stevenageLon, wareLat, wareLon, radius=earthRadius)\n",
    "print('Calculated distance (Haversine formula, radius {}) is approximately {:.3f} kilometres / {:.3f} miles'.format(\n",
    "        earthRadius, metresToKilometers(distance), metresToMiles(distance)))\n",
    "\n",
    "# Expect 15.54 km using radius1\n",
    "distance = calculateDistanceDegrees(stevenageLat, stevenageLon, wareLat, wareLon, radius=radius1)\n",
    "print('Calculated distance (Haversine formula, radius {}) is approximately {:.2f} kilometres / {:.2f} miles'.format(\n",
    "        radius1, metresToKilometers(distance), metresToMiles(distance)))\n",
    "\n",
    "distance = estimateDistanceDegrees(stevenageLat, stevenageLon, wareLat, wareLon)\n",
    "print('Estimated distance (Mercator projection) is approximately {:.2f} kilometres / {:.2f} miles'.format(\n",
    "        metresToKilometers(distance), metresToMiles(distance)))"
   ]
  },
  {
   "cell_type": "code",
   "execution_count": 9,
   "id": "293ce933",
   "metadata": {},
   "outputs": [
    {
     "name": "stdout",
     "output_type": "stream",
     "text": [
      "Calculated distance (Haversine formula) is approximately 46.50 metres\n",
      "Estimated distance (Mercator projection) is approximately 46.66 metres\n"
     ]
    }
   ],
   "source": [
    "startLat = 620951524\n",
    "startLon = -6830082\n",
    "\n",
    "endLat = 620954030\n",
    "endLon = -6823068\n",
    "\n",
    "distance = calculateDistanceSemicircles(startLat, startLon, endLat, endLon)\n",
    "print('Calculated distance (Haversine formula) is approximately {:.2f} metres'.format(distance))\n",
    "\n",
    "distance = estimateDistanceSemicircles(startLat, startLon, endLat, endLon)\n",
    "print('Estimated distance (Mercator projection) is approximately {:.2f} metres'.format(distance))"
   ]
  },
  {
   "cell_type": "code",
   "execution_count": 10,
   "id": "abb12002",
   "metadata": {},
   "outputs": [
    {
     "name": "stdout",
     "output_type": "stream",
     "text": [
      "Calculated distance (Haversine formula) is approximately 46.50 metres\n",
      "Estimated distance (Mercator projection) is approximately 46.66 metres\n"
     ]
    }
   ],
   "source": [
    "startLat = semicirclesToDegrees(startLat)\n",
    "startLon = semicirclesToDegrees(startLon)\n",
    "\n",
    "endLat = semicirclesToDegrees(endLat)\n",
    "endLon = semicirclesToDegrees(endLon)\n",
    "\n",
    "distance = calculateDistanceDegrees(startLat, startLon, endLat, endLon)\n",
    "print('Calculated distance (Haversine formula) is approximately {:.2f} metres'.format(distance))\n",
    "\n",
    "distance = estimateDistanceDegrees(startLat, startLon, endLat, endLon)\n",
    "print('Estimated distance (Mercator projection) is approximately {:.2f} metres'.format(distance))"
   ]
  },
  {
   "cell_type": "code",
   "execution_count": null,
   "id": "ef450fa7",
   "metadata": {},
   "outputs": [],
   "source": []
  }
 ],
 "metadata": {
  "kernelspec": {
   "display_name": "Python 3 (ipykernel)",
   "language": "python",
   "name": "python3"
  },
  "language_info": {
   "codemirror_mode": {
    "name": "ipython",
    "version": 3
   },
   "file_extension": ".py",
   "mimetype": "text/x-python",
   "name": "python",
   "nbconvert_exporter": "python",
   "pygments_lexer": "ipython3",
   "version": "3.9.7"
  }
 },
 "nbformat": 4,
 "nbformat_minor": 5
}
