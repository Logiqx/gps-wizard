{
 "cells": [
  {
   "cell_type": "markdown",
   "id": "dc907b89",
   "metadata": {},
   "source": [
    "# SiRF Headers\n",
    "\n",
    "Iterate through folders, reading headers and checking the firmware definition matches the derived device\n",
    "\n",
    "Copyright 2022 Michael George (AKA Logiqx).\n",
    "\n",
    "This file is part of [GPS Wizard](https://logiqx.github.io/gps-wizard/) and is distributed under the terms of the GNU General Public License.\n",
    "\n",
    "GPS Wizard is free software: you can redistribute it and/or modify it under the terms of the GNU General Public License as published by the Free Software Foundation, either version 3 of the License, or (at your option) any later version.\n",
    "\n",
    "GPS Wizard is distributed in the hope that it will be useful, but WITHOUT ANY WARRANTY; without even the implied warranty of MERCHANTABILITY or FITNESS FOR A PARTICULAR PURPOSE. See the GNU General Public License for more details.\n",
    "\n",
    "You should have received a copy of the GNU General Public License along with Foobar. If not, see <https://www.gnu.org/licenses/>."
   ]
  },
  {
   "cell_type": "code",
   "execution_count": 1,
   "id": "4dfe4b28",
   "metadata": {},
   "outputs": [],
   "source": [
    "import os\n",
    "import sys\n",
    "\n",
    "corePath = os.path.join('..', 'core')\n",
    "if corePath not in sys.path:\n",
    "    sys.path.extend([corePath])\n",
    "\n",
    "from file_reader import getFileReader"
   ]
  },
  {
   "cell_type": "markdown",
   "id": "043c2a97",
   "metadata": {},
   "source": [
    "## Main Function"
   ]
  },
  {
   "cell_type": "code",
   "execution_count": 2,
   "id": "e1e5a5cf",
   "metadata": {},
   "outputs": [],
   "source": [
    "firmwares = \\\n",
    "{\n",
    "    'V1.0(B0331)': 'GT-31',\n",
    "    'V1.1(B0521)': 'GT-31',\n",
    "    'V1.2(B0922) ': 'GT-31',\n",
    "    'V1.2(B1405x)': 'GT-31',\n",
    "    'V1.2A0314B': 'GW-60',\n",
    "    'V1.2G0529C': 'GW-52',\n",
    "    'V1.3(B1014a)': 'GT-31',\n",
    "    'V1.3(B1123T)': 'GT-31',\n",
    "    'V1.3A0926B': 'GW-60',\n",
    "    'V1.4(B0315C)': 'GT-31',\n",
    "    'V1.4(B0315T)': 'GT-31',\n",
    "    'V1.4(B0803T)': 'GT-31',\n",
    "    'V1.4(D0428T)': 'GT-31',\n",
    "    'V1.62(B0917a)': 'GT-11',\n",
    "    'V1.62(B1024f)': 'GT-11',\n",
    "    'V1.62(B1115)': 'GT-11',\n",
    "    'unknown': 'Unknown'\n",
    "}\n",
    "\n",
    "def scanFiles():\n",
    "    '''Iterate through session archive testing each GPS file'''\n",
    "\n",
    "    rootDir = os.path.join(projdir, 'sessions')\n",
    "\n",
    "    devices = {}\n",
    "\n",
    "    for root, subDirs, files in os.walk(rootDir):\n",
    "        for file in files:\n",
    "            ext = os.path.splitext(file)[1].lower()\n",
    "            \n",
    "            if ext and ext in ('.sbn', '.sbp'):\n",
    "                filePath = os.path.join(root, file)\n",
    "                reader = getFileReader(filePath)\n",
    "                try:\n",
    "                    reader.load(headerOnly=True)\n",
    "                    if 'firmware' in reader.header and 'serial' in reader.header:\n",
    "                        serial = reader.header['serial']\n",
    "                        firmware = reader.header['firmware']\n",
    "                        device = firmwares[firmware]\n",
    "                        \n",
    "                        if device != reader.device:\n",
    "                            print(os.linesep + 'Mismatch:', device, reader.device)\n",
    "                        print('.', end='') \n",
    "\n",
    "                except Exception:\n",
    "                    print('E', end='')\n",
    "                    raise\n",
    "\n",
    "    print(os.linesep + 'All done!')"
   ]
  },
  {
   "cell_type": "code",
   "execution_count": 3,
   "id": "37e301aa",
   "metadata": {},
   "outputs": [
    {
     "name": "stdout",
     "output_type": "stream",
     "text": [
      ".....................................................................................................................................................................................................................................................................................................................................................................................................................................................................................................................................................................................................................................................................................................................................................................................................................................................................................................................................................................................................................................................................................................................................................................................................................................................................................................................................................................................................................................................................................................................................................................................................................................................................................................................................................................................................................................................................................................\n",
      "All done!\n"
     ]
    }
   ],
   "source": [
    "if __name__ == '__main__':\n",
    "    projdir = os.path.realpath(os.path.join(sys.path[0], \"..\", \"..\"))\n",
    "\n",
    "    scanFiles()"
   ]
  },
  {
   "cell_type": "code",
   "execution_count": null,
   "id": "9445e559",
   "metadata": {},
   "outputs": [],
   "source": []
  }
 ],
 "metadata": {
  "kernelspec": {
   "display_name": "Python 3 (ipykernel)",
   "language": "python",
   "name": "python3"
  },
  "language_info": {
   "codemirror_mode": {
    "name": "ipython",
    "version": 3
   },
   "file_extension": ".py",
   "mimetype": "text/x-python",
   "name": "python",
   "nbconvert_exporter": "python",
   "pygments_lexer": "ipython3",
   "version": "3.9.7"
  }
 },
 "nbformat": 4,
 "nbformat_minor": 5
}
