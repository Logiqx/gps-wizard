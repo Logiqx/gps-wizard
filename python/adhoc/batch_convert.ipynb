{
 "cells": [
  {
   "cell_type": "markdown",
   "id": "dc907b89",
   "metadata": {},
   "source": [
    "# Batch Convert\n",
    "\n",
    "Iterate through folders, converting to GPX format.\n",
    "\n",
    "Copyright 2022 Michael George (AKA Logiqx).\n",
    "\n",
    "This file is part of [GPS Wizard](https://logiqx.github.io/gps-wizard/) and is distributed under the terms of the GNU General Public License.\n",
    "\n",
    "GPS Wizard is free software: you can redistribute it and/or modify it under the terms of the GNU General Public License as published by the Free Software Foundation, either version 3 of the License, or (at your option) any later version.\n",
    "\n",
    "GPS Wizard is distributed in the hope that it will be useful, but WITHOUT ANY WARRANTY; without even the implied warranty of MERCHANTABILITY or FITNESS FOR A PARTICULAR PURPOSE. See the GNU General Public License for more details.\n",
    "\n",
    "You should have received a copy of the GNU General Public License along with GPS Wizard. If not, see <https://www.gnu.org/licenses/>."
   ]
  },
  {
   "cell_type": "code",
   "execution_count": 1,
   "id": "4dfe4b28",
   "metadata": {},
   "outputs": [],
   "source": [
    "import os\n",
    "import sys\n",
    "\n",
    "import traceback\n",
    "\n",
    "corePath = os.path.join('..', 'core')\n",
    "if corePath not in sys.path:\n",
    "    sys.path.extend([corePath])\n",
    "\n",
    "from file_reader import getFileReader\n",
    "from file_writer import getFileWriter"
   ]
  },
  {
   "cell_type": "markdown",
   "id": "043c2a97",
   "metadata": {},
   "source": [
    "## Main Function"
   ]
  },
  {
   "cell_type": "code",
   "execution_count": 2,
   "id": "e1e5a5cf",
   "metadata": {},
   "outputs": [],
   "source": [
    "def batchConvert():\n",
    "    '''Iterate through session archive testing each GPS file'''\n",
    "\n",
    "    rootDir = os.path.join(projdir, 'sessions', 'fit')\n",
    "    outDir = os.path.join(projdir, 'sessions', 'out')\n",
    "\n",
    "    errors = {}\n",
    "\n",
    "    for root, subDirs, files in os.walk(rootDir):\n",
    "        for file in files:\n",
    "            ext = os.path.splitext(file)[1].lower()\n",
    "            \n",
    "            if ext and ext in ['.fit', '.gpx', '.nmea', '.oao', '.sbn', '.sbp', '.ubx']:\n",
    "                try:\n",
    "                    filePath = os.path.join(root, file)\n",
    "                    fileReader = getFileReader(filePath)\n",
    "                    fileReader.load()\n",
    "\n",
    "                    for ext in ['.csv', '.gpx', '.kml']:\n",
    "                        outPath = os.path.join(outDir, os.path.splitext(file)[0] + ext)\n",
    "                        fileWriter = getFileWriter(outPath, tracks=fileReader.tracks)\n",
    "                        fileWriter.save()\n",
    "\n",
    "                    print('.', end='')\n",
    "\n",
    "                except Exception:\n",
    "                    errors[filePath.replace(projdir + '/', '')] = traceback.format_exc()\n",
    "\n",
    "                    print('E', end='')\n",
    "\n",
    "    if len(errors) > 0:\n",
    "        print(os.linesep * 2 + 'Errors:')\n",
    "        for filename, error in errors.items():\n",
    "            print(filename)\n",
    "            print(error)"
   ]
  },
  {
   "cell_type": "code",
   "execution_count": 3,
   "id": "37e301aa",
   "metadata": {},
   "outputs": [
    {
     "name": "stdout",
     "output_type": "stream",
     "text": [
      ".\n",
      "All done!\n"
     ]
    }
   ],
   "source": [
    "if __name__ == '__main__':\n",
    "    projdir = os.path.realpath(os.path.join(sys.path[0], \"..\", \"..\"))\n",
    "\n",
    "    batchConvert()\n",
    "    \n",
    "    print(os.linesep + 'All done!')"
   ]
  }
 ],
 "metadata": {
  "kernelspec": {
   "display_name": "Python 3 (ipykernel)",
   "language": "python",
   "name": "python3"
  },
  "language_info": {
   "codemirror_mode": {
    "name": "ipython",
    "version": 3
   },
   "file_extension": ".py",
   "mimetype": "text/x-python",
   "name": "python",
   "nbconvert_exporter": "python",
   "pygments_lexer": "ipython3",
   "version": "3.9.7"
  }
 },
 "nbformat": 4,
 "nbformat_minor": 5
}
