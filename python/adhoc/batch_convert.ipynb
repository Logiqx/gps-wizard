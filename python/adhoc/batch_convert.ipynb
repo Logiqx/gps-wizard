{
 "cells": [
  {
   "cell_type": "markdown",
   "id": "dc907b89",
   "metadata": {},
   "source": [
    "# Batch Convert\n",
    "\n",
    "## Written by Michael George\n",
    "\n",
    "Iterate through folders, converting to GPX format."
   ]
  },
  {
   "cell_type": "code",
   "execution_count": 1,
   "id": "4dfe4b28",
   "metadata": {},
   "outputs": [],
   "source": [
    "import os\n",
    "import sys\n",
    "\n",
    "import traceback\n",
    "\n",
    "corePath = os.path.join('..', 'core')\n",
    "if corePath not in sys.path:\n",
    "    sys.path.extend([corePath])\n",
    "\n",
    "from track import Track"
   ]
  },
  {
   "cell_type": "markdown",
   "id": "043c2a97",
   "metadata": {},
   "source": [
    "## Main Function"
   ]
  },
  {
   "cell_type": "code",
   "execution_count": 2,
   "id": "e1e5a5cf",
   "metadata": {},
   "outputs": [],
   "source": [
    "def batchConvert():\n",
    "    '''Iterate through session archive testing each GPS file'''\n",
    "\n",
    "    rootDir = os.path.join(projdir, 'sessions', 'fit')\n",
    "    outDir = os.path.join(projdir, 'sessions', 'out')\n",
    "\n",
    "    errors = {}\n",
    "\n",
    "    for root, subDirs, files in os.walk(rootDir):\n",
    "        for file in files:\n",
    "            ext = os.path.splitext(file)[1].lower()\n",
    "            \n",
    "            if ext and ext in ('.fit', '.gpx', '.nmea', '.oao', '.sbn', '.sbp', '.ubx'):\n",
    "                try:\n",
    "                    filePath = os.path.join(root, file)\n",
    "                    outPath = os.path.join(outDir, os.path.splitext(file)[0] + '.gpx')\n",
    "                    \n",
    "                    track = Track(filePath)\n",
    "                    track.load()\n",
    "                    track.save(outPath)\n",
    "                    \n",
    "                    print('.', end='')\n",
    "                except Exception:\n",
    "                    errors[filePath.replace(projdir + '/', '')] = traceback.format_exc()\n",
    "                    print('E', end='')\n",
    "\n",
    "    if len(errors) > 0:\n",
    "        print(os.linesep * 2 + 'Errors:')\n",
    "        for filename, error in errors.items():\n",
    "            print(filename)\n",
    "            print(error)"
   ]
  },
  {
   "cell_type": "code",
   "execution_count": 3,
   "id": "37e301aa",
   "metadata": {},
   "outputs": [
    {
     "name": "stdout",
     "output_type": "stream",
     "text": [
      ".............................................................................\n",
      "All done!\n"
     ]
    }
   ],
   "source": [
    "if __name__ == '__main__':\n",
    "    projdir = os.path.realpath(os.path.join(sys.path[0], \"..\", \"..\"))\n",
    "\n",
    "    batchConvert()\n",
    "    \n",
    "    print(os.linesep + 'All done!')"
   ]
  },
  {
   "cell_type": "code",
   "execution_count": null,
   "id": "6a41b351",
   "metadata": {},
   "outputs": [],
   "source": []
  }
 ],
 "metadata": {
  "kernelspec": {
   "display_name": "Python 3 (ipykernel)",
   "language": "python",
   "name": "python3"
  },
  "language_info": {
   "codemirror_mode": {
    "name": "ipython",
    "version": 3
   },
   "file_extension": ".py",
   "mimetype": "text/x-python",
   "name": "python",
   "nbconvert_exporter": "python",
   "pygments_lexer": "ipython3",
   "version": "3.9.7"
  }
 },
 "nbformat": 4,
 "nbformat_minor": 5
}
