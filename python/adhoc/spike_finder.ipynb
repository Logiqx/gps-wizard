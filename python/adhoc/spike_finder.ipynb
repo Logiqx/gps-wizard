{
 "cells": [
  {
   "cell_type": "markdown",
   "id": "dc907b89",
   "metadata": {},
   "source": [
    "# Spike Finder\n",
    "\n",
    "Iterate through folders, looking for possible spikes in all supported GPS file types.\n",
    "\n",
    "Copyright 2022 Michael George (AKA Logiqx).\n",
    "\n",
    "This file is part of [GPS Wizard](https://logiqx.github.io/gps-wizard/) and is distributed under the terms of the GNU General Public License.\n",
    "\n",
    "GPS Wizard is free software: you can redistribute it and/or modify it under the terms of the GNU General Public License as published by the Free Software Foundation, either version 3 of the License, or (at your option) any later version.\n",
    "\n",
    "GPS Wizard is distributed in the hope that it will be useful, but WITHOUT ANY WARRANTY; without even the implied warranty of MERCHANTABILITY or FITNESS FOR A PARTICULAR PURPOSE. See the GNU General Public License for more details.\n",
    "\n",
    "You should have received a copy of the GNU General Public License along with GPS Wizard. If not, see <https://www.gnu.org/licenses/>."
   ]
  },
  {
   "cell_type": "markdown",
   "id": "1caecc64",
   "metadata": {},
   "source": [
    "## Notes\n",
    "\n",
    "This is very crude and simply looks for Doppler speeds in excess of 30 m/s (i.e. 108 km/h or 58.32 knots).\n",
    "\n",
    "Such speeds are currently unrealistic for a windsurfer."
   ]
  },
  {
   "cell_type": "code",
   "execution_count": 1,
   "id": "4dfe4b28",
   "metadata": {},
   "outputs": [],
   "source": [
    "import os\n",
    "import sys\n",
    "\n",
    "import traceback\n",
    "\n",
    "corePath = os.path.join('..', 'core')\n",
    "if corePath not in sys.path:\n",
    "    sys.path.extend([corePath])\n",
    "\n",
    "from file_reader import getFileReader"
   ]
  },
  {
   "cell_type": "markdown",
   "id": "043c2a97",
   "metadata": {},
   "source": [
    "## Main Function"
   ]
  },
  {
   "cell_type": "code",
   "execution_count": 2,
   "id": "e1e5a5cf",
   "metadata": {},
   "outputs": [],
   "source": [
    "def findSpikes():\n",
    "    '''Iterate through session archive testing each GPS file'''\n",
    "\n",
    "    rootDir = os.path.join(projdir, 'sessions')\n",
    "\n",
    "    errors = {}\n",
    "    spikes = {}\n",
    "\n",
    "    for root, subDirs, files in os.walk(rootDir):\n",
    "        for file in files:\n",
    "            ext = os.path.splitext(file)[1].lower()\n",
    "            \n",
    "            if ext and ext in ('.fit', '.gpx', '.nmea', '.oao', '.sbn', '.sbp', '.ubx'):\n",
    "                filePath = os.path.join(root, file)\n",
    "                reader = getFileReader(filePath)\n",
    "                try:\n",
    "                    # Some legacy ESP-GPS files contain bad checksums\n",
    "                    if ext == '.ubx':\n",
    "                        reader.load(ignoreChecksums=True)\n",
    "                    else:\n",
    "                        reader.load()\n",
    "                    \n",
    "                    # Ignore GT-11 files\n",
    "                    if not ('firmware' in reader.header and reader.header['firmware'].startswith('V1.62')):\n",
    "                        if 'sog' in reader.data:\n",
    "                            maxSpeed = reader.data['sog'].max()\n",
    "                            if maxSpeed > 30:\n",
    "                                msg = '{} m/s ({:.02f} knots / {:.02f} km/h)'.format(\n",
    "                                    maxSpeed, maxSpeed * 3600 / 1852, maxSpeed * 3600 / 1000)\n",
    "                                spikes[filePath.replace(projdir + '/', '')] = msg\n",
    "                                print('S', end='')\n",
    "                            else:\n",
    "                                print('.', end='')\n",
    "                    else:\n",
    "                        print('.', end='')\n",
    "                except Exception:\n",
    "                    errors[filePath.replace(projdir + '/', '')] = traceback.format_exc()\n",
    "                    print('E', end='')\n",
    "\n",
    "    if len(errors) > 0:\n",
    "        print(os.linesep * 2 + 'Errors:')\n",
    "        for error in errors:\n",
    "            print(error)\n",
    "            print(errors[error])\n",
    "\n",
    "    if len(spikes) > 0:\n",
    "        print(os.linesep * 2 + 'Spikes:')\n",
    "        for spike in spikes:\n",
    "            print()\n",
    "            print(spike)\n",
    "            print(spikes[spike])"
   ]
  },
  {
   "cell_type": "code",
   "execution_count": 3,
   "id": "37e301aa",
   "metadata": {},
   "outputs": [
    {
     "name": "stdout",
     "output_type": "stream",
     "text": [
      "............................................................................................SS.................................................................................................................................................S........................................................................................................................................................................................................................................................................................................................................................................................................................................................................................................................................................................................................................................................................................................................................................................................................................................................................................................................................................................................................................................................................................................................................................................................................................................................................................................................................................................................................................................................................................................................................................................................................................................................................................................................................................................................................\n",
      "\n",
      "Spikes:\n",
      "\n",
      "sessions/spikes/20220314-wyke-regis/gt-31/K888_168603881_20220314_073849.sbp\n",
      "82.2 m/s (159.78 knots / 295.92 km/h)\n",
      "\n",
      "sessions/spikes/20121009-portland-harbour/gt-31/K888_123201112_20121009_085502.SBN\n",
      "42.04 m/s (81.72 knots / 151.34 km/h)\n",
      "\n",
      "sessions/archive/mike/Windsurfing/2015/Brogborough/2015-08-06/155800017_K888_20150806_193120.sbp\n",
      "32.8 m/s (63.76 knots / 118.08 km/h)\n",
      "\n",
      "All done!\n"
     ]
    }
   ],
   "source": [
    "if __name__ == '__main__':\n",
    "    projdir = os.path.realpath(os.path.join(sys.path[0], \"..\", \"..\"))\n",
    "\n",
    "    findSpikes()\n",
    "    \n",
    "    print(os.linesep + 'All done!')\n",
    "    \n",
    "    str(12)"
   ]
  },
  {
   "cell_type": "code",
   "execution_count": null,
   "id": "6a41b351",
   "metadata": {},
   "outputs": [],
   "source": []
  }
 ],
 "metadata": {
  "kernelspec": {
   "display_name": "Python 3 (ipykernel)",
   "language": "python",
   "name": "python3"
  },
  "language_info": {
   "codemirror_mode": {
    "name": "ipython",
    "version": 3
   },
   "file_extension": ".py",
   "mimetype": "text/x-python",
   "name": "python",
   "nbconvert_exporter": "python",
   "pygments_lexer": "ipython3",
   "version": "3.9.7"
  }
 },
 "nbformat": 4,
 "nbformat_minor": 5
}
