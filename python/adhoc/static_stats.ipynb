{
 "cells": [
  {
   "cell_type": "markdown",
   "id": "dc907b89",
   "metadata": {},
   "source": [
    "# Static Stats\n",
    "\n",
    "Produce basic stats for static GNSS testing, after removing the first 15 minutes (warm up) and last 2 minutes (shut down).\n",
    "\n",
    "Copyright 2024 Michael George (AKA Logiqx).\n",
    "\n",
    "This file is part of [GPS Wizard](https://github.com/Logiqx/gps-wizard) and is distributed under the terms of the GNU General Public License.\n",
    "\n",
    "GPS Wizard is free software: you can redistribute it and/or modify it under the terms of the GNU General Public License as published by the Free Software Foundation, either version 3 of the License, or (at your option) any later version.\n",
    "\n",
    "GPS Wizard is distributed in the hope that it will be useful, but WITHOUT ANY WARRANTY; without even the implied warranty of MERCHANTABILITY or FITNESS FOR A PARTICULAR PURPOSE. See the GNU General Public License for more details.\n",
    "\n",
    "You should have received a copy of the GNU General Public License along with GPS Wizard. If not, see <https://www.gnu.org/licenses/>."
   ]
  },
  {
   "cell_type": "markdown",
   "id": "1caecc64",
   "metadata": {},
   "source": [
    "## Notes\n",
    "\n",
    "This is very crude and simply looks for Doppler speeds in excess of 30 m/s (i.e. 108 km/h or 58.32 knots).\n",
    "\n",
    "Such speeds are currently unrealistic for a windsurfer."
   ]
  },
  {
   "cell_type": "code",
   "execution_count": 1,
   "id": "4dfe4b28",
   "metadata": {},
   "outputs": [],
   "source": [
    "import os\n",
    "import sys\n",
    "\n",
    "import numpy as np\n",
    "\n",
    "import traceback\n",
    "\n",
    "corePath = os.path.join('..', 'core')\n",
    "if corePath not in sys.path:\n",
    "    sys.path.extend([corePath])\n",
    "\n",
    "from file_reader import getFileReader"
   ]
  },
  {
   "cell_type": "markdown",
   "id": "043c2a97",
   "metadata": {},
   "source": [
    "## Main Function"
   ]
  },
  {
   "cell_type": "code",
   "execution_count": 2,
   "id": "e1e5a5cf",
   "metadata": {},
   "outputs": [],
   "source": [
    "WARM_UP_SECS = 900\n",
    "SHUTDOWN_SECS = 120\n",
    "\n",
    "MS_TO_KNOTS = 3600 / 1852\n",
    "\n",
    "def main():\n",
    "    '''Iterate through sessions testing each GPS file'''\n",
    "\n",
    "    rootDir = os.path.join(projdir, 'sessions', 'garden')\n",
    "\n",
    "    errors = {}\n",
    "    spikes = {}\n",
    "    \n",
    "    totFiles = 0\n",
    "    totPoints = 0\n",
    "    totDist = 0\n",
    "\n",
    "    for root, subDirs, files in os.walk(rootDir):\n",
    "        for file in sorted(files):\n",
    "            ext = os.path.splitext(file)[1].lower()\n",
    "\n",
    "            # Only interested in some file types\n",
    "            if ext and ext in ['.oao']:\n",
    "                filePath = os.path.join(root, file)\n",
    "                reader = getFileReader(filePath)\n",
    "                try:\n",
    "                    reader.load()\n",
    "                    \n",
    "                    # Process all tracks within the file\n",
    "                    for track in reader.tracks:\n",
    "                        minTs = np.min(track.data['ts'])\n",
    "                        maxTs = np.max(track.data['ts'])\n",
    "                        \n",
    "                        points = (np.argwhere((track.data['ts'] >= minTs + WARM_UP_SECS) & (track.data['ts'] <= maxTs - SHUTDOWN_SECS)))\n",
    "                        \n",
    "                        minSog = np.min(track.data['sog'][points]) * MS_TO_KNOTS\n",
    "                        maxSog = np.max(track.data['sog'][points]) * MS_TO_KNOTS\n",
    "                        meanSog = np.mean(track.data['sog'][points]) * MS_TO_KNOTS\n",
    "                        medSog = np.median(track.data['sog'][points]) * MS_TO_KNOTS\n",
    "                        stdSog = np.std(track.data['sog'][points]) * MS_TO_KNOTS\n",
    "\n",
    "                        print('{}: min = {:.3f}, max = {:.3f}, mean = {:.5f}, med = {:.5f}, std = {:.5f}'.format(\n",
    "                            file, minSog, maxSog, meanSog, medSog, stdSog))\n",
    "                        \n",
    "                    totFiles += 1\n",
    "\n",
    "                except Exception:\n",
    "                    errors[filePath.replace(projdir + '/', '')] = traceback.format_exc()\n",
    "                    print('E', end='')\n",
    "\n",
    "    print(os.linesep * 2 + 'Summary: files = {}'.format(totFiles))\n",
    "\n",
    "    if len(errors) > 0:\n",
    "        print(os.linesep * 2 + 'Errors:')\n",
    "        for error in errors:\n",
    "            print(error)\n",
    "            print(errors[error])"
   ]
  },
  {
   "cell_type": "code",
   "execution_count": 3,
   "id": "37e301aa",
   "metadata": {},
   "outputs": [
    {
     "name": "stdout",
     "output_type": "stream",
     "text": [
      "0630_2024-06-18-1231.oao: min = 0.000, max = 0.309, mean = 0.03731, med = 0.03499, std = 0.02120\n",
      "0631_2024-06-18-1231.oao: min = 0.000, max = 0.109, mean = 0.01650, med = 0.01555, std = 0.00976\n",
      "0632_2024-06-18-1231.oao: min = 0.000, max = 0.194, mean = 0.01481, med = 0.01361, std = 0.00903\n",
      "0635_2024-06-18-1231.oao: min = 0.000, max = 0.134, mean = 0.02223, med = 0.01944, std = 0.01247\n",
      "0660_2024-06-18-1231.oao: min = 0.000, max = 0.257, mean = 0.03184, med = 0.02916, std = 0.01787\n",
      "0661_2024-06-18-1231.oao: min = 0.000, max = 0.080, mean = 0.01422, med = 0.01361, std = 0.00839\n",
      "0662_2024-06-18-1232.oao: min = 0.000, max = 0.243, mean = 0.01221, med = 0.01166, std = 0.00739\n",
      "0665_2024-06-18-1232.oao: min = 0.000, max = 0.156, mean = 0.02020, med = 0.01944, std = 0.01132\n",
      "0801_2024-06-19-1200.oao: min = 0.000, max = 0.105, mean = 0.01026, med = 0.00972, std = 0.00661\n",
      "0802_2024-06-19-1159.oao: min = 0.000, max = 0.235, mean = 0.01194, med = 0.00972, std = 0.00822\n",
      "0805_2024-06-19-1159.oao: min = 0.000, max = 0.130, mean = 0.01827, med = 0.01749, std = 0.01063\n",
      "0811_2024-06-19-1159.oao: min = 0.000, max = 0.091, mean = 0.01134, med = 0.00972, std = 0.00740\n",
      "0812_2024-06-19-1159.oao: min = 0.000, max = 0.354, mean = 0.01242, med = 0.00972, std = 0.00862\n",
      "0815_2024-06-19-1159.oao: min = 0.000, max = 0.381, mean = 0.01794, med = 0.01555, std = 0.01039\n",
      "\n",
      "\n",
      "Summary: files = 14\n",
      "\n",
      "All done!\n"
     ]
    }
   ],
   "source": [
    "if __name__ == '__main__':\n",
    "    projdir = os.path.realpath(os.path.join(sys.path[0], \"..\", \"..\"))\n",
    "\n",
    "    main()\n",
    "    \n",
    "    print(os.linesep + 'All done!')"
   ]
  },
  {
   "cell_type": "code",
   "execution_count": null,
   "id": "92ea2f00",
   "metadata": {},
   "outputs": [],
   "source": []
  }
 ],
 "metadata": {
  "kernelspec": {
   "display_name": "Python 3 (ipykernel)",
   "language": "python",
   "name": "python3"
  },
  "language_info": {
   "codemirror_mode": {
    "name": "ipython",
    "version": 3
   },
   "file_extension": ".py",
   "mimetype": "text/x-python",
   "name": "python",
   "nbconvert_exporter": "python",
   "pygments_lexer": "ipython3",
   "version": "3.11.4"
  }
 },
 "nbformat": 4,
 "nbformat_minor": 5
}
