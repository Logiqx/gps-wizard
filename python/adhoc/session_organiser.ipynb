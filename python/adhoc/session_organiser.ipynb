{
 "cells": [
  {
   "cell_type": "markdown",
   "id": "dc907b89",
   "metadata": {},
   "source": [
    "# Session Organiser\n",
    "\n",
    "## Written by Michael George\n",
    "\n",
    "Iterate through folders, quickly sorting tracks into desired subfolders, prior to manual checks"
   ]
  },
  {
   "cell_type": "code",
   "execution_count": 1,
   "id": "4dfe4b28",
   "metadata": {},
   "outputs": [],
   "source": [
    "import os\n",
    "import sys\n",
    "import shutil\n",
    "\n",
    "from datetime import datetime\n",
    "\n",
    "corePath = os.path.join('../core')\n",
    "if corePath not in sys.path:\n",
    "    sys.path.extend([corePath])\n",
    "\n",
    "from file_reader import getFileReader"
   ]
  },
  {
   "cell_type": "markdown",
   "id": "043c2a97",
   "metadata": {},
   "source": [
    "## Main Function"
   ]
  },
  {
   "cell_type": "code",
   "execution_count": 2,
   "id": "e1e5a5cf",
   "metadata": {},
   "outputs": [],
   "source": [
    "spots = [\n",
    "    ('Brogborough Lake', (52.043066, -0.587432), (52.050822, -0.566066)),\n",
    "    ('Portland Harbour', (50.565381, -2.477175), (50.603325, -2.408660)),\n",
    "    ('West Kirby', (53.363431, -3.192207), (53.372967, -3.180778))\n",
    "]\n",
    "\n",
    "def organiseTracks():\n",
    "    '''Iterate through session archive testing each GPS file'''\n",
    "\n",
    "    rootDir = os.path.join(projdir, 'sessions', 'unsorted')\n",
    "\n",
    "    for root, subDirs, files in os.walk(rootDir):\n",
    "        for file in files:\n",
    "            ext = os.path.splitext(file)[1].lower()\n",
    "            \n",
    "            if ext in ('.oao', '.sbn', '.sbp'):\n",
    "                filePath = os.path.join(root, file)\n",
    "                reader = getFileReader(filePath)\n",
    "                try:\n",
    "                    reader.load()\n",
    "                    \n",
    "                    if reader.numRecords > 0:\n",
    "\n",
    "                        meanLat = reader.data['lat'].mean()\n",
    "                        meanLon = reader.data['lon'].mean()\n",
    "\n",
    "                        # Determine the spot\n",
    "                        spotName = 'UNKNOWN'\n",
    "                        for spot in spots:\n",
    "                            if spot[1][0] < meanLat < spot[2][0] and spot[1][1] < meanLon < spot[2][1]:\n",
    "                                spotName = spot[0]\n",
    "                                break\n",
    "\n",
    "                        # Rough and ready way to identify the sport\n",
    "                        maxSpeed = reader.data['sog'].max()\n",
    "                        if maxSpeed < 5:\n",
    "                            activity = 'SUPing'\n",
    "                        elif maxSpeed < 10:\n",
    "                            activity = 'Wingfoiling'\n",
    "                        elif maxSpeed < 15:\n",
    "                            activity = 'Windfoiling'\n",
    "                        else:\n",
    "                            activity = 'Windsurfing'\n",
    "\n",
    "                        # Determine the date\n",
    "                        dt = datetime.utcfromtimestamp(reader.data['timestamp'].max())\n",
    "                        sessionYear = dt.strftime('%Y')\n",
    "                        sessionDate = dt.strftime('%Y-%m-%d')\n",
    "\n",
    "                        path = os.path.join(projdir, 'sessions', 'sorted', activity, sessionYear, spotName, sessionDate)\n",
    "                        if not os.path.exists(path):\n",
    "                            os.makedirs(path)\n",
    "\n",
    "                        src = os.path.join(root, file)\n",
    "                        dst = os.path.join(path, file)\n",
    "\n",
    "                        print('Moving {}...'.format(dst))\n",
    "                        shutil.move(src, dst)\n",
    "\n",
    "                except:\n",
    "                    print('Failed to process {}'.format(filePath))\n",
    "                    raise"
   ]
  },
  {
   "cell_type": "code",
   "execution_count": 3,
   "id": "37e301aa",
   "metadata": {},
   "outputs": [
    {
     "name": "stdout",
     "output_type": "stream",
     "text": [
      "All done!\n"
     ]
    }
   ],
   "source": [
    "if __name__ == '__main__':\n",
    "    projdir = os.path.realpath(os.path.join(sys.path[0], \"..\", \"..\"))\n",
    "\n",
    "    organiseTracks()\n",
    "    \n",
    "    print('All done!')"
   ]
  }
 ],
 "metadata": {
  "kernelspec": {
   "display_name": "Python 3 (ipykernel)",
   "language": "python",
   "name": "python3"
  },
  "language_info": {
   "codemirror_mode": {
    "name": "ipython",
    "version": 3
   },
   "file_extension": ".py",
   "mimetype": "text/x-python",
   "name": "python",
   "nbconvert_exporter": "python",
   "pygments_lexer": "ipython3",
   "version": "3.9.7"
  }
 },
 "nbformat": 4,
 "nbformat_minor": 5
}
