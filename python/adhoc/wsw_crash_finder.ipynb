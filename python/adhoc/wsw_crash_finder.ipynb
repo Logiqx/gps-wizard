{
 "cells": [
  {
   "cell_type": "markdown",
   "id": "dc907b89",
   "metadata": {},
   "source": [
    "# WSW Crash Finder\n",
    "\n",
    "Iterate through folders, looking for possible crashes in all supported GPS file types.\n",
    "\n",
    "Copyright 2024 Michael George (AKA Logiqx).\n",
    "\n",
    "This file is part of [GPS Wizard](https://github.com/Logiqx/gps-wizard) and is distributed under the terms of the GNU General Public License.\n",
    "\n",
    "GPS Wizard is free software: you can redistribute it and/or modify it under the terms of the GNU General Public License as published by the Free Software Foundation, either version 3 of the License, or (at your option) any later version.\n",
    "\n",
    "GPS Wizard is distributed in the hope that it will be useful, but WITHOUT ANY WARRANTY; without even the implied warranty of MERCHANTABILITY or FITNESS FOR A PARTICULAR PURPOSE. See the GNU General Public License for more details.\n",
    "\n",
    "You should have received a copy of the GNU General Public License along with GPS Wizard. If not, see <https://www.gnu.org/licenses/>."
   ]
  },
  {
   "cell_type": "markdown",
   "id": "1caecc64",
   "metadata": {},
   "source": [
    "## Notes\n",
    "\n",
    "This is very crude and simply looks for Doppler speeds in excess of 30 m/s (i.e. 108 km/h or 58.32 knots).\n",
    "\n",
    "Such speeds are currently unrealistic for a windsurfer."
   ]
  },
  {
   "cell_type": "code",
   "execution_count": 1,
   "id": "4dfe4b28",
   "metadata": {},
   "outputs": [],
   "source": [
    "import os\n",
    "import sys\n",
    "\n",
    "import numpy as np\n",
    "\n",
    "from shapely.geometry import Polygon, Point\n",
    "\n",
    "import traceback\n",
    "\n",
    "corePath = os.path.join('..', 'core')\n",
    "if corePath not in sys.path:\n",
    "    sys.path.extend([corePath])\n",
    "\n",
    "from file_reader import getFileReader"
   ]
  },
  {
   "cell_type": "markdown",
   "id": "043c2a97",
   "metadata": {},
   "source": [
    "## Main Function"
   ]
  },
  {
   "cell_type": "code",
   "execution_count": 2,
   "id": "e1e5a5cf",
   "metadata": {},
   "outputs": [
    {
     "ename": "SyntaxError",
     "evalue": "invalid syntax (2283858296.py, line 56)",
     "output_type": "error",
     "traceback": [
      "\u001b[0;36m  File \u001b[0;32m\"/tmp/ipykernel_1655/2283858296.py\"\u001b[0;36m, line \u001b[0;32m56\u001b[0m\n\u001b[0;31m    if not road.contains(point) and track.data['ehpe'][i[0]] < 50 and :\u001b[0m\n\u001b[0m                                                                      ^\u001b[0m\n\u001b[0;31mSyntaxError\u001b[0m\u001b[0;31m:\u001b[0m invalid syntax\n"
     ]
    }
   ],
   "source": [
    "roadCoordinates = [\n",
    "    (50.57231527046923, -2.462386728786816),\n",
    "    (50.57928829629842, -2.4686713543672),\n",
    "    (50.58166491593653, -2.470184611133845),\n",
    "    (50.58627092109072, -2.471909956383185),\n",
    "    (50.58628653573243, -2.473113392996906),\n",
    "    (50.5815763678751, -2.471438610181945),\n",
    "    (50.57878807423553, -2.469637719414264),\n",
    "    (50.57178034261953, -2.463143746776421),\n",
    "    (50.57054567361534, -2.460492898345708),\n",
    "    (50.57104838137774, -2.460104740541679),\n",
    "    (50.57231527046923, -2.462386728786816)\n",
    "]\n",
    "\n",
    "road = Polygon(roadCoordinates)\n",
    "\n",
    "crashThreshold = 20 * 1852 / 3600\n",
    "\n",
    "def findSpikes():\n",
    "    '''Iterate through session archive testing each GPS file'''\n",
    "\n",
    "    rootDir = os.path.join(projdir, '..', 'wsw-data')\n",
    "\n",
    "    errors = {}\n",
    "    spikes = {}\n",
    "    \n",
    "    totFiles = 0\n",
    "    totPoints = 0\n",
    "    totDist = 0\n",
    "\n",
    "    for root, subDirs, files in os.walk(rootDir):\n",
    "        for file in files:\n",
    "            ext = os.path.splitext(file)[1].lower()\n",
    "            \n",
    "            #if ext and ext in ['.sbn', '.sbp', '.ubx']:\n",
    "            if ext and ext in ['.oao']:\n",
    "                filePath = os.path.join(root, file)\n",
    "                reader = getFileReader(filePath)\n",
    "                try:\n",
    "                    # Some legacy ESP-GPS files contain bad checksums\n",
    "                    if ext == '.ubx':\n",
    "                        reader.load(ignoreChecksums=True)\n",
    "                    else:\n",
    "                        reader.load()\n",
    "                    \n",
    "                    # Process all tracks within the file\n",
    "                    for track in reader.tracks:\n",
    "                        maxSog = 0\n",
    "\n",
    "                        points = (np.argwhere(track.data['hdop'] > 20))\n",
    "                        for i in points:\n",
    "                            lat = track.data['lat'][i[0]]\n",
    "                            lon = track.data['lon'][i[0]]\n",
    "                            point = Point(lat, lon)\n",
    "\n",
    "                            if not road.contains(point) and track.data['ehpe'][i[0]] < 50:\n",
    "                                sog =  track.data['sog'][i[0]]\n",
    "                                if sog > maxSog:\n",
    "                                    maxSog = sog\n",
    "                    \n",
    "                        if maxSog > crashThreshold:\n",
    "                            msg = '{:.02f},{:.02f},{:.02f}'.format(\n",
    "                                maxSog, maxSog * 3600 / 1852, maxSog * 3600 / 1000)\n",
    "                            spikes[filePath.replace(projdir + '/', '')] = msg\n",
    "                            print('H', end='')\n",
    "\n",
    "                        print('.', end='')\n",
    "                        \n",
    "                        totPoints += len(track.data['sog'])\n",
    "                        if ext in ['.oao']:\n",
    "                            totDist += track.data['sog'].sum() / 5\n",
    "                        else:\n",
    "                            totDist += track.data['sog'].sum()\n",
    "\n",
    "                    totFiles += 1\n",
    "\n",
    "                except Exception:\n",
    "                    errors[filePath.replace(projdir + '/', '')] = traceback.format_exc()\n",
    "                    print('E', end='')\n",
    "\n",
    "    print(os.linesep * 2 + 'Summary: files = {:,}, points = {:,}, distance = {:,.02f} km'.format(\n",
    "        totFiles, totPoints, totDist / 1000))\n",
    "\n",
    "    if len(errors) > 0:\n",
    "        print(os.linesep * 2 + 'Errors:')\n",
    "        for error in errors:\n",
    "            print(error)\n",
    "            print(errors[error])\n",
    "\n",
    "    if len(spikes) > 0:\n",
    "        print(os.linesep * 2 + 'Crashes:')\n",
    "        for spike in spikes:\n",
    "            print(spike + ',' + spikes[spike])"
   ]
  },
  {
   "cell_type": "code",
   "execution_count": null,
   "id": "37e301aa",
   "metadata": {},
   "outputs": [],
   "source": [
    "if __name__ == '__main__':\n",
    "    projdir = os.path.realpath(os.path.join(sys.path[0], \"..\", \"..\"))\n",
    "\n",
    "    findSpikes()\n",
    "    \n",
    "    print(os.linesep + 'All done!')"
   ]
  },
  {
   "cell_type": "code",
   "execution_count": null,
   "id": "92ea2f00",
   "metadata": {},
   "outputs": [],
   "source": []
  }
 ],
 "metadata": {
  "kernelspec": {
   "display_name": "Python 3 (ipykernel)",
   "language": "python",
   "name": "python3"
  },
  "language_info": {
   "codemirror_mode": {
    "name": "ipython",
    "version": 3
   },
   "file_extension": ".py",
   "mimetype": "text/x-python",
   "name": "python",
   "nbconvert_exporter": "python",
   "pygments_lexer": "ipython3",
   "version": "3.9.7"
  }
 },
 "nbformat": 4,
 "nbformat_minor": 5
}
