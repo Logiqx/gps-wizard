{
 "cells": [
  {
   "cell_type": "markdown",
   "id": "dc907b89",
   "metadata": {},
   "source": [
    "# Median Point\n",
    "\n",
    "Load a single track into memory to calculate the median point.\n",
    "\n",
    "Copyright 2025 Michael George (AKA Logiqx).\n",
    "\n",
    "This file is part of [GPS Wizard](https://github.com/Logiqx/gps-wizard) and is distributed under the terms of the GNU General Public License.\n",
    "\n",
    "GPS Wizard is free software: you can redistribute it and/or modify it under the terms of the GNU General Public License as published by the Free Software Foundation, either version 3 of the License, or (at your option) any later version.\n",
    "\n",
    "GPS Wizard is distributed in the hope that it will be useful, but WITHOUT ANY WARRANTY; without even the implied warranty of MERCHANTABILITY or FITNESS FOR A PARTICULAR PURPOSE. See the GNU General Public License for more details.\n",
    "\n",
    "You should have received a copy of the GNU General Public License along with GPS Wizard. If not, see <https://www.gnu.org/licenses/>."
   ]
  },
  {
   "cell_type": "markdown",
   "id": "1caecc64",
   "metadata": {},
   "source": [
    "## Notes\n",
    "\n",
    "Loads a single track into memory and returns the median point"
   ]
  },
  {
   "cell_type": "code",
   "execution_count": 1,
   "id": "4dfe4b28",
   "metadata": {},
   "outputs": [],
   "source": [
    "import os\n",
    "import sys\n",
    "import math\n",
    "\n",
    "from datetime import datetime\n",
    "\n",
    "import numpy as np\n",
    "\n",
    "corePath = os.path.join('..', 'core')\n",
    "if corePath not in sys.path:\n",
    "    sys.path.extend([corePath])\n",
    "\n",
    "from file_reader import getFileReader"
   ]
  },
  {
   "cell_type": "markdown",
   "id": "043c2a97",
   "metadata": {},
   "source": [
    "## Main Functions"
   ]
  },
  {
   "cell_type": "code",
   "execution_count": 2,
   "id": "8708472b",
   "metadata": {},
   "outputs": [],
   "source": [
    "def loadTrack(filename):\n",
    "    '''Analyze a GPS track'''\n",
    "\n",
    "    fileReader = getFileReader(filename)\n",
    "    if os.path.splitext(filename)[1].lower() == '.ubx':\n",
    "        fileReader.load(ignoreChecksums=True)\n",
    "    else:\n",
    "        fileReader.load()\n",
    "\n",
    "    track = fileReader.tracks[0]\n",
    "    \n",
    "    return track"
   ]
  },
  {
   "cell_type": "code",
   "execution_count": 3,
   "id": "0bd90629",
   "metadata": {},
   "outputs": [],
   "source": [
    "def calculateMedian(track):\n",
    "    '''Summarise field'''\n",
    "    \n",
    "    point = (np.median(track.data['lat']), np.median(track.data['lon']))\n",
    "\n",
    "    return point"
   ]
  },
  {
   "cell_type": "code",
   "execution_count": 4,
   "id": "37e301aa",
   "metadata": {},
   "outputs": [
    {
     "name": "stdout",
     "output_type": "stream",
     "text": [
      "(50.5857432, -2.470238)\n"
     ]
    }
   ],
   "source": [
    "if __name__ == '__main__':\n",
    "    projdir = os.path.realpath(os.path.join(sys.path[0], \"..\", \"..\"))\n",
    "\n",
    "    filename = os.path.join(projdir, 'sessions', 'test', 'va-5_20048124317_ACTIVITY.fit')\n",
    "    track = loadTrack(filename)\n",
    "    point = calculateMedian(track)\n",
    "    print(point)"
   ]
  },
  {
   "cell_type": "code",
   "execution_count": null,
   "id": "5f4d5385",
   "metadata": {},
   "outputs": [],
   "source": []
  }
 ],
 "metadata": {
  "kernelspec": {
   "display_name": "Python 3 (ipykernel)",
   "language": "python",
   "name": "python3"
  },
  "language_info": {
   "codemirror_mode": {
    "name": "ipython",
    "version": 3
   },
   "file_extension": ".py",
   "mimetype": "text/x-python",
   "name": "python",
   "nbconvert_exporter": "python",
   "pygments_lexer": "ipython3",
   "version": "3.11.4"
  }
 },
 "nbformat": 4,
 "nbformat_minor": 5
}
