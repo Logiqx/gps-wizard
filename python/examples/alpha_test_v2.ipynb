{
 "cells": [
  {
   "cell_type": "markdown",
   "id": "dc907b89",
   "metadata": {},
   "source": [
    "# Alpha Test V2\n",
    "\n",
    "Generic implementation of alpha racing, now supporting all file formats.\n",
    "\n",
    "Copyright 2022 Michael George (AKA Logiqx).\n",
    "\n",
    "This file is part of [GPS Wizard](https://github.com/Logiqx/gps-wizard) and is distributed under the terms of the GNU General Public License.\n",
    "\n",
    "GPS Wizard is free software: you can redistribute it and/or modify it under the terms of the GNU General Public License as published by the Free Software Foundation, either version 3 of the License, or (at your option) any later version.\n",
    "\n",
    "GPS Wizard is distributed in the hope that it will be useful, but WITHOUT ANY WARRANTY; without even the implied warranty of MERCHANTABILITY or FITNESS FOR A PARTICULAR PURPOSE. See the GNU General Public License for more details.\n",
    "\n",
    "You should have received a copy of the GNU General Public License along with GPS Wizard. If not, see <https://www.gnu.org/licenses/>."
   ]
  },
  {
   "cell_type": "markdown",
   "id": "1caecc64",
   "metadata": {},
   "source": [
    "## Notes\n",
    "\n",
    "Loads a single GT-31 track into memory and performs some basic analysis\n",
    "\n",
    "Useful link on [Stack Overflow](https://stackoverflow.com/questions/27083051/matplotlib-xticks-not-lining-up-with-histogram)"
   ]
  },
  {
   "cell_type": "code",
   "execution_count": 1,
   "id": "4dfe4b28",
   "metadata": {},
   "outputs": [],
   "source": [
    "import os\n",
    "import sys\n",
    "\n",
    "import numpy as np\n",
    "\n",
    "from math import pi, cos\n",
    "\n",
    "corePath = os.path.join('..', 'core')\n",
    "if corePath not in sys.path:\n",
    "    sys.path.extend([corePath])\n",
    "\n",
    "from file_reader import getFileReader"
   ]
  },
  {
   "cell_type": "markdown",
   "id": "3d42cf60",
   "metadata": {},
   "source": [
    "## Constants"
   ]
  },
  {
   "cell_type": "code",
   "execution_count": 2,
   "id": "51de5afc",
   "metadata": {},
   "outputs": [],
   "source": [
    "# Mean radius of Earth (m). IUGG and IERS both give a value of 6371008.7714 metres\n",
    "EARTH_RADIUS = 6371009\n",
    "\n",
    "# Exact number of metres in a nautical mile\n",
    "METRES_PER_NM = 1852\n",
    "\n",
    "# Minimum alpha proximity (m) is one of the core parameters for alpha racing\n",
    "MAX_ALPHA_PROXIMITY = 50\n",
    "\n",
    "# Minimum alpha proximity (m) squared remove the need for sqrt() when using Pythagoras\n",
    "MAX_ALPHA_PROXIMITY_SQUARED = MAX_ALPHA_PROXIMITY ** 2\n",
    "\n",
    "# Maximim alpha distance (m) is one of the core parameters for alpha racing\n",
    "MAX_ALPHA_DISTANCE = 500\n",
    "\n",
    "# Minimum alpha distance (m) is used to safely ignore a decent number of readings\n",
    "MIN_ALPHA_DISTANCE = MAX_ALPHA_DISTANCE / 2\n",
    "\n",
    "# Minimum number of degrees to determine that a turn has occurred and thus an alpha may be in progress\n",
    "MIN_TURN_DEGREES = 90\n",
    "\n",
    "# Minimum time between individual alphas (s) is particularly helpful when maintaining a list of all alpha results\n",
    "MIN_ALPHA_INTERVAL = 10\n",
    "\n",
    "# Minimum speed to be interested in a data point (m/s)\n",
    "MIN_SPEED_FILTER = 1"
   ]
  },
  {
   "cell_type": "markdown",
   "id": "043c2a97",
   "metadata": {},
   "source": [
    "## Track Loader"
   ]
  },
  {
   "cell_type": "code",
   "execution_count": 3,
   "id": "8708472b",
   "metadata": {},
   "outputs": [],
   "source": [
    "def loadTrack(filename):\n",
    "    '''Analyze a GPS track'''\n",
    "\n",
    "    fileReader = getFileReader(filename)\n",
    "    fileReader.load()\n",
    "\n",
    "    track = fileReader.tracks[0]\n",
    "    \n",
    "    populateCache(track)\n",
    "    \n",
    "    return track"
   ]
  },
  {
   "cell_type": "code",
   "execution_count": 4,
   "id": "39b582ad",
   "metadata": {},
   "outputs": [],
   "source": [
    "def populateCache(track):\n",
    "    '''Populate the cache for various speed calculations, including alphas.\n",
    "\n",
    "    Note: When processing GNSS data in real-time these calculations would be done once for each individual trackpoint.\n",
    "\n",
    "    Real-time could either use a large full-session buffer or a \"circular\" buffer of say 1024 entries (~100 seconds @ 1 Hz).'''\n",
    "\n",
    "    track.cache = {}\n",
    "\n",
    "    # Convert timestamps into datetimes\n",
    "    track.cache['datetimes'] = np.array(track.data['ts'], dtype='datetime64[s]')\n",
    "\n",
    "    # Convert latitude and longitude values from semicircles to radians\n",
    "    track.cache['latitudes'] = np.radians(track.data['lat'])\n",
    "    track.cache['longitudes'] = np.radians(track.data['lon'])\n",
    "\n",
    "    # Calculate distances north / south of the equator (metres)\n",
    "    track.cache['yOffsets'] = track.cache['latitudes'] * EARTH_RADIUS\n",
    "\n",
    "    # Calculate the scaling factors for distances east / west of the primary meridian\n",
    "    track.cache['xScales'] = np.cos(track.cache['latitudes']) * EARTH_RADIUS\n",
    "\n",
    "    # Calculate cumulative distances (m) using 1s speeds (m/s)\n",
    "    # TODO - consider time intervals to handle 5 Hz and 10 Hz logs\n",
    "    track.cache['distances'] =  track.data['sog'].cumsum()\n",
    "\n",
    "    # Apply minimum speed filter - standard practice for GPSResults, GP3S, etc.\n",
    "    track.cache['filters'] = np.where(track.data['sog'] < MIN_SPEED_FILTER, 1, 0)"
   ]
  },
  {
   "cell_type": "markdown",
   "id": "a77eea7a",
   "metadata": {},
   "source": [
    "## Speedsurfing Result\n",
    "\n",
    "Generic class for holding a single speedsurfing run / result"
   ]
  },
  {
   "cell_type": "code",
   "execution_count": 5,
   "id": "7439ef71",
   "metadata": {},
   "outputs": [],
   "source": [
    "class SpeedsurfingResult():\n",
    "    \n",
    "    def __init__(self, idx, startTime, endTime, distance, speed):\n",
    "        '''Constructor just records the field values'''\n",
    "        \n",
    "        self.idx = idx\n",
    "        self.startTime = startTime\n",
    "        self.endTime = endTime\n",
    "        self.distance = distance\n",
    "        self.speed = speed"
   ]
  },
  {
   "cell_type": "markdown",
   "id": "1a324fcd",
   "metadata": {},
   "source": [
    "## Alpha Processing\n",
    "\n",
    "Calculation and reporting of alpha results "
   ]
  },
  {
   "cell_type": "code",
   "execution_count": 6,
   "id": "e1e5a5cf",
   "metadata": {},
   "outputs": [],
   "source": [
    "def processAlphas(self):\n",
    "    '''Process the alphas'''\n",
    "\n",
    "    # List of all unique alphas - separated by at least MIN_ALPHA_INTERVAL\n",
    "    alphaResults = []\n",
    "\n",
    "    # Current alpha being considered - required to keep track of the current alpha, ignoring slower 1 second \"variants\"\n",
    "    alphaResult = None\n",
    "\n",
    "    # Last index of the most recent alpha that was detected - used for MIN_ALPHA_INTERVAL checks\n",
    "    alphaIdx = None\n",
    "\n",
    "    # This is only for performance monitoring during development and is not required when calculating alpha results\n",
    "    proximityCheckCount = 0\n",
    "\n",
    "    # Process GNSS data readings one at a time, thus simulating real-time processing - well... kind of :D\n",
    "    for i2 in range(len(track.data['sog'])):\n",
    "\n",
    "        # If we've passed the minimum alpha interval, store the previous alpha in the results array\n",
    "        if alphaResult and i2 >= alphaIdx + MIN_ALPHA_INTERVAL:\n",
    "            alphaResults.append(alphaResult)\n",
    "            alphaResult = None\n",
    "\n",
    "        # Skip alpha processing if latest speed is less than the filter value (1 m/s, ~2 knots)\n",
    "        if track.cache['filters'][i2] == 0:\n",
    "\n",
    "            # Processing will start with the prior reading, working backwards in time\n",
    "            i1 = i2 - 1\n",
    "\n",
    "            # Skip the most recent 250m, plus any readings flagged as too slow by the speed filter (e.g. <1 m/s)\n",
    "            cutoff = track.cache['distances'][i2] - MIN_ALPHA_DISTANCE\n",
    "            while i1 > 0 and track.cache['filters'][i1] == 0 and track.cache['distances'][i1] > cutoff:\n",
    "                i1 -= 1\n",
    "\n",
    "            # Search for start(s) of the alpha, aborting if filtered (e.g. <1 m/s) or the max distance (500 m) reached\n",
    "            cutoff = track.cache['distances'][i2] - MAX_ALPHA_DISTANCE\n",
    "            while i1 >= 0 and track.cache['filters'][i1] == 0 and track.cache['distances'][i1] >= cutoff:\n",
    "\n",
    "                # Simple approach to find the angular difference between two COG values but could use \"if\" statements\n",
    "                angularDifference = 180 - abs(abs(track.data['cog'][i2] - track.data['cog'][i1]) - 180)\n",
    "\n",
    "                # An alpha is a \"there and back\" (i.e. includes a gybe or tack) so angles must be significantly different\n",
    "                if angularDifference >= MIN_TURN_DEGREES:\n",
    "\n",
    "                    # Pythagoras estimate of proximity between two points is plenty good enough for 50m (sub-mm accuracy)\n",
    "                    proximitySquared = estimateProximitySquared(track, i1, i2)\n",
    "                    proximityCheckCount += 1\n",
    "\n",
    "                    # Since this is a potential alpha it needs to be properly considered\n",
    "                    if proximitySquared <= MAX_ALPHA_PROXIMITY_SQUARED:\n",
    "\n",
    "                        # Distance calculation is quick and easy\n",
    "                        distance = track.cache['distances'][i2] - track.cache['distances'][i1]\n",
    "\n",
    "                        # This should probably calculate seconds from the timestamps but the indices will suffice\n",
    "                        # TODO - calculate seconds using tinestamps\n",
    "                        seconds = i2 - i1\n",
    "\n",
    "                        # Speed in knots, although could easily store in native units such as m/s, cm/s or mm/s\n",
    "                        speed = distance / seconds * 3600 / METRES_PER_NM\n",
    "\n",
    "                        # Create an alpha object which may be stored later, if it proves to be the fastest \"variant\"\n",
    "                        if alphaResult is None or speed > alphaResult.speed:\n",
    "                            alphaResult = SpeedsurfingResult(\n",
    "                                            i2, track.cache['datetimes'][i1], track.cache['datetimes'][i2], distance, speed)\n",
    "\n",
    "                        # Remember where this latest alpha actually finished - used for MIN_ALPHA_INTERVAL checks\n",
    "                        alphaIdx = i2\n",
    "\n",
    "                i1 -= 1\n",
    "\n",
    "    # Store final alpha (if present)\n",
    "    if alphaResult:\n",
    "        alphaResults.append(alphaResult)\n",
    "\n",
    "    # Run simple report listing all alphas\n",
    "    reportAlphas(alphaResults)\n",
    "\n",
    "    # Performance metric during development\n",
    "    print('{} proximity checks'.format(proximityCheckCount))"
   ]
  },
  {
   "cell_type": "code",
   "execution_count": 7,
   "id": "f6142dd5",
   "metadata": {},
   "outputs": [],
   "source": [
    "def estimateProximitySquared(track, i1, i2):\n",
    "    \"\"\"Estimate the Euclidean distance between two nearby points on a sphere using Pythagorean Theorem.\n",
    "\n",
    "    See the 'haversine_vs_pythagoras' notebook for a full comparison of the Haversine Formula vs Pythagorean Theorem.\n",
    "\n",
    "    Where applicable this function uses the pre-computed cache to avoid repeated use of costly trig functions.\"\"\"\n",
    "\n",
    "    # Calculate distance north / south\n",
    "    yDelta = track.cache['yOffsets'][i2] - track.cache['yOffsets'][i1]\n",
    "\n",
    "    # It is worth checking if the alpha proximity has been exceeded based on yDelta alone\n",
    "    if yDelta > MAX_ALPHA_PROXIMITY_SQUARED:\n",
    "        return MAX_ALPHA_PROXIMITY_SQUARED + 1\n",
    "\n",
    "    # For the sake of completeness we need to cope with the points either side of the 180th meridian\n",
    "    longDelta = abs(track.cache['longitudes'][i2] - track.cache['longitudes'][i1])\n",
    "    if longDelta > pi:\n",
    "        longDelta -= 2 * pi\n",
    "\n",
    "    # Calculate distance east / west\n",
    "    xDelta = longDelta * track.cache['xScales'][i2]\n",
    "\n",
    "    # It is worth checking if the alpha proximity has been exceeded based on xDelta alone\n",
    "    if xDelta > MAX_ALPHA_PROXIMITY_SQUARED:\n",
    "        return MAX_ALPHA_PROXIMITY_SQUARED + 1\n",
    "\n",
    "    # Apply Pythagorean theorem to determine the distance, accurate to within the mm due to proximity check of 50m\n",
    "    proximitySquared = xDelta ** 2 + yDelta ** 2\n",
    "\n",
    "    # The final sqrt() is skipped because we can compare this result against MAX_ALPHA_PROXIMITY_SQUARED\n",
    "    return proximitySquared"
   ]
  },
  {
   "cell_type": "code",
   "execution_count": 8,
   "id": "34713055",
   "metadata": {},
   "outputs": [],
   "source": [
    "def reportAlphas(alphaResults):\n",
    "    '''Simple report of all of the alphas'''\n",
    "\n",
    "    # Time to finish up with the reporting!\n",
    "    if len(alphaResults) > 0:\n",
    "\n",
    "        # Sort the results\n",
    "        alphaResults.sort(key=lambda alphaResult: alphaResult.speed, reverse=True)\n",
    "\n",
    "        # Print header\n",
    "        print('start time\\tend time\\tm\\tknots')\n",
    "\n",
    "        # Print results\n",
    "        for i in range(len(alphaResults)):\n",
    "            print('{}\\t{}\\t{:0.1f}\\t{:0.3f}'.format(\n",
    "                                                str(alphaResults[i].startTime)[-8:],\n",
    "                                                str(alphaResults[i].endTime)[-8:],\n",
    "                                                alphaResults[i].distance, alphaResults[i].speed))\n",
    "        print()"
   ]
  },
  {
   "cell_type": "markdown",
   "id": "5253f7b0",
   "metadata": {},
   "source": [
    "## 20 Oct 2021\n",
    "\n",
    "COROS APEX Pro and App both showed 23.62 knots, actually 21.632 knots when calculated correctly"
   ]
  },
  {
   "cell_type": "code",
   "execution_count": 9,
   "id": "37e301aa",
   "metadata": {},
   "outputs": [
    {
     "name": "stdout",
     "output_type": "stream",
     "text": [
      "start time\tend time\tm\tknots\n",
      "11:49:26\t11:50:09\t478.5\t21.632\n",
      "12:40:55\t12:41:40\t494.0\t21.338\n",
      "13:52:51\t13:53:37\t497.5\t21.022\n",
      "12:21:41\t12:22:27\t497.1\t21.004\n",
      "11:11:54\t11:12:40\t489.3\t20.675\n",
      "11:13:17\t11:14:04\t499.0\t20.640\n",
      "12:37:39\t12:38:27\t487.4\t19.737\n",
      "12:25:55\t12:26:44\t493.2\t19.566\n",
      "13:45:47\t13:46:34\t466.1\t19.278\n",
      "14:20:39\t14:21:29\t492.3\t19.140\n",
      "11:28:32\t11:29:23\t499.7\t19.046\n",
      "12:17:43\t12:18:33\t489.8\t19.041\n",
      "13:04:23\t13:05:13\t489.7\t19.037\n",
      "12:49:59\t12:50:51\t493.7\t18.457\n",
      "11:25:16\t11:26:05\t463.0\t18.368\n",
      "13:29:44\t13:30:28\t414.4\t18.309\n",
      "14:15:54\t14:16:47\t498.7\t18.290\n",
      "11:31:48\t11:32:41\t496.9\t18.224\n",
      "12:32:57\t12:33:46\t458.8\t18.202\n",
      "14:18:25\t14:19:18\t490.8\t18.002\n",
      "13:56:09\t13:57:04\t497.8\t17.594\n",
      "14:22:41\t14:23:43\t457.9\t14.358\n",
      "14:27:40\t14:29:01\t499.9\t11.997\n",
      "\n",
      "28036 proximity checks\n"
     ]
    }
   ],
   "source": [
    "if __name__ == '__main__':\n",
    "    projdir = os.path.realpath(os.path.join(sys.path[0], \"..\", \"..\"))\n",
    "\n",
    "    filename = os.path.join(projdir, 'sessions', '20211020', 'Speedsurfing20211020115946.fit')\n",
    "    track = loadTrack(filename)\n",
    "    processAlphas(track)"
   ]
  },
  {
   "cell_type": "markdown",
   "id": "efdedab4",
   "metadata": {},
   "source": [
    "## 12 Nov 2021\n",
    "\n",
    "COROS APEX Pro and App both showed 27.64 knots, actually 21.148 knots when calculated correctly "
   ]
  },
  {
   "cell_type": "code",
   "execution_count": 10,
   "id": "5f484fcd",
   "metadata": {},
   "outputs": [
    {
     "name": "stdout",
     "output_type": "stream",
     "text": [
      "start time\tend time\tm\tknots\n",
      "12:47:38\t12:48:23\t489.6\t21.148\n",
      "12:37:07\t12:37:54\t491.9\t20.344\n",
      "12:39:19\t12:40:07\t499.9\t20.242\n",
      "13:07:25\t13:08:13\t497.8\t20.158\n",
      "12:31:32\t12:32:21\t491.9\t19.515\n",
      "13:11:21\t13:12:10\t491.1\t19.480\n",
      "13:19:28\t13:20:18\t491.9\t19.124\n",
      "12:43:17\t12:44:10\t492.8\t18.074\n",
      "13:23:33\t13:24:28\t495.0\t17.493\n",
      "12:55:33\t12:56:30\t492.4\t16.794\n",
      "12:35:04\t12:35:54\t413.5\t16.075\n",
      "\n",
      "18272 proximity checks\n"
     ]
    }
   ],
   "source": [
    "if __name__ == '__main__':\n",
    "    projdir = os.path.realpath(os.path.join(sys.path[0], \"..\", \"..\"))\n",
    "\n",
    "    filename = os.path.join(projdir, 'sessions', '20211112', 'Speedsurfing20211112122819.fit')\n",
    "    track = loadTrack(filename)\n",
    "    processAlphas(track)"
   ]
  },
  {
   "cell_type": "markdown",
   "id": "751670cf",
   "metadata": {},
   "source": [
    "## 4 Apr 2022\n",
    "\n",
    "COROS APEX Pro and App both showed 22.51 knots, actually 22.014 knots when calculated correctly"
   ]
  },
  {
   "cell_type": "code",
   "execution_count": 11,
   "id": "5f4d5385",
   "metadata": {},
   "outputs": [
    {
     "name": "stdout",
     "output_type": "stream",
     "text": [
      "start time\tend time\tm\tknots\n",
      "12:55:24\t12:56:08\t498.3\t22.014\n",
      "13:57:31\t13:58:18\t493.7\t20.419\n",
      "13:00:40\t13:01:27\t493.2\t20.397\n",
      "13:00:06\t13:00:52\t477.3\t20.171\n",
      "12:58:08\t12:58:57\t498.9\t19.790\n",
      "13:03:13\t13:04:02\t488.6\t19.383\n",
      "14:28:16\t14:29:05\t485.5\t19.260\n",
      "13:18:40\t13:19:30\t491.6\t19.112\n",
      "14:23:28\t14:24:17\t478.2\t18.972\n",
      "14:22:45\t14:23:35\t485.7\t18.883\n",
      "14:34:41\t14:35:10\t276.6\t18.538\n",
      "12:53:10\t12:53:49\t369.7\t18.428\n",
      "13:06:10\t13:06:48\t351.8\t17.997\n",
      "12:51:29\t12:51:58\t268.3\t17.986\n",
      "13:36:39\t13:37:16\t340.9\t17.912\n",
      "12:57:28\t12:58:08\t367.1\t17.837\n",
      "13:08:45\t13:09:13\t253.5\t17.600\n",
      "13:15:05\t13:15:37\t288.6\t17.530\n",
      "13:54:28\t13:54:56\t251.9\t17.490\n",
      "14:27:31\t14:28:26\t493.0\t17.424\n",
      "13:21:32\t13:22:24\t465.8\t17.412\n",
      "13:35:50\t13:36:35\t402.6\t17.390\n",
      "13:32:27\t13:33:04\t330.7\t17.373\n",
      "12:54:39\t12:55:30\t448.6\t17.099\n",
      "12:54:02\t12:54:31\t250.6\t16.797\n",
      "12:50:48\t12:51:26\t323.6\t16.552\n",
      "14:34:04\t14:34:35\t263.0\t16.493\n",
      "12:47:23\t12:48:03\t315.3\t15.322\n",
      "13:05:16\t13:06:19\t493.2\t15.219\n",
      "12:56:45\t12:57:18\t255.7\t15.060\n",
      "13:10:45\t13:11:52\t492.8\t14.298\n",
      "12:52:33\t12:53:08\t253.5\t14.077\n",
      "13:34:43\t13:35:52\t494.4\t13.928\n",
      "13:58:14\t13:59:25\t499.0\t13.660\n",
      "14:35:24\t14:36:34\t491.4\t13.647\n",
      "13:44:01\t13:44:37\t250.4\t13.522\n",
      "12:58:57\t13:00:09\t492.8\t13.306\n",
      "13:37:38\t13:38:54\t489.6\t12.522\n",
      "13:19:28\t13:20:48\t497.1\t12.080\n",
      "13:28:26\t13:29:54\t497.3\t10.984\n",
      "13:09:42\t13:10:52\t392.2\t10.890\n",
      "14:17:12\t14:18:41\t489.9\t10.699\n",
      "14:41:16\t14:42:49\t499.4\t10.439\n",
      "13:03:51\t13:05:28\t499.7\t10.014\n",
      "13:33:01\t13:34:44\t498.9\t9.416\n",
      "13:11:41\t13:13:17\t463.0\t9.376\n",
      "13:06:56\t13:07:56\t258.7\t8.380\n",
      "13:26:41\t13:28:19\t392.5\t7.785\n",
      "13:30:01\t13:31:14\t267.5\t7.124\n",
      "12:49:18\t12:50:32\t262.8\t6.904\n",
      "\n",
      "115179 proximity checks\n"
     ]
    }
   ],
   "source": [
    "if __name__ == '__main__':\n",
    "    projdir = os.path.realpath(os.path.join(sys.path[0], \"..\", \"..\"))\n",
    "\n",
    "    filename = os.path.join(projdir, 'sessions', '20220404', 'Speedsurfing20220404134130.fit')\n",
    "    track = loadTrack(filename)\n",
    "    processAlphas(track)"
   ]
  },
  {
   "cell_type": "markdown",
   "id": "3ba574f6",
   "metadata": {},
   "source": [
    "## 14 July 2022\n",
    "\n",
    "Test session for Motion firmware updates"
   ]
  },
  {
   "cell_type": "code",
   "execution_count": 12,
   "id": "575ff25c",
   "metadata": {},
   "outputs": [
    {
     "name": "stdout",
     "output_type": "stream",
     "text": [
      "start time\tend time\tm\tknots\n",
      "18:24:12\t18:25:02\t495.1\t19.247\n",
      "17:49:38\t17:50:28\t477.7\t18.570\n",
      "16:07:30\t16:08:23\t492.0\t18.046\n",
      "18:09:42\t18:10:38\t497.3\t17.261\n",
      "16:32:22\t16:33:19\t498.7\t17.008\n",
      "17:46:43\t17:47:37\t468.6\t16.867\n",
      "16:28:21\t16:29:18\t493.8\t16.839\n",
      "18:49:55\t18:50:53\t497.5\t16.672\n",
      "18:48:40\t18:49:38\t491.6\t16.475\n",
      "16:11:00\t16:12:00\t499.3\t16.175\n",
      "17:52:36\t17:53:15\t316.6\t15.778\n",
      "18:51:55\t18:52:57\t493.0\t15.456\n",
      "18:25:08\t18:26:14\t468.9\t13.810\n",
      "18:42:15\t18:43:28\t499.9\t13.312\n",
      "16:43:22\t16:44:40\t499.5\t12.449\n",
      "18:38:44\t18:40:03\t499.9\t12.299\n",
      "18:06:50\t18:08:15\t494.5\t11.310\n",
      "15:39:43\t15:40:43\t316.0\t10.238\n",
      "18:30:27\t18:32:26\t498.3\t8.140\n",
      "15:27:10\t15:28:15\t253.2\t7.573\n",
      "15:20:39\t15:22:28\t340.6\t6.073\n",
      "\n",
      "47691 proximity checks\n"
     ]
    }
   ],
   "source": [
    "if __name__ == '__main__':\n",
    "    projdir = os.path.realpath(os.path.join(sys.path[0], \"..\", \"..\"))\n",
    "\n",
    "    filename = os.path.join(projdir, 'sessions', '20220714', '0470_2022-07-14-1506.gpx')\n",
    "    track = loadTrack(filename)\n",
    "    processAlphas(track)"
   ]
  }
 ],
 "metadata": {
  "kernelspec": {
   "display_name": "Python 3 (ipykernel)",
   "language": "python",
   "name": "python3"
  },
  "language_info": {
   "codemirror_mode": {
    "name": "ipython",
    "version": 3
   },
   "file_extension": ".py",
   "mimetype": "text/x-python",
   "name": "python",
   "nbconvert_exporter": "python",
   "pygments_lexer": "ipython3",
   "version": "3.9.7"
  }
 },
 "nbformat": 4,
 "nbformat_minor": 5
}
