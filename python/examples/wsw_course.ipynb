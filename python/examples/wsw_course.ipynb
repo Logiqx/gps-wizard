{
 "cells": [
  {
   "cell_type": "markdown",
   "id": "2dfe0351-498f-44f7-b87e-ea972cf6e681",
   "metadata": {},
   "source": [
    "# WSW Course\n",
    "\n",
    "Calculate corners of course for Weymouth Speed Week.\n",
    "\n",
    "Copyright 2025 Michael George (AKA Logiqx).\n",
    "\n",
    "This file is part of [GPS Wizard](https://github.com/Logiqx/gps-wizard) and is distributed under the terms of the GNU General Public License.\n",
    "\n",
    "GPS Wizard is free software: you can redistribute it and/or modify it under the terms of the GNU General Public License as published by the Free Software Foundation, either version 3 of the License, or (at your option) any later version.\n",
    "\n",
    "GPS Wizard is distributed in the hope that it will be useful, but WITHOUT ANY WARRANTY; without even the implied warranty of MERCHANTABILITY or FITNESS FOR A PARTICULAR PURPOSE. See the GNU General Public License for more details.\n",
    "\n",
    "You should have received a copy of the GNU General Public License along with GPS Wizard. If not, see <https://www.gnu.org/licenses/>."
   ]
  },
  {
   "cell_type": "code",
   "execution_count": 1,
   "id": "f57980ba-f856-4138-8c28-b6349e9f3f88",
   "metadata": {},
   "outputs": [],
   "source": [
    "upwindBuoy = (50.584243, -2.452818)\n",
    "downwindBuoy = (50.580921, -2.458011)"
   ]
  },
  {
   "cell_type": "code",
   "execution_count": 2,
   "id": "1745d665-7dba-4efb-a6af-4edf056d9e89",
   "metadata": {},
   "outputs": [
    {
     "name": "stdout",
     "output_type": "stream",
     "text": [
      "521.378\n"
     ]
    }
   ],
   "source": [
    "# https://pypi.org/project/vincenty/\n",
    "# https://github.com/maurycyp/vincenty\n",
    "\n",
    "from vincenty import vincenty\n",
    "\n",
    "def calculateDistance(p1, p2):\n",
    "    '''Calculate distance between two points in meters using Vincenty'''\n",
    "\n",
    "    return 1000 * vincenty(p1, p2)\n",
    "\n",
    "distance = calculateDistance(upwindBuoy, downwindBuoy)\n",
    "print(distance)"
   ]
  },
  {
   "cell_type": "code",
   "execution_count": 3,
   "id": "d42f55f3-15c0-4dee-bade-ecf6352371db",
   "metadata": {},
   "outputs": [
    {
     "name": "stdout",
     "output_type": "stream",
     "text": [
      "44.78685527965558\n"
     ]
    }
   ],
   "source": [
    "# https://pypi.org/project/nautical-calculations/\n",
    "# https://github.com/AmeyHengle/nautical_calculations\n",
    "\n",
    "from nautical_calculations import get_bearing\n",
    "\n",
    "def calculateBearing(p1, p2):\n",
    "    '''Calculate bearing between two points'''\n",
    "\n",
    "    lat1, lon1 = (downwindBuoy)\n",
    "    lat2, lon2 = (upwindBuoy)\n",
    "\n",
    "    return get_bearing(lat1, lon1, lat2, lon2)\n",
    "\n",
    "bearing = calculateBearing(upwindBuoy, downwindBuoy)\n",
    "print(bearing)"
   ]
  },
  {
   "cell_type": "code",
   "execution_count": null,
   "id": "a3a43141-3fde-472c-8190-b8a03d351837",
   "metadata": {},
   "outputs": [],
   "source": []
  }
 ],
 "metadata": {
  "kernelspec": {
   "display_name": "Python 3 (ipykernel)",
   "language": "python",
   "name": "python3"
  },
  "language_info": {
   "codemirror_mode": {
    "name": "ipython",
    "version": 3
   },
   "file_extension": ".py",
   "mimetype": "text/x-python",
   "name": "python",
   "nbconvert_exporter": "python",
   "pygments_lexer": "ipython3",
   "version": "3.11.4"
  }
 },
 "nbformat": 4,
 "nbformat_minor": 5
}
