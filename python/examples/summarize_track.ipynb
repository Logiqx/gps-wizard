{
 "cells": [
  {
   "cell_type": "markdown",
   "id": "dc907b89",
   "metadata": {},
   "source": [
    "# Analyze Track\n",
    "\n",
    "Load a single track into memory to perform basic analysis.\n",
    "\n",
    "Copyright 2022 Michael George (AKA Logiqx).\n",
    "\n",
    "This file is part of [GPS Wizard](https://github.com/Logiqx/gps-wizard) and is distributed under the terms of the GNU General Public License.\n",
    "\n",
    "GPS Wizard is free software: you can redistribute it and/or modify it under the terms of the GNU General Public License as published by the Free Software Foundation, either version 3 of the License, or (at your option) any later version.\n",
    "\n",
    "GPS Wizard is distributed in the hope that it will be useful, but WITHOUT ANY WARRANTY; without even the implied warranty of MERCHANTABILITY or FITNESS FOR A PARTICULAR PURPOSE. See the GNU General Public License for more details.\n",
    "\n",
    "You should have received a copy of the GNU General Public License along with GPS Wizard. If not, see <https://www.gnu.org/licenses/>."
   ]
  },
  {
   "cell_type": "markdown",
   "id": "1caecc64",
   "metadata": {},
   "source": [
    "## Notes\n",
    "\n",
    "Loads a single GT-31 track into memory and performs some basic analysis\n",
    "\n",
    "Useful link on [Stack Overflow](https://stackoverflow.com/questions/27083051/matplotlib-xticks-not-lining-up-with-histogram)"
   ]
  },
  {
   "cell_type": "code",
   "execution_count": 41,
   "id": "4dfe4b28",
   "metadata": {},
   "outputs": [],
   "source": [
    "import os\n",
    "import sys\n",
    "import math\n",
    "\n",
    "from datetime import datetime\n",
    "\n",
    "import numpy as np\n",
    "\n",
    "corePath = os.path.join('..', 'core')\n",
    "if corePath not in sys.path:\n",
    "    sys.path.extend([corePath])\n",
    "\n",
    "from file_reader import getFileReader"
   ]
  },
  {
   "cell_type": "markdown",
   "id": "043c2a97",
   "metadata": {},
   "source": [
    "## Main Functions"
   ]
  },
  {
   "cell_type": "code",
   "execution_count": 42,
   "id": "8708472b",
   "metadata": {},
   "outputs": [],
   "source": [
    "def loadTrack(filename):\n",
    "    '''Analyze a GPS track'''\n",
    "\n",
    "    fileReader = getFileReader(filename)\n",
    "    if os.path.splitext(filename)[1].lower() == '.ubx':\n",
    "        fileReader.load(ignoreChecksums=True)\n",
    "    else:\n",
    "        fileReader.load()\n",
    "\n",
    "    track = fileReader.tracks[0]\n",
    "    \n",
    "    return track"
   ]
  },
  {
   "cell_type": "code",
   "execution_count": 43,
   "id": "0bd90629",
   "metadata": {},
   "outputs": [],
   "source": [
    "def summariseField(track, fieldName):\n",
    "    '''Summarise field'''\n",
    "    \n",
    "    minVal = track.data[fieldName].min()\n",
    "    medVal = np.median(track.data[fieldName])\n",
    "    maxVal = track.data[fieldName].max()\n",
    "\n",
    "    print('{}: min = {:0.1f}, med = {:0.1f}, max = {:0.1f}'.format(fieldName, minVal, medVal, maxVal))\n",
    "\n",
    "\n",
    "def summariseDateTimeField(track, fieldName):\n",
    "    '''Summarise field'''\n",
    "    \n",
    "    minVal = datetime.fromtimestamp(track.data[fieldName].min())\n",
    "    medVal = datetime.fromtimestamp(np.median(track.data[fieldName]))\n",
    "    maxVal = datetime.fromtimestamp(track.data[fieldName].max())\n",
    "\n",
    "    print('{}: min = {}, med = {}, max = {}'.format(fieldName, minVal, medVal, maxVal))\n",
    "\n",
    "\n",
    "def summarizeTrack(filename, track):\n",
    "    '''Summarise track'''\n",
    "\n",
    "    print(filename)\n",
    "    \n",
    "    summariseDateTimeField(track, 'ts')\n",
    "    summariseField(track, 'sat')\n",
    "    summariseField(track, 'hdop')\n",
    "    summariseField(track, 'cog')\n",
    "    \n",
    "    print()"
   ]
  },
  {
   "cell_type": "code",
   "execution_count": 44,
   "id": "37e301aa",
   "metadata": {},
   "outputs": [
    {
     "name": "stdout",
     "output_type": "stream",
     "text": [
      "/home/jovyan/work/gps-wizard/sessions/20220926/Speedsurfing20220926170148.fit\n",
      "ts: min = 2022-09-26 16:02:12, med = 2022-09-26 16:46:50, max = 2022-09-26 17:36:19\n",
      "sat: min = 0.0, med = 12.0, max = 13.0\n",
      "hdop: min = 0.7, med = 0.8, max = 7.4\n",
      "cog: min = 0.0, med = 164.0, max = 359.0\n",
      "\n",
      "All done!\n"
     ]
    }
   ],
   "source": [
    "if __name__ == '__main__':\n",
    "    projdir = os.path.realpath(os.path.join(sys.path[0], \"..\", \"..\"))\n",
    "\n",
    "    #filename = os.path.join(projdir, 'sessions', '20220410', 'GW52_1Hz_K888_155800017_20220410_230017.sbp')\n",
    "    #track = loadTrack(filename)\n",
    "    #summarizeTrack(filename, track)\n",
    "\n",
    "    #filename = os.path.join(projdir, 'sessions', '20220410', 'Motion_Mini_10Hz_0470_2022-04-10-1345.oao')\n",
    "    #track = loadTrack(filename)\n",
    "    #summarizeTrack(filename, track)\n",
    "\n",
    "    #filename = os.path.join(projdir, 'sessions', '20220714', '0470_2022-07-14-1506.gpx')\n",
    "    #track = loadTrack(filename)\n",
    "    #summarizeTrack(filename, track)\n",
    "\n",
    "    #filename = os.path.join(projdir, 'sessions', '20220714', '0470_2022-07-14-1506.oao')\n",
    "    #track = loadTrack(filename)\n",
    "    #summarizeTrack(filename, track)\n",
    "\n",
    "    #filename = os.path.join(projdir, 'sessions', 'manfred', '2307_2021-09-30-1002.oao')\n",
    "    #track = loadTrack(filename)\n",
    "    #summarizeTrack(filename, track)\n",
    "\n",
    "    #filename = os.path.join(projdir, 'sessions', 'manfred', '093154.UBx')\n",
    "    #track = loadTrack(filename)\n",
    "    #summarizeTrack(filename, track)\n",
    "\n",
    "    filename = os.path.join(projdir, 'sessions', '20220926', 'Speedsurfing20220926170148.fit')\n",
    "    track = loadTrack(filename)\n",
    "    summarizeTrack(filename, track)\n",
    "\n",
    "    print('All done!')"
   ]
  },
  {
   "cell_type": "code",
   "execution_count": null,
   "id": "5f4d5385",
   "metadata": {},
   "outputs": [],
   "source": []
  }
 ],
 "metadata": {
  "kernelspec": {
   "display_name": "Python 3 (ipykernel)",
   "language": "python",
   "name": "python3"
  },
  "language_info": {
   "codemirror_mode": {
    "name": "ipython",
    "version": 3
   },
   "file_extension": ".py",
   "mimetype": "text/x-python",
   "name": "python",
   "nbconvert_exporter": "python",
   "pygments_lexer": "ipython3",
   "version": "3.9.7"
  }
 },
 "nbformat": 4,
 "nbformat_minor": 5
}
