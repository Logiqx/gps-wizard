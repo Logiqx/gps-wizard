{
 "cells": [
  {
   "cell_type": "markdown",
   "metadata": {},
   "source": [
    "# Library Test Harness\n",
    "\n",
    "Quick test of gpxpy and fitparse, using [article](https://towardsdatascience.com/parsing-fitness-tracker-data-with-python-a59e7dc17418) for pointers.\n",
    "\n",
    "Created by Michael George (AKA Logiqx)\n",
    "\n",
    "Website: https://logiqx.github.io/gps-wizard/"
   ]
  },
  {
   "cell_type": "code",
   "execution_count": 1,
   "metadata": {},
   "outputs": [],
   "source": [
    "import os\n",
    "\n",
    "import fitdecode\n",
    "import gpxpy\n",
    "\n",
    "from common_core import Printable, projdir"
   ]
  },
  {
   "cell_type": "markdown",
   "metadata": {},
   "source": [
    "## FIT\n",
    "\n",
    "Uses [fitdecode](https://pypi.org/project/fitdecode/) as the parser."
   ]
  },
  {
   "cell_type": "code",
   "execution_count": 2,
   "metadata": {},
   "outputs": [],
   "source": [
    "def testFit():\n",
    "    '''FIT test'''\n",
    "    \n",
    "    filename = os.path.join(projdir, 'sessions', '20211020', 'Speedsurfing20211020115946.fit')\n",
    "    \n",
    "    dataFrameCount = 0\n",
    "    \n",
    "    with fitdecode.FitReader(filename) as fit:\n",
    "        for frame in fit:\n",
    "            # The yielded frame object is of one of the following types:\n",
    "            # * fitdecode.FitHeader (FIT_FRAME_HEADER)\n",
    "            # * fitdecode.FitDefinitionMessage (FIT_FRAME_DEFINITION)\n",
    "            # * fitdecode.FitDataMessage (FIT_FRAME_DATA)\n",
    "            # * fitdecode.FitCRC (FIT_FRAME_CRC)\n",
    "\n",
    "            if frame.frame_type == fitdecode.FIT_FRAME_DATA:\n",
    "                # Here, frame is a FitDataMessage object.\n",
    "                # A FitDataMessage object contains decoded values that\n",
    "                # are directly usable in your script logic.\n",
    "                #print(frame.name)\n",
    "\n",
    "                dataFrameCount += 1\n",
    "            \n",
    "    print('FIT data frame count = {}'.format(dataFrameCount))"
   ]
  },
  {
   "cell_type": "markdown",
   "metadata": {},
   "source": [
    "## GPX\n",
    "\n",
    "Uses [gpxgy](https://pypi.org/project/gpxpy/) as the parser.\n",
    "\n",
    "Link to GPX 1.0 [XSD](https://www.topografix.com/gpx/1/0/gpx.xsd)"
   ]
  },
  {
   "cell_type": "code",
   "execution_count": 3,
   "metadata": {},
   "outputs": [],
   "source": [
    "def testGpx():\n",
    "    '''GPX test'''\n",
    "    \n",
    "    filename = os.path.join(projdir, 'sessions', '20211020', 'Speedsurfing20211020115946.gpx')\n",
    "    \n",
    "    with open(filename, 'r') as gpx_file:\n",
    "        gpx = gpxpy.parse(gpx_file)\n",
    "\n",
    "    trackPointsCount = 0\n",
    "    \n",
    "    for track in gpx.tracks:\n",
    "        for segment in track.segments:\n",
    "            for point in segment.points:\n",
    "                #print('Point at ({0},{1}) -> {2}'.format(point.latitude, point.longitude, point.elevation))\n",
    "                trackPointsCount += 1\n",
    "            \n",
    "    print('GPX track points count = {}'.format(trackPointsCount))"
   ]
  },
  {
   "cell_type": "markdown",
   "metadata": {},
   "source": [
    "## Run Tests"
   ]
  },
  {
   "cell_type": "code",
   "execution_count": 4,
   "metadata": {},
   "outputs": [
    {
     "name": "stderr",
     "output_type": "stream",
     "text": [
      "/opt/conda/lib/python3.9/site-packages/fitdecode/reader.py:909: UserWarning: 'field \"native_field_num\" (idx #0) not found in message \"field_description\"' (local_mesg_num: 0; chunk_offset: 198); adding dummy dev data...\n",
      "  warnings.warn(msg)\n",
      "/opt/conda/lib/python3.9/site-packages/fitdecode/reader.py:909: UserWarning: 'field \"native_field_num\" (idx #0) not found in message \"field_description\"' (local_mesg_num: 0; chunk_offset: 240); adding dummy dev data...\n",
      "  warnings.warn(msg)\n",
      "/opt/conda/lib/python3.9/site-packages/fitdecode/reader.py:909: UserWarning: 'field \"native_field_num\" (idx #0) not found in message \"field_description\"' (local_mesg_num: 0; chunk_offset: 291); adding dummy dev data...\n",
      "  warnings.warn(msg)\n",
      "/opt/conda/lib/python3.9/site-packages/fitdecode/reader.py:909: UserWarning: 'field \"native_field_num\" (idx #0) not found in message \"field_description\"' (local_mesg_num: 0; chunk_offset: 311); adding dummy dev data...\n",
      "  warnings.warn(msg)\n",
      "/opt/conda/lib/python3.9/site-packages/fitdecode/reader.py:909: UserWarning: 'field \"native_field_num\" (idx #0) not found in message \"field_description\"' (local_mesg_num: 0; chunk_offset: 331); adding dummy dev data...\n",
      "  warnings.warn(msg)\n",
      "/opt/conda/lib/python3.9/site-packages/fitdecode/reader.py:909: UserWarning: 'field \"native_field_num\" (idx #0) not found in message \"field_description\"' (local_mesg_num: 0; chunk_offset: 351); adding dummy dev data...\n",
      "  warnings.warn(msg)\n",
      "/opt/conda/lib/python3.9/site-packages/fitdecode/reader.py:909: UserWarning: 'field \"native_field_num\" (idx #0) not found in message \"field_description\"' (local_mesg_num: 0; chunk_offset: 371); adding dummy dev data...\n",
      "  warnings.warn(msg)\n",
      "/opt/conda/lib/python3.9/site-packages/fitdecode/reader.py:584: UserWarning: invalid field size 1 in definition message @ 475889 for type uint32 (expected a multiple of 4)\n",
      "  warnings.warn(msg)\n"
     ]
    },
    {
     "name": "stdout",
     "output_type": "stream",
     "text": [
      "FIT data frame count = 13123\n",
      "GPX track points count = 9520\n"
     ]
    }
   ],
   "source": [
    "if __name__ == '__main__':\n",
    "    testFit()\n",
    "    testGpx()"
   ]
  },
  {
   "cell_type": "code",
   "execution_count": null,
   "metadata": {},
   "outputs": [],
   "source": []
  }
 ],
 "metadata": {
  "kernelspec": {
   "display_name": "Python 3 (ipykernel)",
   "language": "python",
   "name": "python3"
  },
  "language_info": {
   "codemirror_mode": {
    "name": "ipython",
    "version": 3
   },
   "file_extension": ".py",
   "mimetype": "text/x-python",
   "name": "python",
   "nbconvert_exporter": "python",
   "pygments_lexer": "ipython3",
   "version": "3.9.7"
  }
 },
 "nbformat": 4,
 "nbformat_minor": 2
}
