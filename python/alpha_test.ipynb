{
 "cells": [
  {
   "cell_type": "markdown",
   "metadata": {},
   "source": [
    "# Alpha Test\n",
    "\n",
    "Test ideas relating to alpha racing\n",
    "\n",
    "Created by Michael George (AKA Logiqx)\n",
    "\n",
    "Website: https://logiqx.github.io/gps-wizard/"
   ]
  },
  {
   "cell_type": "code",
   "execution_count": 1,
   "metadata": {},
   "outputs": [],
   "source": [
    "import os\n",
    "\n",
    "from common_core import Printable, projdir, loadCsvIntoArray"
   ]
  },
  {
   "cell_type": "markdown",
   "metadata": {},
   "source": [
    "## Run Unit Tests"
   ]
  },
  {
   "cell_type": "code",
   "execution_count": 2,
   "metadata": {},
   "outputs": [
    {
     "name": "stdout",
     "output_type": "stream",
     "text": [
      "[(1018010516, 620964878, -6787940, 6.00000e+00, 1.283,    26, 14, 0.8,  28.)\n",
      " (1018010517, 620964997, -6787940, 7.50000e+00, 1.283,    27, 14, 0.8,  44.)\n",
      " (1018010518, 620965108, -6787901, 9.00000e+00, 1.181,    28, 14, 0.8,  99.)\n",
      " ...\n",
      " (1018022326, 620963071, -6783868, 4.05970e+04, 1.386, 11836, 12, 0.7,  92.)\n",
      " (1018022327, 620963054, -6783658, 4.05985e+04, 1.181, 11837, 12, 0.7, 102.)\n",
      " (1018022328, 620962986, -6782826, 4.06000e+04, 1.078, 11838,  0, 0.7, 105.)]\n"
     ]
    }
   ],
   "source": [
    "if __name__ == '__main__':\n",
    "    x = loadCsvIntoArray(os.path.join(projdir, 'sessions', '20220404', '20220404-apex-pro.csv'))\n",
    "    \n",
    "    print(x)"
   ]
  },
  {
   "cell_type": "code",
   "execution_count": null,
   "metadata": {},
   "outputs": [],
   "source": []
  }
 ],
 "metadata": {
  "kernelspec": {
   "display_name": "Python 3 (ipykernel)",
   "language": "python",
   "name": "python3"
  },
  "language_info": {
   "codemirror_mode": {
    "name": "ipython",
    "version": 3
   },
   "file_extension": ".py",
   "mimetype": "text/x-python",
   "name": "python",
   "nbconvert_exporter": "python",
   "pygments_lexer": "ipython3",
   "version": "3.9.7"
  }
 },
 "nbformat": 4,
 "nbformat_minor": 2
}
