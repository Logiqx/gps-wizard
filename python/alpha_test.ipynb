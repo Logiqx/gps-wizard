{
 "cells": [
  {
   "cell_type": "markdown",
   "metadata": {},
   "source": [
    "# Alpha Test Harness\n",
    "\n",
    "Test ideas relating to alpha racing\n",
    "\n",
    "Created by Michael George (AKA Logiqx)\n",
    "\n",
    "Website: https://logiqx.github.io/gps-wizard/"
   ]
  },
  {
   "cell_type": "code",
   "execution_count": 1,
   "metadata": {},
   "outputs": [],
   "source": [
    "import os\n",
    "\n",
    "import numpy as np\n",
    "\n",
    "from math import pi, cos, sqrt\n",
    "\n",
    "from common_core import Printable, projdir, loadCsv"
   ]
  },
  {
   "cell_type": "markdown",
   "metadata": {},
   "source": [
    "## Constants"
   ]
  },
  {
   "cell_type": "code",
   "execution_count": 2,
   "metadata": {},
   "outputs": [],
   "source": [
    "EARTH_RADIUS = 6371009\n",
    "\n",
    "METRES_PER_NM = 1852\n",
    "\n",
    "ALPHA_MAX_DISTANCE = 500\n",
    "ALPHA_MIN_DISTANCE = 200\n",
    "ALPHA_PROXIMITY = 50"
   ]
  },
  {
   "cell_type": "markdown",
   "metadata": {},
   "source": [
    "## Proximity Testing\n",
    "\n",
    "Function to calculate the proximity between two nearby points.\n",
    "\n",
    "See the 'haversine_vs_pythagoras' notebook for a full comparison of the Haversine Formula vs Pythagorean Theorem.\n",
    "\n",
    "The code here is very similar to the aforementioned notebook but makes use of pre-calculated values where possible."
   ]
  },
  {
   "cell_type": "code",
   "execution_count": 3,
   "metadata": {},
   "outputs": [],
   "source": [
    "def estimateProximity(longitudes, y_offsets, x_scales, i1, i2):\n",
    "    '''Estimate the Euclidean distance between two nearby points on a sphere using Pythagorean Theorem'''\n",
    "\n",
    "    # Calculate distance north / south\n",
    "    yDelta = y_offsets[i2] - y_offsets[i1]\n",
    "\n",
    "    # For the sake of completeness we need to cope with the points either side of the 180th meridian\n",
    "    longDelta = abs(longitudes[i2] - longitudes[i1])\n",
    "    if longDelta > pi:\n",
    "        longDelta -= 2 * pi\n",
    "\n",
    "    # Calculate distance east / west\n",
    "    xDelta = longDelta * x_scales[i2]\n",
    "\n",
    "    # Apply Pythagorean theorem to determine the distance\n",
    "    distance = sqrt(xDelta ** 2 + yDelta ** 2)\n",
    "\n",
    "    return distance"
   ]
  },
  {
   "cell_type": "markdown",
   "metadata": {},
   "source": [
    "## Process Track"
   ]
  },
  {
   "cell_type": "code",
   "execution_count": 4,
   "metadata": {},
   "outputs": [],
   "source": [
    "def processTrack(filename):\n",
    "    '''Process the track'''\n",
    "\n",
    "    # Load the track and calculate the extra fields\n",
    "    track = loadCsv(filename)\n",
    "    extras = calculateExtras(track)\n",
    "    \n",
    "    # Process the alphas\n",
    "    processAlphas(track, extras)"
   ]
  },
  {
   "cell_type": "code",
   "execution_count": 5,
   "metadata": {},
   "outputs": [],
   "source": [
    "MIN_SPEED_FILTER = 2.5\n",
    "\n",
    "def calculateExtras(track):\n",
    "    '''Calculate all of the extra fields for the track. These fields can be calculated on a per-trackpoint basis.'''\n",
    "\n",
    "    extras = {}\n",
    "\n",
    "    # Convert timestamps into datetimes\n",
    "    extras['datetime'] = np.datetime64('1989-12-31T00:00') + track['timestamp'].astype('timedelta64[s]')\n",
    "    \n",
    "    # Convert latitude and longitude values from semicircles to radians\n",
    "    extras['latitude'] = np.radians(track['position_lat'] * (180.0 / 2 ** 31))\n",
    "    extras['longitude'] = np.radians(track['position_long'] * (180.0 / 2 ** 31))\n",
    "\n",
    "    # Calculate distance north / south of the equator (metres)\n",
    "    extras['y_offset'] = extras['latitude'] * EARTH_RADIUS\n",
    "\n",
    "    # Calculate the scaling factor for distances east / west of the primary meridian\n",
    "    extras['x_scale'] = EARTH_RADIUS * np.cos(extras['latitude'])\n",
    "    \n",
    "    # Calculate cumulative distance (m) using speed (m/s)\n",
    "    extras['total_distance'] = track['speed'].cumsum()\n",
    "    \n",
    "    # Apply speed filter (standard to GP3S)\n",
    "    extras['filter'] = np.where(track['speed'] < MIN_SPEED_FILTER, 1, 0)\n",
    "    \n",
    "    return extras"
   ]
  },
  {
   "cell_type": "code",
   "execution_count": 6,
   "metadata": {},
   "outputs": [],
   "source": [
    "def processAlphas(track, extras):\n",
    "    '''Process the alphas'''\n",
    "\n",
    "    # Avoid using the dictionaries being accessed repeatedly\n",
    "    indices = track['idx']\n",
    "    speeds = track['speed']\n",
    "    cogs = track['cog']\n",
    "    datetimes = extras['datetime']\n",
    "    latitudes = extras['latitude']\n",
    "    longitudes = extras['longitude']\n",
    "    y_offsets = extras['y_offset']\n",
    "    x_scales = extras['x_scale']\n",
    "    filters = extras['filter']\n",
    "    distances = extras['total_distance']\n",
    "      \n",
    "    # Look for all alphas\n",
    "    best = 0\n",
    "    proximityChecks = 0\n",
    "    for i2 in range(len(track)):\n",
    "        if filters[i2] == 0:\n",
    "            alpha = 0\n",
    "            skip = distances[i2] - ALPHA_MIN_DISTANCE\n",
    "            cutoff = distances[i2] - ALPHA_MAX_DISTANCE\n",
    "            i1 = i2 - 1\n",
    "\n",
    "            # Skip stuff that is clearly not an alpha\n",
    "            while i1 >= 0 and filters[i1] == 0 and distances[i1] > skip:\n",
    "                i1 -= 1\n",
    "\n",
    "            # Look for alpha\n",
    "            while i1 >= 0 and filters[i1] == 0 and distances[i1] > cutoff:\n",
    "\n",
    "                # Simple approach to compare two COG values\n",
    "                cog_diff = 180 - abs(abs(cogs[i2] - cogs[i1]) - 180)              \n",
    "                if cog_diff > 120:\n",
    "                    proximity = estimateProximity(longitudes, y_offsets, x_scales, i1, i2)\n",
    "                    proximityChecks += 1\n",
    "\n",
    "                    if proximity <= 50:\n",
    "                        speed = abs(distances[i2] - distances[i1]) / (i2 - i1) * 3600 / METRES_PER_NM\n",
    "                        if speed > alpha:\n",
    "                            alpha = speed\n",
    "\n",
    "                i1 -= 1\n",
    "                           \n",
    "            if alpha > 14:\n",
    "                if alpha > best:\n",
    "                    best = alpha\n",
    "                    \n",
    "                #print('{} {} {:0.3f}'.format(indices[i2], datetimes[i2], alpha))\n",
    "\n",
    "    print()\n",
    "    print('BEST = {:0.3f} knots alpha'.format(best))\n",
    "    print('{} proximity checks'.format(proximityChecks))"
   ]
  },
  {
   "cell_type": "markdown",
   "metadata": {},
   "source": [
    "## Run Tests"
   ]
  },
  {
   "cell_type": "code",
   "execution_count": 7,
   "metadata": {},
   "outputs": [
    {
     "name": "stdout",
     "output_type": "stream",
     "text": [
      "\n",
      "BEST = 22.014 knots alpha\n",
      "38418 proximity checks\n"
     ]
    }
   ],
   "source": [
    "if __name__ == '__main__':\n",
    "    processTrack(os.path.join(projdir, 'sessions', '20220404', 'Speedsurfing20220404134130.csv'))"
   ]
  },
  {
   "cell_type": "code",
   "execution_count": null,
   "metadata": {},
   "outputs": [],
   "source": []
  }
 ],
 "metadata": {
  "kernelspec": {
   "display_name": "Python 3 (ipykernel)",
   "language": "python",
   "name": "python3"
  },
  "language_info": {
   "codemirror_mode": {
    "name": "ipython",
    "version": 3
   },
   "file_extension": ".py",
   "mimetype": "text/x-python",
   "name": "python",
   "nbconvert_exporter": "python",
   "pygments_lexer": "ipython3",
   "version": "3.9.7"
  }
 },
 "nbformat": 4,
 "nbformat_minor": 2
}
