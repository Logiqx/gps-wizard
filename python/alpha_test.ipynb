{
 "cells": [
  {
   "cell_type": "markdown",
   "metadata": {},
   "source": [
    "# Alpha Test Harness\n",
    "\n",
    "Test ideas relating to alpha racing\n",
    "\n",
    "Created by Michael George (AKA Logiqx)\n",
    "\n",
    "Website: https://logiqx.github.io/gps-wizard/"
   ]
  },
  {
   "cell_type": "code",
   "execution_count": 1,
   "metadata": {},
   "outputs": [],
   "source": [
    "import os\n",
    "\n",
    "import numpy as np\n",
    "\n",
    "from math import pi, cos, sqrt\n",
    "\n",
    "from common_core import Printable, projdir, loadCsv"
   ]
  },
  {
   "cell_type": "markdown",
   "metadata": {},
   "source": [
    "## Constants"
   ]
  },
  {
   "cell_type": "code",
   "execution_count": 2,
   "metadata": {},
   "outputs": [],
   "source": [
    "# Mean radius of Earth (m). IUGG and IERS both give a value of 6371008.7714 metres\n",
    "EARTH_RADIUS = 6371009\n",
    "\n",
    "# Exact number of metres in a nautical mile\n",
    "METRES_PER_NM = 1852\n",
    "\n",
    "# Minimum time betwen individual alphas (s) is only required when maintaining a list of alpha results\n",
    "MIN_ALPHA_INTERVAL = 10\n",
    "\n",
    "# Minimum alpha distance (m) is used to safely ignore a decent number of readings\n",
    "MIN_ALPHA_DISTANCE = 200\n",
    "\n",
    "# Maximim alpha distance (m) is one of the core parameters for alpha racing\n",
    "MAX_ALPHA_DISTANCE = 500\n",
    "\n",
    "# Minimum alpha proximity (m) is one of the core parameters for alpha racing\n",
    "MAX_ALPHA_PROXIMITY = 50\n",
    "\n",
    "# Minimum speed to be interested in a data point (m/s)\n",
    "MIN_SPEED_FILTER = 2.5\n",
    "\n",
    "# Minimum number of degrees to determine that a turn has occurred and thus an alpha may be in progress\n",
    "MIN_TURN_DEGREES = 120"
   ]
  },
  {
   "cell_type": "markdown",
   "metadata": {},
   "source": [
    "## Speedsurfing Session\n",
    "\n",
    "Generic class for holding an entire speedsurfing session"
   ]
  },
  {
   "cell_type": "code",
   "execution_count": 3,
   "metadata": {},
   "outputs": [],
   "source": [
    "class SpeedsurfingSession(Printable):\n",
    "    \n",
    "    def __init__(self, filename=None):\n",
    "        '''Constructor just records the provided values'''\n",
    "        \n",
    "        self.track = None\n",
    "        self.extras = None\n",
    "\n",
    "        self.filename = filename\n",
    "        \n",
    "        if self.filename:\n",
    "            self.loadTrack()\n",
    "\n",
    "\n",
    "    def loadTrack(self, filename=None):\n",
    "        '''Process the track'''\n",
    "\n",
    "        if filename:\n",
    "            self.filename = filename\n",
    "\n",
    "        # Load the FIT data from the CSV\n",
    "        self.track = loadCsv(self.filename)\n",
    "        \n",
    "        # Identify numpy arrays for later access\n",
    "        self.indices = self.track['idx']\n",
    "        self.speeds = self.track['speed']\n",
    "        self.cogs = self.track['cog']\n",
    "        \n",
    "        # Pre-calculate some attributes so they can be cached / buffered\n",
    "        self.populateCache()\n",
    "\n",
    "\n",
    "    def populateCache(self):\n",
    "        '''Populate the cache for speed calculations, including alphas'''\n",
    "\n",
    "        # Convert timestamps into datetimes\n",
    "        self.datetimes = np.datetime64('1989-12-31T00:00') + self.track['timestamp'].astype('timedelta64[s]')\n",
    "\n",
    "        # Convert latitude and longitude values from semicircles to radians\n",
    "        self.latitudes = np.radians(self.track['position_lat'] * (180.0 / 2 ** 31))\n",
    "        self.longitudes = np.radians(self.track['position_long'] * (180.0 / 2 ** 31))\n",
    "\n",
    "        # Calculate distances north / south of the equator (metres)\n",
    "        self.y_offsets = self.latitudes * EARTH_RADIUS\n",
    "\n",
    "        # Calculate the scaling factors for distances east / west of the primary meridian\n",
    "        self.x_scales = EARTH_RADIUS * np.cos(self.latitudes)\n",
    "\n",
    "        # Calculate cumulative distances (m) using speed (m/s)\n",
    "        self.distances = self.track['speed'].cumsum()\n",
    "\n",
    "        # Apply speed filter (standard practice for GPSResults, GP3S, etc)\n",
    "        self.filters = np.where(self.track['speed'] < MIN_SPEED_FILTER, 1, 0)\n",
    "\n",
    "\n",
    "    def processAlphas(self):\n",
    "        '''Process the alphas'''\n",
    "\n",
    "        # Initialisation\n",
    "        alphaResults = []\n",
    "        alphaResult = None\n",
    "        alphaIdx = None\n",
    "\n",
    "        # Performance monitoring\n",
    "        proximityCheckCount = 0\n",
    "\n",
    "        # Work forward through the track, one speed reading at a time, thus simulating real-time processing (well, sort of)\n",
    "        for i2 in range(len(self.track)):\n",
    "\n",
    "            # Since we've passed the minimum alpha interval, store the previous alpha in the results array\n",
    "            if alphaResult and i2 >= alphaIdx + MIN_ALPHA_INTERVAL:\n",
    "                alphaResults.append(alphaResult)\n",
    "                alphaResult = None\n",
    "\n",
    "            # Skip alpha processing if latest speed is less than the filter value (2.5 m/s, ~5 knots)\n",
    "            if self.filters[i2] == 0:\n",
    "\n",
    "                # Processing will start with the previous reading\n",
    "                i1 = i2 - 1\n",
    "\n",
    "                # Do not go beyond the max alpha distance (e.g. 500m)\n",
    "                cutoff = self.distances[i2] - MAX_ALPHA_DISTANCE\n",
    "\n",
    "                # Skip the most recent 200m, plus any readings that were flagged by the speed filter (e.g. <2.5 m/s)\n",
    "                skip = self.distances[i2] - MIN_ALPHA_DISTANCE\n",
    "                while i1 >= 0 and self.filters[i1] == 0 and self.distances[i1] > skip:\n",
    "                    i1 -= 1\n",
    "\n",
    "                # Look for start points, aborting readings are filtered (e.g. <2.5 m/s) or the max distance (500 m) is reached\n",
    "                while i1 >= 0 and self.filters[i1] == 0 and self.distances[i1] >= cutoff:\n",
    "\n",
    "                    # Simple approach to find the difference between two COG values\n",
    "                    cog_diff = 180 - abs(abs(self.cogs[i2] - self.cogs[i1]) - 180)\n",
    "\n",
    "                    # An alpha is a \"there and back\" (includes a gybe or tack) so COG must be significantly different\n",
    "                    if cog_diff >= MIN_TURN_DEGREES:\n",
    "\n",
    "                        # Pythagoras estimate of proximity between two points is plenty good enough for 50m (< 1 mm accuracy)\n",
    "                        proximity = estimateProximity(self.longitudes, self.y_offsets, self.x_scales, i1, i2)\n",
    "                        proximityCheckCount += 1\n",
    "\n",
    "                        # Since this is a potential alpha it needs to be recorded\n",
    "                        if proximity <= MAX_ALPHA_PROXIMITY:\n",
    "\n",
    "                            # Distance calculation is quick and easy\n",
    "                            distance = self.distances[i2] - self.distances[i1]\n",
    "\n",
    "                            # Should probably calculate seconds from the timestamps but this will suffice...\n",
    "                            seconds = self.indices[i2] - self.indices[i1]\n",
    "\n",
    "                            # Speed in knots, although could store in other units such as m/s, cm/s or mm/s\n",
    "                            speed = distance / seconds * 3600 / METRES_PER_NM\n",
    "\n",
    "                            # Create an alpha object which may be stored later\n",
    "                            if alphaResult is None or speed > alphaResult.speed:\n",
    "                                alphaResult = SpeedsurfingResult(\n",
    "                                                    self.indices[i2], self.datetimes[i1], self.datetimes[i2],\n",
    "                                                    distance, speed)\n",
    "\n",
    "                            # Remember where this latest alpha was found\n",
    "                            alphaIdx = i2\n",
    "\n",
    "                    i1 -= 1\n",
    "\n",
    "        # Store final alpha\n",
    "        if alphaResult:\n",
    "            alphaResults.append(alphaResult)\n",
    "\n",
    "        # Sort and print alpha results\n",
    "        if len(alphaResults) > 0:\n",
    "\n",
    "            alphaResults.sort(key=lambda alphaResult: alphaResult.speed, reverse=True)\n",
    "\n",
    "            for i in range(len(alphaResults)):\n",
    "                print('{}\\t{:0.1f}\\t{:0.3f}'.format(alphaResults[i].endTime, alphaResults[i].distance, alphaResults[i].speed))\n",
    "\n",
    "            print()\n",
    "\n",
    "        print('{} proximity checks'.format(proximityCheckCount))"
   ]
  },
  {
   "cell_type": "markdown",
   "metadata": {},
   "source": [
    "## Speedsurfing Result\n",
    "\n",
    "Generic class for holding a single speedsurfing run / result"
   ]
  },
  {
   "cell_type": "code",
   "execution_count": 4,
   "metadata": {},
   "outputs": [],
   "source": [
    "class SpeedsurfingResult(Printable):\n",
    "    \n",
    "    def __init__(self, idx, startTime, endTime, distance, speed):\n",
    "        '''Constructor just records the field values'''\n",
    "        \n",
    "        self.idx = idx\n",
    "        self.startTime = startTime\n",
    "        self.endTime = endTime\n",
    "        self.distance = distance\n",
    "        self.speed = speed"
   ]
  },
  {
   "cell_type": "markdown",
   "metadata": {},
   "source": [
    "## Proximity Testing\n",
    "\n",
    "Function to calculate the proximity between two nearby points. Utilises cache so no need for lots of costly trig functions!\n",
    "\n",
    "See the 'haversine_vs_pythagoras' notebook for a full comparison of the Haversine Formula vs Pythagorean Theorem.\n",
    "\n",
    "The code here is very similar to the aforementioned notebook but makes use of pre-calculated values, where appropriate."
   ]
  },
  {
   "cell_type": "code",
   "execution_count": 5,
   "metadata": {},
   "outputs": [],
   "source": [
    "def estimateProximity(longitudes, y_offsets, x_scales, i1, i2):\n",
    "    '''Estimate the Euclidean distance between two nearby points on a sphere using Pythagorean Theorem'''\n",
    "\n",
    "    # Calculate distance north / south\n",
    "    yDelta = y_offsets[i2] - y_offsets[i1]\n",
    "\n",
    "    # For the sake of completeness we need to cope with the points either side of the 180th meridian\n",
    "    longDelta = abs(longitudes[i2] - longitudes[i1])\n",
    "    if longDelta > pi:\n",
    "        longDelta -= 2 * pi\n",
    "\n",
    "    # Calculate distance east / west\n",
    "    xDelta = longDelta * x_scales[i2]\n",
    "\n",
    "    # Apply Pythagorean theorem to determine the distance, accurate to within the mm due to proximity check of 50m\n",
    "    distance = sqrt(xDelta ** 2 + yDelta ** 2)\n",
    "\n",
    "    return distance"
   ]
  },
  {
   "cell_type": "markdown",
   "metadata": {},
   "source": [
    "## 20 Oct 2021\n",
    "\n",
    "COROS APEX Pro and App both showed 23.62 knots, actually 21.632 knots when calculated correctly"
   ]
  },
  {
   "cell_type": "code",
   "execution_count": 6,
   "metadata": {},
   "outputs": [
    {
     "name": "stdout",
     "output_type": "stream",
     "text": [
      "2021-10-20T11:50:09\t478.5\t21.632\n",
      "2021-10-20T12:41:40\t494.0\t21.338\n",
      "2021-10-20T13:53:37\t497.5\t21.022\n",
      "2021-10-20T12:22:27\t497.1\t21.004\n",
      "2021-10-20T11:12:40\t489.3\t20.675\n",
      "2021-10-20T11:14:04\t499.0\t20.640\n",
      "2021-10-20T12:38:27\t487.4\t19.737\n",
      "2021-10-20T12:26:44\t493.2\t19.566\n",
      "2021-10-20T13:46:34\t466.1\t19.278\n",
      "2021-10-20T14:21:29\t492.3\t19.140\n",
      "2021-10-20T11:29:23\t499.7\t19.046\n",
      "2021-10-20T12:18:33\t489.8\t19.041\n",
      "2021-10-20T13:05:13\t489.7\t19.037\n",
      "2021-10-20T12:50:51\t493.7\t18.457\n",
      "2021-10-20T11:26:05\t463.0\t18.368\n",
      "2021-10-20T13:30:28\t414.4\t18.309\n",
      "2021-10-20T14:16:47\t498.7\t18.290\n",
      "2021-10-20T11:32:41\t496.9\t18.224\n",
      "2021-10-20T12:33:46\t458.8\t18.202\n",
      "2021-10-20T14:19:18\t490.8\t18.002\n",
      "2021-10-20T11:53:06\t204.1\t16.534\n",
      "\n",
      "25709 proximity checks\n"
     ]
    }
   ],
   "source": [
    "if __name__ == '__main__':\n",
    "    \n",
    "    filename = os.path.join(projdir, 'sessions', '20211020', 'Speedsurfing20211020115946.csv')\n",
    "    \n",
    "    session = SpeedsurfingSession(filename=filename)\n",
    "\n",
    "    session.processAlphas()"
   ]
  },
  {
   "cell_type": "markdown",
   "metadata": {},
   "source": [
    "## 12 Nov 2021\n",
    "\n",
    "COROS APEX Pro and App both showed 27.64 knots, actually 21.148 knots when calculated correctly "
   ]
  },
  {
   "cell_type": "code",
   "execution_count": 7,
   "metadata": {},
   "outputs": [
    {
     "name": "stdout",
     "output_type": "stream",
     "text": [
      "2021-11-12T12:48:23\t489.6\t21.148\n",
      "2021-11-12T12:37:54\t491.9\t20.344\n",
      "2021-11-12T12:40:07\t499.9\t20.242\n",
      "2021-11-12T13:08:13\t497.8\t20.158\n",
      "2021-11-12T12:32:21\t491.9\t19.515\n",
      "2021-11-12T13:12:10\t491.1\t19.480\n",
      "2021-11-12T13:20:18\t491.9\t19.124\n",
      "2021-11-12T12:44:10\t492.8\t18.074\n",
      "2021-11-12T13:24:28\t495.0\t17.493\n",
      "2021-11-12T12:35:54\t413.5\t16.075\n",
      "\n",
      "16666 proximity checks\n"
     ]
    }
   ],
   "source": [
    "if __name__ == '__main__':\n",
    "\n",
    "    filename = os.path.join(projdir, 'sessions', '20211112', 'Speedsurfing20211112122819.csv')\n",
    "    \n",
    "    session = SpeedsurfingSession(filename=filename)\n",
    "    \n",
    "    session.processAlphas()"
   ]
  },
  {
   "cell_type": "markdown",
   "metadata": {},
   "source": [
    "## 4 Apr 2022\n",
    "\n",
    "COROS APEX Pro and App both showed 22.51 knots, actually 22.014 knots when calculated correctly"
   ]
  },
  {
   "cell_type": "code",
   "execution_count": 8,
   "metadata": {},
   "outputs": [
    {
     "name": "stdout",
     "output_type": "stream",
     "text": [
      "2022-04-04T12:56:08\t498.3\t22.014\n",
      "2022-04-04T13:58:18\t493.7\t20.419\n",
      "2022-04-04T13:01:27\t493.2\t20.397\n",
      "2022-04-04T13:00:52\t477.3\t20.171\n",
      "2022-04-04T12:58:57\t498.9\t19.790\n",
      "2022-04-04T13:04:02\t488.6\t19.383\n",
      "2022-04-04T14:29:05\t485.5\t19.260\n",
      "2022-04-04T13:19:30\t491.6\t19.112\n",
      "2022-04-04T14:24:17\t478.2\t18.972\n",
      "2022-04-04T14:23:35\t485.7\t18.883\n",
      "2022-04-04T14:35:12\t294.5\t18.465\n",
      "2022-04-04T12:53:49\t369.7\t18.428\n",
      "2022-04-04T13:06:48\t351.8\t17.997\n",
      "2022-04-04T12:51:58\t268.3\t17.986\n",
      "2022-04-04T13:37:16\t340.9\t17.912\n",
      "2022-04-04T13:09:11\t229.5\t17.841\n",
      "2022-04-04T12:58:08\t367.1\t17.837\n",
      "2022-04-04T13:54:54\t216.6\t17.544\n",
      "2022-04-04T13:15:37\t288.6\t17.530\n",
      "2022-04-04T14:28:26\t493.0\t17.424\n",
      "2022-04-04T13:22:24\t465.8\t17.412\n",
      "2022-04-04T13:36:35\t402.6\t17.390\n",
      "2022-04-04T13:33:04\t330.7\t17.373\n",
      "2022-04-04T12:55:30\t448.6\t17.099\n",
      "2022-04-04T12:54:31\t250.6\t16.797\n",
      "2022-04-04T12:51:26\t323.6\t16.552\n",
      "2022-04-04T14:34:32\t212.5\t16.520\n",
      "2022-04-04T12:48:03\t315.3\t15.322\n",
      "2022-04-04T13:06:19\t493.2\t15.219\n",
      "2022-04-04T12:46:59\t203.1\t15.185\n",
      "2022-04-04T12:57:17\t240.4\t15.074\n",
      "2022-04-04T12:53:07\t227.7\t14.280\n",
      "\n",
      "38651 proximity checks\n"
     ]
    }
   ],
   "source": [
    "if __name__ == '__main__':\n",
    "\n",
    "    filename = os.path.join(projdir, 'sessions', '20220404', 'Speedsurfing20220404134130.csv')\n",
    "    \n",
    "    session = SpeedsurfingSession(filename=filename)\n",
    "    \n",
    "    session.processAlphas()"
   ]
  },
  {
   "cell_type": "code",
   "execution_count": null,
   "metadata": {},
   "outputs": [],
   "source": []
  }
 ],
 "metadata": {
  "kernelspec": {
   "display_name": "Python 3 (ipykernel)",
   "language": "python",
   "name": "python3"
  },
  "language_info": {
   "codemirror_mode": {
    "name": "ipython",
    "version": 3
   },
   "file_extension": ".py",
   "mimetype": "text/x-python",
   "name": "python",
   "nbconvert_exporter": "python",
   "pygments_lexer": "ipython3",
   "version": "3.9.7"
  }
 },
 "nbformat": 4,
 "nbformat_minor": 2
}
