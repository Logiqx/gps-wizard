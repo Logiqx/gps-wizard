{
 "cells": [
  {
   "cell_type": "markdown",
   "metadata": {},
   "source": [
    "# Alpha Test\n",
    "\n",
    "Test ideas relating to alpha racing\n",
    "\n",
    "Created by Michael George (AKA Logiqx)\n",
    "\n",
    "Website: https://logiqx.github.io/gps-wizard/"
   ]
  },
  {
   "cell_type": "code",
   "execution_count": 1,
   "metadata": {},
   "outputs": [],
   "source": [
    "import os\n",
    "\n",
    "import numpy as np\n",
    "\n",
    "from math import pi, cos, sqrt\n",
    "\n",
    "from common_core import Printable, projdir, loadCsv"
   ]
  },
  {
   "cell_type": "markdown",
   "metadata": {},
   "source": [
    "## Proximity Testing\n",
    "\n",
    "Functions to calculate the proximity between two points.\n",
    "\n",
    "See the 'haversine_vs_pythagoras' notebook for a full comparison of the Haversine Formula vs Pythagorean Theorem.\n",
    "\n",
    "The code here is very similar but makes use of pre-calculated cache values."
   ]
  },
  {
   "cell_type": "code",
   "execution_count": 2,
   "metadata": {},
   "outputs": [],
   "source": [
    "EARTH_RADIUS = 6371009\n",
    "\n",
    "\n",
    "def estimateProximity(latitude1r, longitude1r, latitude2r, longitude2r, radius=EARTH_RADIUS):\n",
    "    '''Estimate the Euclidean distance between two points on a sphere using Pythagorean Theorem'''\n",
    "\n",
    "    # Calculate distance north / south. n.b. Can cache the values of y1 + y2\n",
    "    y1 = latitude1r * EARTH_RADIUS\n",
    "    y2 = latitude2r * EARTH_RADIUS\n",
    "    yDelta = y2 - y1\n",
    "\n",
    "    # For the sake of completeness we need to cope with the points either side of the 180th meridian\n",
    "    longDelta = abs(longitude2r - longitude1r)\n",
    "\n",
    "    # Note: This adjustment has not been factored into the \"cost\" comparison above because it is so unlikely to occur!\n",
    "    if longDelta > pi:\n",
    "        longDelta -= 2 * pi\n",
    "\n",
    "    # Calculate distance east / west. n.b. Can cache EARTH_RADIUS * cos(latitude2r)\n",
    "    xDelta = longDelta * EARTH_RADIUS * cos(latitude2r)\n",
    "\n",
    "    # Apply Pythagorean theorem to determine the distance\n",
    "    distance = sqrt(xDelta ** 2 + yDelta ** 2)\n",
    "\n",
    "    return distance"
   ]
  },
  {
   "cell_type": "markdown",
   "metadata": {},
   "source": [
    "## Process Track"
   ]
  },
  {
   "cell_type": "code",
   "execution_count": 3,
   "metadata": {},
   "outputs": [],
   "source": [
    "def calculateExtras(track):\n",
    "    '''Calculate all of the extra fields for the track'''\n",
    "\n",
    "    extras = {}\n",
    "\n",
    "    # Convert timestamps into datetimes\n",
    "    extras['datetime'] = np.datetime64('1989-12-31T00:00') + track['timestamp'].astype('timedelta64[s]')\n",
    "    \n",
    "    # Convert semicircles to radians\n",
    "    extras['latitude'] = np.radians(track['position_lat'] * (180.0 / 2 ** 31))\n",
    "    extras['longitude'] = np.radians(track['position_long'] * (180.0 / 2 ** 31))\n",
    "\n",
    "    # Calculate distance above/below equator\n",
    "    extras['yOffset'] = extras['latitude'] * EARTH_RADIUS\n",
    "    \n",
    "    # Calculate cumulative distance (m) using speed (m/s)\n",
    "    extras['cumulativeDistance'] = track['speed'].cumsum()\n",
    "    \n",
    "    return extras\n",
    "\n",
    "\n",
    "    \n",
    "def processTrack(filename):\n",
    "    '''Process the track'''\n",
    "\n",
    "    # Load the track and calculate the extra fields\n",
    "    track = loadCsv(filename)   \n",
    "    extras = calculateExtras(track)\n",
    "\n",
    "    # Find the start and the end of the fastest alpha\n",
    "    datetimes = extras['datetime']\n",
    "    idx1 = np.where(datetimes == np.datetime64('2022-04-04T12:55:25'))[0][0]\n",
    "    idx2 = np.where(datetimes == np.datetime64('2022-04-04T12:56:08'))[0][0]\n",
    "    \n",
    "    # Calculate the proximity between the two points\n",
    "    latitudes = extras['latitude']\n",
    "    longitudes = extras['longitude']\n",
    "    proximity = estimateProximity(latitudes[idx1], longitudes[idx1], latitudes[idx2], longitudes[idx2])\n",
    "    \n",
    "    print('Proximity = {:0.3f} metres'.format(proximity))"
   ]
  },
  {
   "cell_type": "markdown",
   "metadata": {},
   "source": [
    "## Run Tests"
   ]
  },
  {
   "cell_type": "code",
   "execution_count": 4,
   "metadata": {},
   "outputs": [
    {
     "name": "stdout",
     "output_type": "stream",
     "text": [
      "Proximity = 46.496 metres\n"
     ]
    }
   ],
   "source": [
    "if __name__ == '__main__':\n",
    "    processTrack(os.path.join(projdir, 'sessions', '20220404', '20220404-apex-pro.csv'))"
   ]
  },
  {
   "cell_type": "code",
   "execution_count": null,
   "metadata": {},
   "outputs": [],
   "source": []
  }
 ],
 "metadata": {
  "kernelspec": {
   "display_name": "Python 3 (ipykernel)",
   "language": "python",
   "name": "python3"
  },
  "language_info": {
   "codemirror_mode": {
    "name": "ipython",
    "version": 3
   },
   "file_extension": ".py",
   "mimetype": "text/x-python",
   "name": "python",
   "nbconvert_exporter": "python",
   "pygments_lexer": "ipython3",
   "version": "3.9.7"
  }
 },
 "nbformat": 4,
 "nbformat_minor": 2
}
