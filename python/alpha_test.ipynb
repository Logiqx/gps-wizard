{
 "cells": [
  {
   "cell_type": "markdown",
   "metadata": {},
   "source": [
    "# Alpha Test Harness\n",
    "\n",
    "Test ideas relating to alpha racing\n",
    "\n",
    "Created by Michael George (AKA Logiqx)\n",
    "\n",
    "Website: https://logiqx.github.io/gps-wizard/"
   ]
  },
  {
   "cell_type": "code",
   "execution_count": 1,
   "metadata": {},
   "outputs": [],
   "source": [
    "import os\n",
    "\n",
    "import numpy as np\n",
    "\n",
    "from math import pi, cos, sqrt\n",
    "\n",
    "from common_core import Printable, projdir, loadCsv"
   ]
  },
  {
   "cell_type": "markdown",
   "metadata": {},
   "source": [
    "## Proximity Testing\n",
    "\n",
    "Function to calculate the proximity between two points.\n",
    "\n",
    "See the 'haversine_vs_pythagoras' notebook for a full comparison of the Haversine Formula vs Pythagorean Theorem.\n",
    "\n",
    "The code here is very similar but makes use of pre-calculated cache values."
   ]
  },
  {
   "cell_type": "code",
   "execution_count": 2,
   "metadata": {},
   "outputs": [],
   "source": [
    "EARTH_RADIUS = 6371009\n",
    "\n",
    "\n",
    "def estimateProximity(longitudes, y_offsets, x_scales, i1, i2):\n",
    "    '''Estimate the Euclidean distance between two nearby points on a sphere using Pythagorean Theorem'''\n",
    "\n",
    "    # Calculate distance north / south\n",
    "    yDelta = y_offsets[i2] - y_offsets[i1]\n",
    "\n",
    "    # For the sake of completeness we need to cope with the points either side of the 180th meridian\n",
    "    longDelta = abs(longitudes[i2] - longitudes[i1])\n",
    "    if longDelta > pi:\n",
    "        longDelta -= 2 * pi\n",
    "\n",
    "    # Calculate distance east / west\n",
    "    xDelta = longDelta * x_scales[i2]\n",
    "\n",
    "    # Apply Pythagorean theorem to determine the distance\n",
    "    distance = sqrt(xDelta ** 2 + yDelta ** 2)\n",
    "\n",
    "    return distance"
   ]
  },
  {
   "cell_type": "markdown",
   "metadata": {},
   "source": [
    "## Process Track"
   ]
  },
  {
   "cell_type": "code",
   "execution_count": 3,
   "metadata": {},
   "outputs": [],
   "source": [
    "def processTrack(filename):\n",
    "    '''Process the track'''\n",
    "\n",
    "    # Load the track and calculate the extra fields\n",
    "    track = loadCsv(filename)\n",
    "    extras = calculateExtras(track)\n",
    "    \n",
    "    # Do a quick proximity test\n",
    "    proximityTest(track, extras)"
   ]
  },
  {
   "cell_type": "code",
   "execution_count": 4,
   "metadata": {},
   "outputs": [],
   "source": [
    "def calculateExtras(track):\n",
    "    '''Calculate all of the extra fields for the track. These fields can be calculated on a per-trackpoint basis.'''\n",
    "\n",
    "    extras = {}\n",
    "\n",
    "    # Convert timestamps into datetimes\n",
    "    extras['datetime'] = np.datetime64('1989-12-31T00:00') + track['timestamp'].astype('timedelta64[s]')\n",
    "    \n",
    "    # Convert latitude and longitude values from semicircles to radians\n",
    "    extras['latitude'] = np.radians(track['position_lat'] * (180.0 / 2 ** 31))\n",
    "    extras['longitude'] = np.radians(track['position_long'] * (180.0 / 2 ** 31))\n",
    "\n",
    "    # Calculate distance north / south of the equator (metres)\n",
    "    extras['y_offset'] = extras['latitude'] * EARTH_RADIUS\n",
    "\n",
    "    # Calculate the scaling factor for distances east / west of the primary meridian\n",
    "    extras['x_scale'] = EARTH_RADIUS * np.cos(extras['latitude'])\n",
    "    \n",
    "    # Calculate cumulative distance (m) using speed (m/s)\n",
    "    extras['total_distance'] = track['speed'].cumsum()\n",
    "    \n",
    "    return extras"
   ]
  },
  {
   "cell_type": "code",
   "execution_count": 5,
   "metadata": {},
   "outputs": [],
   "source": [
    "def proximityTest(track, extras):\n",
    "    '''Development / testing only - Do a quick proximity test for a known alpha in the track from 2022-04-04'''\n",
    "\n",
    "    # Avoid using the dictionary being accessed repeatedly\n",
    "    datetimes = extras['datetime']\n",
    "    latitudes = extras['latitude']\n",
    "    longitudes = extras['longitude']\n",
    "    y_offsets = extras['y_offset']\n",
    "    x_scales = extras['x_scale']\n",
    "    total_distances = extras['total_distance']\n",
    "\n",
    "    # Find the start and the end of the fastest alpha\n",
    "    i1 = np.where(datetimes == np.datetime64('2022-04-04T12:55:25'))[0][0]\n",
    "    i2 = np.where(datetimes == np.datetime64('2022-04-04T12:56:08'))[0][0]\n",
    "    \n",
    "    # Calculate the proximity between the two points\n",
    "    proximity = estimateProximity(longitudes, y_offsets, x_scales, i1, i2)\n",
    "    \n",
    "    print('Proximity = {:0.3f} metres'.format(proximity))"
   ]
  },
  {
   "cell_type": "markdown",
   "metadata": {},
   "source": [
    "## Run Tests"
   ]
  },
  {
   "cell_type": "code",
   "execution_count": 6,
   "metadata": {},
   "outputs": [
    {
     "name": "stdout",
     "output_type": "stream",
     "text": [
      "Proximity = 46.496 metres\n"
     ]
    }
   ],
   "source": [
    "if __name__ == '__main__':\n",
    "    processTrack(os.path.join(projdir, 'sessions', '20220404', '20220404-apex-pro.csv'))"
   ]
  },
  {
   "cell_type": "code",
   "execution_count": null,
   "metadata": {},
   "outputs": [],
   "source": []
  }
 ],
 "metadata": {
  "kernelspec": {
   "display_name": "Python 3 (ipykernel)",
   "language": "python",
   "name": "python3"
  },
  "language_info": {
   "codemirror_mode": {
    "name": "ipython",
    "version": 3
   },
   "file_extension": ".py",
   "mimetype": "text/x-python",
   "name": "python",
   "nbconvert_exporter": "python",
   "pygments_lexer": "ipython3",
   "version": "3.9.7"
  }
 },
 "nbformat": 4,
 "nbformat_minor": 2
}
