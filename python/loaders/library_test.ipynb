{
 "cells": [
  {
   "cell_type": "markdown",
   "metadata": {},
   "source": [
    "# Library Test Harness\n",
    "\n",
    "Quick test of gpxpy and fitparse, using [article](https://towardsdatascience.com/parsing-fitness-tracker-data-with-python-a59e7dc17418) for pointers.\n",
    "\n",
    "Created by Michael George (AKA Logiqx)\n",
    "\n",
    "Website: https://logiqx.github.io/gps-wizard/"
   ]
  },
  {
   "cell_type": "code",
   "execution_count": 1,
   "metadata": {},
   "outputs": [],
   "source": [
    "import os\n",
    "import pprint\n",
    "\n",
    "import fitdecode\n",
    "import gpxpy\n",
    "\n",
    "from common_core import Printable, projdir"
   ]
  },
  {
   "cell_type": "markdown",
   "metadata": {},
   "source": [
    "## FIT\n",
    "\n",
    "Uses [fitdecode](https://pypi.org/project/fitdecode/) as the parser."
   ]
  },
  {
   "cell_type": "code",
   "execution_count": 2,
   "metadata": {},
   "outputs": [],
   "source": [
    "def testFit():\n",
    "    '''FIT test'''\n",
    "    \n",
    "    filename = os.path.join(projdir, 'sessions', '20211020', 'Speedsurfing20211020115946.fit')\n",
    "    \n",
    "    definitionCounts = 0\n",
    "    definitionNames = {}\n",
    "    \n",
    "    dataCounts = 0\n",
    "    dataNames = {}\n",
    "    \n",
    "    dataRecordCount = 0\n",
    "    positionalCount = 0\n",
    "\n",
    "    with fitdecode.FitReader(filename) as fit:\n",
    "        for frame in fit:\n",
    "            if frame.frame_type == fitdecode.FIT_FRAME_DEFINITION:\n",
    "                definitionCounts += 1\n",
    "\n",
    "                if frame.name in definitionNames:\n",
    "                    definitionNames[frame.name] += 1\n",
    "                else:\n",
    "                    definitionNames[frame.name] = 1\n",
    "\n",
    "            elif frame.frame_type == fitdecode.FIT_FRAME_DATA:\n",
    "                dataCounts += 1\n",
    "\n",
    "                if frame.name in dataNames:\n",
    "                    dataNames[frame.name] += 1\n",
    "                else:\n",
    "                    dataNames[frame.name] = 1\n",
    "\n",
    "                if frame.name == 'record':\n",
    "                    dataRecordCount += 1\n",
    "                        \n",
    "                    if frame.has_field('position_lat') and frame.get_value('position_lat'):\n",
    "                        positionalCount += 1\n",
    "                   \n",
    "    pp = pprint.PrettyPrinter(indent=4)\n",
    "\n",
    "    print('FIT FIT_FRAME_DEFINITION\\n{}\\n'.format(pp.pformat(definitionNames)))\n",
    "\n",
    "    print('FIT FIT_FRAME_DATA\\n{}\\n'.format(pp.pformat(dataNames)))\n",
    "    \n",
    "    print('FIT data records = {}, positional records = {}'.format(dataRecordCount, positionalCount))"
   ]
  },
  {
   "cell_type": "code",
   "execution_count": 3,
   "metadata": {},
   "outputs": [
    {
     "name": "stderr",
     "output_type": "stream",
     "text": [
      "/opt/conda/lib/python3.9/site-packages/fitdecode/reader.py:909: UserWarning: 'field \"native_field_num\" (idx #0) not found in message \"field_description\"' (local_mesg_num: 0; chunk_offset: 198); adding dummy dev data...\n",
      "  warnings.warn(msg)\n",
      "/opt/conda/lib/python3.9/site-packages/fitdecode/reader.py:909: UserWarning: 'field \"native_field_num\" (idx #0) not found in message \"field_description\"' (local_mesg_num: 0; chunk_offset: 240); adding dummy dev data...\n",
      "  warnings.warn(msg)\n",
      "/opt/conda/lib/python3.9/site-packages/fitdecode/reader.py:909: UserWarning: 'field \"native_field_num\" (idx #0) not found in message \"field_description\"' (local_mesg_num: 0; chunk_offset: 291); adding dummy dev data...\n",
      "  warnings.warn(msg)\n",
      "/opt/conda/lib/python3.9/site-packages/fitdecode/reader.py:909: UserWarning: 'field \"native_field_num\" (idx #0) not found in message \"field_description\"' (local_mesg_num: 0; chunk_offset: 311); adding dummy dev data...\n",
      "  warnings.warn(msg)\n",
      "/opt/conda/lib/python3.9/site-packages/fitdecode/reader.py:909: UserWarning: 'field \"native_field_num\" (idx #0) not found in message \"field_description\"' (local_mesg_num: 0; chunk_offset: 331); adding dummy dev data...\n",
      "  warnings.warn(msg)\n",
      "/opt/conda/lib/python3.9/site-packages/fitdecode/reader.py:909: UserWarning: 'field \"native_field_num\" (idx #0) not found in message \"field_description\"' (local_mesg_num: 0; chunk_offset: 351); adding dummy dev data...\n",
      "  warnings.warn(msg)\n",
      "/opt/conda/lib/python3.9/site-packages/fitdecode/reader.py:909: UserWarning: 'field \"native_field_num\" (idx #0) not found in message \"field_description\"' (local_mesg_num: 0; chunk_offset: 371); adding dummy dev data...\n",
      "  warnings.warn(msg)\n"
     ]
    },
    {
     "name": "stdout",
     "output_type": "stream",
     "text": [
      "FIT FIT_FRAME_DEFINITION\n",
      "{   'activity': 1,\n",
      "    'developer_data_id': 1,\n",
      "    'device_info': 1,\n",
      "    'event': 4,\n",
      "    'field_description': 3,\n",
      "    'file_id': 1,\n",
      "    'record': 5,\n",
      "    'session': 1}\n",
      "\n",
      "FIT FIT_FRAME_DATA\n",
      "{   'activity': 1,\n",
      "    'developer_data_id': 1,\n",
      "    'device_info': 1,\n",
      "    'event': 4,\n",
      "    'field_description': 7,\n",
      "    'file_id': 1,\n",
      "    'record': 13107,\n",
      "    'session': 1}\n",
      "\n",
      "FIT data records = 13107, positional records = 9520\n"
     ]
    },
    {
     "name": "stderr",
     "output_type": "stream",
     "text": [
      "/opt/conda/lib/python3.9/site-packages/fitdecode/reader.py:584: UserWarning: invalid field size 1 in definition message @ 475889 for type uint32 (expected a multiple of 4)\n",
      "  warnings.warn(msg)\n"
     ]
    }
   ],
   "source": [
    "if __name__ == '__main__':\n",
    "    testFit()\n",
    "    pass"
   ]
  },
  {
   "cell_type": "markdown",
   "metadata": {},
   "source": [
    "## GPX\n",
    "\n",
    "Uses [gpxgy](https://pypi.org/project/gpxpy/) as the parser.\n",
    "\n",
    "Link to GPX 1.0 [XSD](https://www.topografix.com/gpx/1/0/gpx.xsd)"
   ]
  },
  {
   "cell_type": "code",
   "execution_count": 4,
   "metadata": {},
   "outputs": [],
   "source": [
    "def testGpx():\n",
    "    '''GPX test'''\n",
    "    \n",
    "    filename = os.path.join(projdir, 'sessions', '20211020', 'Speedsurfing20211020115946.gpx')\n",
    "    \n",
    "    with open(filename, 'r') as gpx_file:\n",
    "        gpx = gpxpy.parse(gpx_file)\n",
    "\n",
    "    trackPointsCount = 0\n",
    "    \n",
    "    counts = \\\n",
    "    {\n",
    "        'latitude': 0,\n",
    "        'longitude': 0,\n",
    "        'time': 0,\n",
    "        'speed': 0,\n",
    "        'satellites': 0,\n",
    "        'horizontal_dilution': 0,\n",
    "        'course': 0\n",
    "    }\n",
    "    \n",
    "    for track in gpx.tracks:\n",
    "        for segment in track.segments:\n",
    "            for point in segment.points:\n",
    "                trackPointsCount += 1\n",
    "                for item in counts:\n",
    "                    if hasattr(point, item):\n",
    "                        counts[item] += 1\n",
    "            \n",
    "    print('GPX points count = {}\\n'.format(trackPointsCount))\n",
    "    \n",
    "    pp = pprint.PrettyPrinter(indent=4)\n",
    "\n",
    "    print('GPX point attribute counts\\n{}'.format(pp.pformat(counts)))"
   ]
  },
  {
   "cell_type": "markdown",
   "metadata": {},
   "source": [
    "## Run Tests"
   ]
  },
  {
   "cell_type": "code",
   "execution_count": 5,
   "metadata": {},
   "outputs": [
    {
     "name": "stdout",
     "output_type": "stream",
     "text": [
      "GPX points count = 9520\n",
      "\n",
      "GPX point attribute counts\n",
      "{   'course': 9520,\n",
      "    'horizontal_dilution': 9520,\n",
      "    'latitude': 9520,\n",
      "    'longitude': 9520,\n",
      "    'satellites': 9520,\n",
      "    'speed': 9520,\n",
      "    'time': 9520}\n"
     ]
    }
   ],
   "source": [
    "if __name__ == '__main__':\n",
    "    testGpx()\n",
    "    pass"
   ]
  },
  {
   "cell_type": "code",
   "execution_count": null,
   "metadata": {},
   "outputs": [],
   "source": []
  }
 ],
 "metadata": {
  "kernelspec": {
   "display_name": "Python 3 (ipykernel)",
   "language": "python",
   "name": "python3"
  },
  "language_info": {
   "codemirror_mode": {
    "name": "ipython",
    "version": 3
   },
   "file_extension": ".py",
   "mimetype": "text/x-python",
   "name": "python",
   "nbconvert_exporter": "python",
   "pygments_lexer": "ipython3",
   "version": "3.9.7"
  }
 },
 "nbformat": 4,
 "nbformat_minor": 2
}
